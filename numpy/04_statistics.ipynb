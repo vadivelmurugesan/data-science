{
 "cells": [
  {
   "cell_type": "markdown",
   "metadata": {},
   "source": [
    "# Descriptive Statistics Using NumPy"
   ]
  },
  {
   "cell_type": "markdown",
   "metadata": {},
   "source": [
    "## Central Tendency"
   ]
  },
  {
   "cell_type": "code",
   "execution_count": 2,
   "metadata": {},
   "outputs": [],
   "source": [
    "# import required libraries\n",
    "import numpy as np\n",
    "from scipy import stats as st\n",
    "import seaborn as sns"
   ]
  },
  {
   "cell_type": "code",
   "execution_count": 3,
   "metadata": {},
   "outputs": [
    {
     "name": "stdout",
     "output_type": "stream",
     "text": [
      "               pickup             dropoff  passengers  distance  fare   tip  \\\n",
      "0 2019-03-23 20:21:09 2019-03-23 20:27:24           1      1.60   7.0  2.15   \n",
      "1 2019-03-04 16:11:55 2019-03-04 16:19:00           1      0.79   5.0  0.00   \n",
      "2 2019-03-27 17:53:01 2019-03-27 18:00:25           1      1.37   7.5  2.36   \n",
      "3 2019-03-10 01:23:59 2019-03-10 01:49:51           1      7.70  27.0  6.15   \n",
      "4 2019-03-30 13:27:42 2019-03-30 13:37:14           3      2.16   9.0  1.10   \n",
      "\n",
      "   tolls  total   color      payment            pickup_zone  \\\n",
      "0    0.0  12.95  yellow  credit card        Lenox Hill West   \n",
      "1    0.0   9.30  yellow         cash  Upper West Side South   \n",
      "2    0.0  14.16  yellow  credit card          Alphabet City   \n",
      "3    0.0  36.95  yellow  credit card              Hudson Sq   \n",
      "4    0.0  13.40  yellow  credit card           Midtown East   \n",
      "\n",
      "            dropoff_zone pickup_borough dropoff_borough  \n",
      "0    UN/Turtle Bay South      Manhattan       Manhattan  \n",
      "1  Upper West Side South      Manhattan       Manhattan  \n",
      "2           West Village      Manhattan       Manhattan  \n",
      "3         Yorkville West      Manhattan       Manhattan  \n",
      "4         Yorkville West      Manhattan       Manhattan  \n",
      "Mean of Fare: $13.091072594434944\n",
      "Median of Fare: $9.5\n",
      "Mode of Fare: $7.5\n"
     ]
    }
   ],
   "source": [
    "taxis_dataset = sns.load_dataset('taxis')\n",
    "print(taxis_dataset.head())\n",
    "\n",
    "# Calculate Basic Statistics \n",
    "# Central Tendancy - Mean, Median and Mode\n",
    "# Mean - Average of Given Values\n",
    "mean_fare = np.mean(taxis_dataset[\"fare\"])\n",
    "print(f\"Mean of Fare: ${mean_fare}\")\n",
    "# Median - Middle value of Sorted Values\n",
    "median_fare = np.median(taxis_dataset[\"fare\"])\n",
    "print(f\"Median of Fare: ${median_fare}\")\n",
    "# Mode - Most Frequency Occuring Value\n",
    "mode_fare = st.mode(taxis_dataset[\"fare\"])[0]\n",
    "print(f\"Mode of Fare: ${mode_fare}\")"
   ]
  },
  {
   "cell_type": "code",
   "execution_count": 4,
   "metadata": {},
   "outputs": [
    {
     "name": "stdout",
     "output_type": "stream",
     "text": [
      "Standard Deviation of Fare is 11.550906376376894\n"
     ]
    }
   ],
   "source": [
    "# Standard Deviation - Measures how much the values in the dataset vary around the mean\n",
    "\n",
    "std_deviation_fare = np.std(taxis_dataset[\"fare\"])\n",
    "print(f\"Standard Deviation of Fare is {std_deviation_fare}\")"
   ]
  },
  {
   "cell_type": "markdown",
   "metadata": {},
   "source": [
    "### Quartile and Percentails"
   ]
  },
  {
   "cell_type": "code",
   "execution_count": 7,
   "metadata": {},
   "outputs": [
    {
     "name": "stdout",
     "output_type": "stream",
     "text": [
      "Total Percentail of Fare is 52.0\n",
      "Second Quartile of Fare is 9.5\n",
      "Third Quartile of Fare is 15.0\n"
     ]
    }
   ],
   "source": [
    "# Quartile and Percentail of Fare using Num Py\n",
    "\n",
    "percentail_fare = np.percentile(taxis_dataset[\"fare\"].dropna(), 99)\n",
    "print(f'Total Percentail of Fare is {percentail_fare}')\n",
    "\n",
    "quartile2_fare = np.percentile(taxis_dataset[\"fare\"].dropna(), 50)\n",
    "print(f'Second Quartile of Fare is {quartile2_fare}')\n",
    "\n",
    "quartile3_fare = np.percentile(taxis_dataset[\"fare\"].dropna(), 75)\n",
    "print(f'Third Quartile of Fare is {quartile3_fare}')\n"
   ]
  },
  {
   "cell_type": "code",
   "execution_count": null,
   "metadata": {},
   "outputs": [],
   "source": []
  }
 ],
 "metadata": {
  "kernelspec": {
   "display_name": "Python 3",
   "language": "python",
   "name": "python3"
  },
  "language_info": {
   "codemirror_mode": {
    "name": "ipython",
    "version": 3
   },
   "file_extension": ".py",
   "mimetype": "text/x-python",
   "name": "python",
   "nbconvert_exporter": "python",
   "pygments_lexer": "ipython3",
   "version": "3.12.1"
  }
 },
 "nbformat": 4,
 "nbformat_minor": 2
}
