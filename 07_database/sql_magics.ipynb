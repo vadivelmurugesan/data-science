{
 "cells": [
  {
   "cell_type": "markdown",
   "metadata": {},
   "source": [
    "### SQL Magic"
   ]
  },
  {
   "cell_type": "code",
   "execution_count": 3,
   "metadata": {},
   "outputs": [],
   "source": [
    "%pip install ipython-sql"
   ]
  },
  {
   "cell_type": "code",
   "execution_count": 4,
   "metadata": {},
   "outputs": [],
   "source": [
    "%load_ext sql"
   ]
  },
  {
   "cell_type": "code",
   "execution_count": 10,
   "metadata": {},
   "outputs": [],
   "source": [
    "import sqlite3\n",
    "import csv\n",
    "\n",
    "conn = sqlite3.connect(':memory:')\n",
    "cur = conn.cursor()"
   ]
  },
  {
   "cell_type": "code",
   "execution_count": 11,
   "metadata": {},
   "outputs": [
    {
     "name": "stdout",
     "output_type": "stream",
     "text": [
      " * sqlite:///students.db\n",
      "Done.\n",
      "1 rows affected.\n",
      "1 rows affected.\n",
      "1 rows affected.\n",
      "1 rows affected.\n",
      "1 rows affected.\n",
      "1 rows affected.\n",
      "1 rows affected.\n",
      "1 rows affected.\n",
      "1 rows affected.\n",
      "1 rows affected.\n",
      "1 rows affected.\n",
      "1 rows affected.\n",
      "1 rows affected.\n",
      "1 rows affected.\n",
      "1 rows affected.\n",
      "1 rows affected.\n",
      "1 rows affected.\n",
      "1 rows affected.\n",
      "1 rows affected.\n",
      "1 rows affected.\n"
     ]
    },
    {
     "data": {
      "text/plain": [
       "[]"
      ]
     },
     "execution_count": 11,
     "metadata": {},
     "output_type": "execute_result"
    }
   ],
   "source": [
    "%%sql\n",
    "create table students (\n",
    "    ID int,\n",
    "    Name varchar(255),\n",
    "    Age int,\n",
    "    Grade char(1),\n",
    "    Email varchar(255)\n",
    ");\n",
    "\n",
    "insert into students values (1, 'Alice', 20, 'A', ' [email protected]'); \n",
    "insert into students values (2, 'Bob', 21, 'B', ' [email protected]');\n",
    "insert into students values (3, 'Charlie', 22, 'A', ' [email protected]');\n",
    "insert into students values (4, 'David', 23, 'B', ' [email protected]');\n",
    "insert into students values (5, 'Eve', 24, 'B', ' [email protected]');\n",
    "insert into students values (6, 'Frank', 25, 'B', ' [email protected]');\n",
    "insert into students values (7, 'Grace', 26, 'F', ' [email protected]');\n",
    "insert into students values (8, 'Helen', 27, 'F', ' [email protected]');\n",
    "insert into students values (9, 'Ivy', 28, 'A', ' [email protected]');\n",
    "insert into students values (10, 'Jack', 29, 'B', ' [email protected]');\n",
    "insert into students values (11, 'Kate', 30, 'B', ' [email protected]');\n",
    "insert into students values (12, 'Leo', 31, 'F', ' [email protected]');\n",
    "insert into students values (13, 'Mia', 32, 'F', ' [email protected]');\n",
    "insert into students values (14, 'Nina', 33, 'A', ' [email protected]');\n",
    "insert into students values (15, 'Oscar', 34, 'B', ' [email protected]');\n",
    "insert into students values (16, 'Peter', 35, 'B', ' [email protected]');\n",
    "insert into students values (17, 'Queen', 36, 'F', ' [email protected]');\n",
    "insert into students values (18, 'Rose', 37, 'F', ' [email protected]');\n",
    "insert into students values (19, 'Sam', 38, 'A', ' [email protected]');\n",
    "insert into students values (20, 'Tom', 39, 'B', ' [email protected]');"
   ]
  },
  {
   "cell_type": "code",
   "execution_count": 6,
   "metadata": {},
   "outputs": [],
   "source": [
    "%sql sqlite:///students.db"
   ]
  },
  {
   "cell_type": "code",
   "execution_count": 12,
   "metadata": {},
   "outputs": [],
   "source": [
    "import prettytable\n",
    "\n",
    "prettytable.DEFAULT = 'DEFAULT'"
   ]
  },
  {
   "cell_type": "code",
   "execution_count": 13,
   "metadata": {},
   "outputs": [
    {
     "name": "stdout",
     "output_type": "stream",
     "text": [
      " * sqlite:///students.db\n",
      "Done.\n"
     ]
    },
    {
     "data": {
      "text/html": [
       "<table>\n",
       "    <thead>\n",
       "        <tr>\n",
       "            <th>ID</th>\n",
       "            <th>Name</th>\n",
       "            <th>Age</th>\n",
       "            <th>Grade</th>\n",
       "            <th>Email</th>\n",
       "        </tr>\n",
       "    </thead>\n",
       "    <tbody>\n",
       "        <tr>\n",
       "            <td>1</td>\n",
       "            <td>Alice</td>\n",
       "            <td>20</td>\n",
       "            <td>A</td>\n",
       "            <td> [email protected]</td>\n",
       "        </tr>\n",
       "        <tr>\n",
       "            <td>3</td>\n",
       "            <td>Charlie</td>\n",
       "            <td>22</td>\n",
       "            <td>A</td>\n",
       "            <td> [email protected]</td>\n",
       "        </tr>\n",
       "        <tr>\n",
       "            <td>9</td>\n",
       "            <td>Ivy</td>\n",
       "            <td>28</td>\n",
       "            <td>A</td>\n",
       "            <td> [email protected]</td>\n",
       "        </tr>\n",
       "        <tr>\n",
       "            <td>14</td>\n",
       "            <td>Nina</td>\n",
       "            <td>33</td>\n",
       "            <td>A</td>\n",
       "            <td> [email protected]</td>\n",
       "        </tr>\n",
       "        <tr>\n",
       "            <td>19</td>\n",
       "            <td>Sam</td>\n",
       "            <td>38</td>\n",
       "            <td>A</td>\n",
       "            <td> [email protected]</td>\n",
       "        </tr>\n",
       "    </tbody>\n",
       "</table>"
      ],
      "text/plain": [
       "[(1, 'Alice', 20, 'A', ' [email protected]'),\n",
       " (3, 'Charlie', 22, 'A', ' [email protected]'),\n",
       " (9, 'Ivy', 28, 'A', ' [email protected]'),\n",
       " (14, 'Nina', 33, 'A', ' [email protected]'),\n",
       " (19, 'Sam', 38, 'A', ' [email protected]')]"
      ]
     },
     "execution_count": 13,
     "metadata": {},
     "output_type": "execute_result"
    }
   ],
   "source": [
    "grade = 'A'\n",
    "%sql select * from students where Grade = :grade"
   ]
  },
  {
   "cell_type": "code",
   "execution_count": 16,
   "metadata": {},
   "outputs": [
    {
     "name": "stdout",
     "output_type": "stream",
     "text": [
      " * sqlite:///students.db\n",
      "Done.\n"
     ]
    },
    {
     "data": {
      "text/html": [
       "<div>\n",
       "<style scoped>\n",
       "    .dataframe tbody tr th:only-of-type {\n",
       "        vertical-align: middle;\n",
       "    }\n",
       "\n",
       "    .dataframe tbody tr th {\n",
       "        vertical-align: top;\n",
       "    }\n",
       "\n",
       "    .dataframe thead th {\n",
       "        text-align: right;\n",
       "    }\n",
       "</style>\n",
       "<table border=\"1\" class=\"dataframe\">\n",
       "  <thead>\n",
       "    <tr style=\"text-align: right;\">\n",
       "      <th></th>\n",
       "      <th>Grade</th>\n",
       "      <th>Count</th>\n",
       "    </tr>\n",
       "  </thead>\n",
       "  <tbody>\n",
       "    <tr>\n",
       "      <th>0</th>\n",
       "      <td>A</td>\n",
       "      <td>5</td>\n",
       "    </tr>\n",
       "    <tr>\n",
       "      <th>1</th>\n",
       "      <td>B</td>\n",
       "      <td>9</td>\n",
       "    </tr>\n",
       "    <tr>\n",
       "      <th>2</th>\n",
       "      <td>F</td>\n",
       "      <td>6</td>\n",
       "    </tr>\n",
       "  </tbody>\n",
       "</table>\n",
       "</div>"
      ],
      "text/plain": [
       "  Grade  Count\n",
       "0     A      5\n",
       "1     B      9\n",
       "2     F      6"
      ]
     },
     "execution_count": 16,
     "metadata": {},
     "output_type": "execute_result"
    }
   ],
   "source": [
    "grade_distribution = %sql select Grade, count(*) as Count from students group by Grade;\n",
    "grade_distribution_df = grade_distribution.DataFrame()\n",
    "grade_distribution_df"
   ]
  },
  {
   "cell_type": "code",
   "execution_count": 18,
   "metadata": {},
   "outputs": [
    {
     "data": {
      "image/png": "[encoded data removed]",
      "text/plain": [
       "<Figure size 640x480 with 1 Axes>"
      ]
     },
     "metadata": {},
     "output_type": "display_data"
    }
   ],
   "source": [
    "import seaborn as sns\n",
    "import matplotlib.pyplot as plt\n",
    "\n",
    "sns.barplot(x='Grade', y='Count', data=grade_distribution_df)\n",
    "plt.title('Grade Distribution')\n",
    "plt.show()"
   ]
  },
  {
   "cell_type": "code",
   "execution_count": 20,
   "metadata": {},
   "outputs": [],
   "source": [
    "conn.close()"
   ]
  }
 ],
 "metadata": {
  "kernelspec": {
   "display_name": "Python 3",
   "language": "python",
   "name": "python3"
  },
  "language_info": {
   "codemirror_mode": {
    "name": "ipython",
    "version": 3
   },
   "file_extension": ".py",
   "mimetype": "text/x-python",
   "name": "python",
   "nbconvert_exporter": "python",
   "pygments_lexer": "ipython3",
   "version": "3.12.0"
  }
 },
 "nbformat": 4,
 "nbformat_minor": 2
}
