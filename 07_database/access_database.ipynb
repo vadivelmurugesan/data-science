{
 "cells": [
  {
   "cell_type": "markdown",
   "metadata": {},
   "source": [
    "## Create and Access SQLLite Database using Python"
   ]
  },
  {
   "cell_type": "markdown",
   "metadata": {},
   "source": [
    "### Create a database using SQLLite "
   ]
  },
  {
   "cell_type": "code",
   "execution_count": 7,
   "metadata": {},
   "outputs": [],
   "source": [
    "import sqlite3"
   ]
  },
  {
   "cell_type": "code",
   "execution_count": 2,
   "metadata": {},
   "outputs": [],
   "source": [
    "connection = sqlite3.connect('data.db')"
   ]
  },
  {
   "cell_type": "code",
   "execution_count": 3,
   "metadata": {},
   "outputs": [],
   "source": [
    "# cursor object is used to interact with the database\n",
    "cursor = connection.cursor()"
   ]
  },
  {
   "cell_type": "markdown",
   "metadata": {},
   "source": [
    "### Create Table"
   ]
  },
  {
   "cell_type": "code",
   "execution_count": 4,
   "metadata": {},
   "outputs": [
    {
     "data": {
      "text/plain": [
       "<sqlite3.Cursor at 0x10c6a64c0>"
      ]
     },
     "execution_count": 4,
     "metadata": {},
     "output_type": "execute_result"
    }
   ],
   "source": [
    "table_create = \"CREATE TABLE IF NOT EXISTS students (id INTEGER PRIMARY KEY, name TEXT, age INTEGER, department TEXT, address TEXT)\"\n",
    "\n",
    "cursor.execute(table_create)"
   ]
  },
  {
   "cell_type": "markdown",
   "metadata": {},
   "source": [
    "### Insert Values into table"
   ]
  },
  {
   "cell_type": "code",
   "execution_count": 5,
   "metadata": {},
   "outputs": [
    {
     "data": {
      "text/plain": [
       "<sqlite3.Cursor at 0x10c6a64c0>"
      ]
     },
     "execution_count": 5,
     "metadata": {},
     "output_type": "execute_result"
    }
   ],
   "source": [
    "cursor.execute(\"INSERT INTO students VALUES (1, 'John', 22, 'Computer Science', '123 Main St.')\")\n",
    "cursor.execute(\"INSERT INTO students VALUES (2, 'Jane', 21, 'Mathematics', '456 Elm St.')\")\n",
    "cursor.execute(\"INSERT INTO students VALUES (3, 'Joe', 23, 'Physics', '789 Oak St.')\")\n",
    "cursor.execute(\"INSERT INTO students VALUES (4, 'Jill', 24, 'Chemistry', '101 Pine St.')\")\n",
    "cursor.execute(\"INSERT INTO students VALUES (5, 'Jack', 25, 'Biology', '202 Maple St.')\")"
   ]
  },
  {
   "cell_type": "code",
   "execution_count": 15,
   "metadata": {},
   "outputs": [
    {
     "data": {
      "text/plain": [
       "[(1, 'John', 26, 'Computer Science', '123 Main St.'),\n",
       " (2, 'Jane', 21, 'Mathematics', '456 Elm St.'),\n",
       " (3, 'Joe', 23, 'Physics', '789 Oak St.'),\n",
       " (4, 'Jill', 24, 'Chemistry', '101 Pine St.'),\n",
       " (5, 'Jack', 25, 'Biology', '202 Maple St.')]"
      ]
     },
     "execution_count": 15,
     "metadata": {},
     "output_type": "execute_result"
    }
   ],
   "source": [
    "statement = \"SELECT * FROM students\"\n",
    "cursor.execute(statement)\n",
    "\n",
    "# fetchall() method returns a list of tuples\n",
    "# each tuple represents a row in the table\n",
    "rows = cursor.fetchall()\n",
    "\n",
    "rows\n",
    "\n"
   ]
  },
  {
   "cell_type": "code",
   "execution_count": 14,
   "metadata": {},
   "outputs": [
    {
     "data": {
      "text/plain": [
       "[(1, 'John', 26, 'Computer Science', '123 Main St.'),\n",
       " (2, 'Jane', 21, 'Mathematics', '456 Elm St.'),\n",
       " (3, 'Joe', 23, 'Physics', '789 Oak St.'),\n",
       " (4, 'Jill', 24, 'Chemistry', '101 Pine St.'),\n",
       " (5, 'Jack', 25, 'Biology', '202 Maple St.')]"
      ]
     },
     "execution_count": 14,
     "metadata": {},
     "output_type": "execute_result"
    }
   ],
   "source": [
    "##\n",
    "\n",
    "update_statement = \"UPDATE students SET age = 26 WHERE name = 'John'\"\n",
    "\n",
    "cursor.execute(update_statement)\n",
    "\n",
    "statement = \"SELECT * FROM students\"\n",
    "cursor.execute(statement)\n",
    "\n",
    "rows = cursor.fetchall()\n",
    "rows"
   ]
  },
  {
   "cell_type": "markdown",
   "metadata": {},
   "source": [
    "### Pandas and Database"
   ]
  },
  {
   "cell_type": "code",
   "execution_count": 19,
   "metadata": {},
   "outputs": [
    {
     "data": {
      "text/html": [
       "<div>\n",
       "<style scoped>\n",
       "    .dataframe tbody tr th:only-of-type {\n",
       "        vertical-align: middle;\n",
       "    }\n",
       "\n",
       "    .dataframe tbody tr th {\n",
       "        vertical-align: top;\n",
       "    }\n",
       "\n",
       "    .dataframe thead th {\n",
       "        text-align: right;\n",
       "    }\n",
       "</style>\n",
       "<table border=\"1\" class=\"dataframe\">\n",
       "  <thead>\n",
       "    <tr style=\"text-align: right;\">\n",
       "      <th></th>\n",
       "      <th>id</th>\n",
       "      <th>name</th>\n",
       "      <th>age</th>\n",
       "      <th>department</th>\n",
       "      <th>address</th>\n",
       "    </tr>\n",
       "  </thead>\n",
       "  <tbody>\n",
       "    <tr>\n",
       "      <th>0</th>\n",
       "      <td>1</td>\n",
       "      <td>John</td>\n",
       "      <td>26</td>\n",
       "      <td>Computer Science</td>\n",
       "      <td>123 Main St.</td>\n",
       "    </tr>\n",
       "    <tr>\n",
       "      <th>1</th>\n",
       "      <td>3</td>\n",
       "      <td>Joe</td>\n",
       "      <td>23</td>\n",
       "      <td>Physics</td>\n",
       "      <td>789 Oak St.</td>\n",
       "    </tr>\n",
       "    <tr>\n",
       "      <th>2</th>\n",
       "      <td>4</td>\n",
       "      <td>Jill</td>\n",
       "      <td>24</td>\n",
       "      <td>Chemistry</td>\n",
       "      <td>101 Pine St.</td>\n",
       "    </tr>\n",
       "    <tr>\n",
       "      <th>3</th>\n",
       "      <td>5</td>\n",
       "      <td>Jack</td>\n",
       "      <td>25</td>\n",
       "      <td>Biology</td>\n",
       "      <td>202 Maple St.</td>\n",
       "    </tr>\n",
       "  </tbody>\n",
       "</table>\n",
       "</div>"
      ],
      "text/plain": [
       "   id  name  age        department        address\n",
       "0   1  John   26  Computer Science   123 Main St.\n",
       "1   3   Joe   23           Physics    789 Oak St.\n",
       "2   4  Jill   24         Chemistry   101 Pine St.\n",
       "3   5  Jack   25           Biology  202 Maple St."
      ]
     },
     "execution_count": 19,
     "metadata": {},
     "output_type": "execute_result"
    }
   ],
   "source": [
    "import pandas as pd\n",
    "\n",
    "statement = \"SELECT * FROM students where age > 22\"\n",
    "df = pd.read_sql_query(statement, connection)\n",
    "\n",
    "df"
   ]
  },
  {
   "cell_type": "markdown",
   "metadata": {},
   "source": [
    "### Close Connection"
   ]
  },
  {
   "cell_type": "code",
   "execution_count": 22,
   "metadata": {},
   "outputs": [],
   "source": [
    "cursor.close()\n",
    "connection.close()"
   ]
  }
 ],
 "metadata": {
  "kernelspec": {
   "display_name": "Python 3",
   "language": "python",
   "name": "python3"
  },
  "language_info": {
   "codemirror_mode": {
    "name": "ipython",
    "version": 3
   },
   "file_extension": ".py",
   "mimetype": "text/x-python",
   "name": "python",
   "nbconvert_exporter": "python",
   "pygments_lexer": "ipython3",
   "version": "3.undefined.undefined"
  }
 },
 "nbformat": 4,
 "nbformat_minor": 2
}
