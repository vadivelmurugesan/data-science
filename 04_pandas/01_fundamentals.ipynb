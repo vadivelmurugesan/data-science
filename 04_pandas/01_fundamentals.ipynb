{
 "cells": [
  {
   "cell_type": "markdown",
   "metadata": {},
   "source": [
    "## Fundamentals"
   ]
  },
  {
   "cell_type": "markdown",
   "metadata": {},
   "source": [
    "### Pandas Library\n",
    "\n",
    "Pandas is a powerful and flexible open-source data analysis and manipulation library for Python. It provides data structures and functions needed to manipulate structured data seamlessly. The primary data structures in Pandas are `Series` (one-dimensional) and `DataFrame` (two-dimensional).\n",
    "\n",
    "#### Key Features:\n",
    "- **DataFrame Object**: A two-dimensional, size-mutable, and potentially heterogeneous tabular data structure with labeled axes (rows and columns).\n",
    "- **Data Alignment**: Automatic and explicit data alignment, making it easy to work with incomplete or missing data.\n",
    "- **Data Cleaning**: Tools for loading data from different file formats (CSV, Excel, SQL, etc.) and handling missing data.\n",
    "- **Data Transformation**: Functions for merging, reshaping, selecting, and manipulating data.\n",
    "- **Data Aggregation**: Group by functionality for performing split-apply-combine operations on data sets.\n",
    "- **Time Series**: Powerful tools for working with time series data, including date range generation and frequency conversion.\n",
    "\n",
    "#### Usage:\n",
    "1. **Importing Pandas**:\n",
    "    ```python\n",
    "    import pandas as pd\n",
    "    ```\n",
    "\n",
    "2. **Creating a DataFrame**:\n",
    "    ```python\n",
    "    data = {'Name': ['Alice', 'Bob', 'Charlie'], 'Age': [25, 30, 35], 'Gender': ['F', 'M', 'M']}\n",
    "    df = pd.DataFrame(data)\n",
    "    ```\n",
    "\n",
    "3. **Reading Data from a CSV File**:\n",
    "    ```python\n",
    "    df = pd.read_csv('path_to_file.csv')\n",
    "    ```\n",
    "\n",
    "4. **Displaying the First Few Rows**:\n",
    "    ```python\n",
    "    print(df.head())\n",
    "    ```\n",
    "\n",
    "5. **Basic DataFrame Operations**:\n",
    "    - **Selecting Columns**:\n",
    "        ```python\n",
    "        df['Name']\n",
    "        ```\n",
    "    - **Filtering Rows**:\n",
    "        ```python\n",
    "        df[df['Age'] > 30]\n",
    "        ```\n",
    "    - **Adding a New Column**:\n",
    "        ```python\n",
    "        df['AgePlusOne'] = df['Age'] + 1\n",
    "        ```\n",
    "\n",
    "6. **Group By and Aggregation**:\n",
    "    ```python\n",
    "    df.groupby('Gender').mean()\n",
    "    ```\n",
    "\n",
    "Pandas is an essential tool for data scientists and analysts, providing robust functionality for data manipulation and analysis."
   ]
  },
  {
   "cell_type": "markdown",
   "metadata": {},
   "source": [
    "### Import Library"
   ]
  },
  {
   "cell_type": "code",
   "execution_count": 5,
   "metadata": {},
   "outputs": [],
   "source": [
    "import pandas as pd"
   ]
  },
  {
   "cell_type": "markdown",
   "metadata": {},
   "source": [
    "### Data Loading"
   ]
  },
  {
   "cell_type": "code",
   "execution_count": 6,
   "metadata": {},
   "outputs": [
    {
     "name": "stdout",
     "output_type": "stream",
     "text": [
      "   PatientID FirstName LastName DateOfBirth  Gender ContactNumber  \\\n",
      "0          1      John      Doe  1985-05-15    Male      555-1234   \n",
      "1          2      Jane    Smith  1990-08-22  Female      555-5678   \n",
      "2          3     Emily    Jones  1975-11-30  Female      555-8765   \n",
      "3          4   Michael    Brown  1982-02-14    Male      555-4321   \n",
      "4          5   Jessica  Johnson  2000-07-07  Female      555-6789   \n",
      "\n",
      "                         Email       Address     City State  ZipCode  \\\n",
      "0         john.doe@example.com   123 Main St  Anytown    CA    12345   \n",
      "1       jane.smith@example.com    456 Oak St  Anytown    CA    12345   \n",
      "2      emily.jones@example.com   789 Pine St  Anytown    CA    12345   \n",
      "3    michael.brown@example.com  321 Maple St  Anytown    CA    12345   \n",
      "4  jessica.johnson@example.com  654 Cedar St  Anytown    CA    12345   \n",
      "\n",
      "  DateOfAdmission     Diagnosis  \n",
      "0      2023-01-10           Flu  \n",
      "1      2023-02-15    Broken Arm  \n",
      "2      2023-03-20      Diabetes  \n",
      "3      2023-04-25  Hypertension  \n",
      "4      2023-05-30        Asthma  \n"
     ]
    }
   ],
   "source": [
    "# Read a CSV file into a DataFrame\n",
    "df = pd.read_csv('04_pandas/sample.csv')\n",
    "\n",
    "# Display the first few rows of the DataFrame\n",
    "print(df.head())"
   ]
  },
  {
   "cell_type": "markdown",
   "metadata": {},
   "source": [
    "### Series\n",
    "\n",
    "A series is a one-dimensional labeled array in pandas."
   ]
  },
  {
   "cell_type": "code",
   "execution_count": 7,
   "metadata": {},
   "outputs": [
    {
     "name": "stdout",
     "output_type": "stream",
     "text": [
      "0    1\n",
      "1    2\n",
      "2    3\n",
      "3    4\n",
      "4    5\n",
      "dtype: int64\n"
     ]
    }
   ],
   "source": [
    "### Create a series from a list\n",
    "data = [1, 2, 3, 4, 5]\n",
    "s = pd.Series(data)\n",
    "print(s)"
   ]
  },
  {
   "cell_type": "markdown",
   "metadata": {},
   "source": [
    "### Series Attributes and Methods\n",
    "\n",
    "Pandas Series is a one-dimensional labeled array capable of holding any data type. It has various attributes and methods that allow for easy manipulation and analysis of the data.\n",
    "\n",
    "#### Attributes:\n",
    "1. **`index`**: The index (axis labels) of the Series.\n",
    "    ```python\n",
    "    s.index\n",
    "    ```\n",
    "\n",
    "2. **`values`**: The values of the Series.\n",
    "    ```python\n",
    "    s.values\n",
    "    ```\n",
    "\n",
    "3. **`dtype`**: The data type of the Series.\n",
    "    ```python\n",
    "    s.dtype\n",
    "    ```\n",
    "\n",
    "4. **`name`**: The name of the Series.\n",
    "    ```python\n",
    "    s.name\n",
    "    ```\n",
    "\n",
    "5. **`size`**: The number of elements in the Series.\n",
    "    ```python\n",
    "    s.size\n",
    "    ```\n",
    "\n",
    "6. **`shape`**: The shape of the Series.\n",
    "    ```python\n",
    "    s.shape\n",
    "    ```\n",
    "\n",
    "#### Methods:\n",
    "1. **`head(n)`**: Returns the first `n` elements of the Series.\n",
    "    ```python\n",
    "    s.head(3)\n",
    "    ```\n",
    "\n",
    "2. **`tail(n)`**: Returns the last `n` elements of the Series.\n",
    "    ```python\n",
    "    s.tail(3)\n",
    "    ```\n",
    "\n",
    "3. **`describe()`**: Generates descriptive statistics of the Series.\n",
    "    ```python\n",
    "    s.describe()\n",
    "    ```\n",
    "\n",
    "4. **`mean()`**: Returns the mean of the Series.\n",
    "    ```python\n",
    "    s.mean()\n",
    "    ```\n",
    "\n",
    "5. **`sum()`**: Returns the sum of the Series.\n",
    "    ```python\n",
    "    s.sum()\n",
    "    ```\n",
    "\n",
    "6. **`unique()`**: Returns the unique values in the Series.\n",
    "    ```python\n",
    "    s.unique()\n",
    "    ```\n",
    "\n",
    "7. **`value_counts()`**: Returns a Series containing counts of unique values.\n",
    "    ```python\n",
    "    s.value_counts()\n",
    "    ```\n",
    "\n",
    "8. **`apply(func)`**: Applies a function to each element in the Series.\n",
    "    ```python\n",
    "    s.apply(lambda x: x * 2)\n",
    "    ```\n",
    "\n",
    "9. **`map(func)`**: Maps a function to each element in the Series.\n",
    "    ```python\n",
    "    s.map(lambda x: x * 2)\n",
    "    ```\n",
    "\n",
    "10. **`sort_values()`**: Sorts the Series by its values.\n",
    "    ```python\n",
    "    s.sort_values()\n",
    "    ```\n",
    "\n",
    "11. **`sort_index()`**: Sorts the Series by its index.\n",
    "    ```python\n",
    "    s.sort_index()\n",
    "    ```\n",
    "\n",
    "12. **`dropna()`**: Returns a Series with missing values removed.\n",
    "    ```python\n",
    "    s.dropna()\n",
    "    ```\n",
    "\n",
    "13. **`fillna(value)`**: Fills missing values with the specified value.\n",
    "    ```python\n",
    "    s.fillna(0)\n",
    "    ```\n",
    "\n",
    "14. **`astype(dtype)`**: Casts the Series to the specified data type.\n",
    "    ```python\n",
    "    s.astype(float)\n",
    "    ```\n",
    "\n",
    "These attributes and methods make it easy to manipulate and analyze data in a Pandas Series."
   ]
  },
  {
   "cell_type": "markdown",
   "metadata": {},
   "source": []
  }
 ],
 "metadata": {
  "kernelspec": {
   "display_name": "Python 3 (ipykernel)",
   "language": "python",
   "name": "python3"
  },
  "language_info": {
   "codemirror_mode": {
    "name": "ipython",
    "version": 3
   },
   "file_extension": ".py",
   "mimetype": "text/x-python",
   "name": "python",
   "nbconvert_exporter": "python",
   "pygments_lexer": "ipython3",
   "version": "3.12.0"
  }
 },
 "nbformat": 4,
 "nbformat_minor": 2
}
