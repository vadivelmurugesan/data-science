{
 "cells": [
  {
   "cell_type": "markdown",
   "metadata": {},
   "source": [
    "## Requests"
   ]
  },
  {
   "cell_type": "code",
   "execution_count": null,
   "metadata": {},
   "outputs": [
    {
     "name": "stdout",
     "output_type": "stream",
     "text": [
      "Status Code 200\n",
      "Request Headers {'User-Agent': 'python-requests/2.31.0', 'Accept-Encoding': 'gzip, deflate', 'Accept': '*/*', 'Connection': 'keep-alive'}\n",
      "Response Headers {'Date': 'Sun, 26 Jan 2025 15:39:14 GMT', 'Expires': '-1', 'Cache-Control': 'private, max-age=0', 'Content-Type': 'text/html; charset=ISO-8859-1', 'Content-Security-Policy-Report-Only': \"object-src 'none';base-uri 'self';script-src 'nonce-sE1S-lbXrCyx1ZyU_Vs3NA' 'strict-dynamic' 'report-sample' 'unsafe-eval' 'unsafe-inline' https: http:;report-uri https://csp.withgoogle.com/csp/gws/other-hp\", 'Accept-CH': 'Sec-CH-Prefers-Color-Scheme', 'P3P': 'CP=\"This is not a P3P policy! See g.co/p3phelp for more info.\"', 'Content-Encoding': 'gzip', 'Server': 'gws', 'X-XSS-Protection': '0', 'X-Frame-Options': 'SAMEORIGIN', 'Set-Cookie': 'AEC=AZ6Zc-VO3sj43m-i7cf4bR3VZY89Q2vdhdDvlUL-889ukKJtOON7jQXq2PY; expires=Fri, 25-Jul-2025 15:39:14 GMT; path=/; domain=.google.com; Secure; HttpOnly; SameSite=lax, NID=521=W-AF-VyFKf4jdBs0MVabfu-o6NTVYN8vjUADpotUE1qcS8OLsVyNGQg4GhabNpgCWHmP8I6xTRknRtqngClVyozOp4ahPLH8LHvI3mHrPprJHp3ejFmL2O-i_vEnS-4nWjdg787iKMINhvO9Ox3uLjvWnB9Ygi2WcTcBQBOBOOCaW6RCbpGvR5kS9Q2jzNhUFHIuFzafAr1_lj9bQ_E; expires=Mon, 28-Jul-2025 15:39:14 GMT; path=/; domain=.google.com; HttpOnly', 'Alt-Svc': 'h3=\":443\"; ma=2592000,h3-29=\":443\"; ma=2592000', 'Transfer-Encoding': 'chunked'}\n",
      "Content <!doctype html><html itemscope=\"\" itemtype=\"http://schema.org/WebPage\" lang=\"en\"><head><meta content\n"
     ]
    }
   ],
   "source": [
    "import requests\n",
    "\n",
    "url = 'https://www.google.com'\n",
    "r=requests.get(url)\n",
    "print(\"Status Code\", r.status_code)\n",
    "print(\"Request Headers\", r.request.headers)\n",
    "print(\"Response Headers\", r.headers)\n",
    "print(\"Content\", r.text[0:100])"
   ]
  },
  {
   "cell_type": "markdown",
   "metadata": {},
   "source": [
    "### Request with Query Parameters"
   ]
  },
  {
   "cell_type": "code",
   "execution_count": 34,
   "metadata": {},
   "outputs": [
    {
     "name": "stdout",
     "output_type": "stream",
     "text": [
      "Status Code 200\n",
      "Content {\n",
      "  \"args\": {\n",
      "    \"id\": \"1001\", \n",
      "    \"name\": \"David\"\n",
      "  }, \n",
      "  \"headers\": {\n",
      "    \"Accept\": \"*/*\", \n",
      "    \"Accept-Encoding\": \"gzip, deflate\", \n",
      "    \"Host\": \"httpbin.org\", \n",
      "    \"User-Agent\": \"python-requests/2.31.0\", \n",
      "    \"X-Amzn-Trace-Id\": \"Root=1-6796c2b6-3c2356a84f4422a419dddb30\"\n",
      "  }, \n",
      "  \"origin\": \"96.253.85.144\", \n",
      "  \"url\": \"https://httpbin.org/get?name=David&id=1001\"\n",
      "}\n",
      "\n"
     ]
    }
   ],
   "source": [
    "url = 'https://httpbin.org/get'\n",
    "payload = {'name': 'David', 'id': '1001'}\n",
    "r=requests.get(url, params=payload)\n",
    "print(\"Status Code\", r.status_code)\n",
    "print(\"Content\", r.text)\n"
   ]
  },
  {
   "cell_type": "markdown",
   "metadata": {},
   "source": [
    "### Request with Post"
   ]
  },
  {
   "cell_type": "code",
   "execution_count": 15,
   "metadata": {},
   "outputs": [
    {
     "name": "stdout",
     "output_type": "stream",
     "text": [
      "Status Code 200\n",
      "Content {\n",
      "  \"args\": {}, \n",
      "  \"data\": \"\", \n",
      "  \"files\": {}, \n",
      "  \"form\": {\n",
      "    \"id\": \"1001\", \n",
      "    \"name\": \"David\"\n",
      "  }, \n",
      "  \"headers\": {\n",
      "    \"Accept\": \"*/*\", \n",
      "    \"Accept-Encoding\": \"gzip, deflate\", \n",
      "    \"Content-Length\": \"18\", \n",
      "    \"Content-Type\": \"application/x-www-form-urlencoded\", \n",
      "    \"Host\": \"httpbin.org\", \n",
      "    \"User-Agent\": \"python-requests/2.31.0\", \n",
      "    \"X-Amzn-Trace-Id\": \"Root=1-67965a14-51a997aa485ca3d51474cd95\"\n",
      "  }, \n",
      "  \"json\": null, \n",
      "  \"origin\": \"96.253.85.144\", \n",
      "  \"url\": \"https://httpbin.org/post\"\n",
      "}\n",
      "\n"
     ]
    }
   ],
   "source": [
    "url = 'https://httpbin.org/post'\n",
    "payload = {'name': 'David', 'id': '1001'}\n",
    "r=requests.post(url, data=payload)\n",
    "print(\"Status Code\", r.status_code)\n",
    "print(\"Content\", r.text)"
   ]
  },
  {
   "cell_type": "markdown",
   "metadata": {},
   "source": [
    "### Web Scraping "
   ]
  },
  {
   "cell_type": "code",
   "execution_count": 30,
   "metadata": {},
   "outputs": [
    {
     "name": "stdout",
     "output_type": "stream",
     "text": [
      "/static/images/icons/wikipedia.png\n",
      "/static/images/mobile/copyright/wikipedia-wordmark-en.svg\n",
      "/static/images/mobile/copyright/wikipedia-tagline-en.svg\n",
      "//upload.wikimedia.org/wikipedia/en/thumb/9/94/Symbol_support_vote.svg/19px-Symbol_support_vote.svg.png\n",
      "//upload.wikimedia.org/wikipedia/en/thumb/1/1b/Semi-protection-shackle.svg/20px-Semi-protection-shackle.svg.png\n",
      "//upload.wikimedia.org/wikipedia/commons/thumb/7/7a/Mahatma-Gandhi%2C_studio%2C_1931.jpg/220px-Mahatma-Gandhi%2C_studio%2C_1931.jpg\n",
      "//upload.wikimedia.org/wikipedia/commons/thumb/a/a7/Mohandas_K._Gandhi_signature.svg/150px-Mohandas_K._Gandhi_signature.svg.png\n",
      "//upload.wikimedia.org/wikipedia/commons/thumb/1/11/Mohandas_K_Gandhi%2C_age_7.jpg/220px-Mohandas_K_Gandhi%2C_age_7.jpg\n",
      "//upload.wikimedia.org/wikipedia/commons/thumb/8/8f/Gandhi_and_Laxmidas_2.jpg/190px-Gandhi_and_Laxmidas_2.jpg\n",
      "//upload.wikimedia.org/wikipedia/commons/thumb/e/e6/MAHATMA_GANDHI_1869-1948_lived_here_as_a_law_student.jpg/170px-MAHATMA_GANDHI_1869-1948_lived_here_as_a_law_student.jpg\n",
      "//upload.wikimedia.org/wikipedia/commons/thumb/d/dc/Gandhi_student.jpg/170px-Gandhi_student.jpg\n",
      "//upload.wikimedia.org/wikipedia/commons/thumb/4/44/Gandhi-1890.jpg/220px-Gandhi-1890.jpg\n",
      "//upload.wikimedia.org/wikipedia/commons/thumb/4/48/Natal_Indian_Congress.jpg/220px-Natal_Indian_Congress.jpg\n",
      "//upload.wikimedia.org/wikipedia/commons/thumb/2/2e/Gandhi_Boer_War.jpg/220px-Gandhi_Boer_War.jpg\n",
      "//upload.wikimedia.org/wikipedia/commons/thumb/7/79/Gandhi_and_Kasturbhai_1902.jpg/220px-Gandhi_and_Kasturbhai_1902.jpg\n",
      "//upload.wikimedia.org/wikipedia/commons/thumb/7/75/Indian_opinion_advertisement_in_1910.jpg/170px-Indian_opinion_advertisement_in_1910.jpg\n",
      "//upload.wikimedia.org/wikipedia/commons/thumb/5/57/Gandhi_suit.jpg/190px-Gandhi_suit.jpg\n",
      "//upload.wikimedia.org/wikipedia/commons/1/11/Gandhi_Kheda_1918.jpg\n",
      "//upload.wikimedia.org/wikipedia/commons/thumb/0/04/Gandhi_and_Tagore_1920.jpg/220px-Gandhi_and_Tagore_1920.jpg\n",
      "//upload.wikimedia.org/wikipedia/commons/thumb/e/ed/Gandhi_besant_madras1921.jpg/220px-Gandhi_besant_madras1921.jpg\n",
      "//upload.wikimedia.org/wikipedia/commons/thumb/f/f3/Gandhi_spinning.jpg/220px-Gandhi_spinning.jpg\n",
      "//upload.wikimedia.org/wikipedia/commons/thumb/3/39/Indian_workers_on_strike_in_support_of_Mahatma_Gandhi_in_1930.jpg/220px-Indian_workers_on_strike_in_support_of_Mahatma_Gandhi_in_1930.jpg\n",
      "//upload.wikimedia.org/wikipedia/commons/thumb/1/10/Gandhi_first_visit_to_Odisha.jpg/220px-Gandhi_first_visit_to_Odisha.jpg\n",
      "//upload.wikimedia.org/wikipedia/commons/thumb/9/98/Mahadev_Desai_and_Gandhi_2_1939.jpg/220px-Mahadev_Desai_and_Gandhi_2_1939.jpg\n",
      "//upload.wikimedia.org/wikipedia/commons/thumb/1/17/An_admiring_East_End_crowd_gathers_to_witness_the_arrival_of_Mahatma_Gandhi.jpg/220px-An_admiring_East_End_crowd_gathers_to_witness_the_arrival_of_Mahatma_Gandhi.jpg\n",
      "//upload.wikimedia.org/wikipedia/commons/thumb/5/5e/Gandhi_and_Nehru_in_1946.jpg/220px-Gandhi_and_Nehru_in_1946.jpg\n",
      "//upload.wikimedia.org/wikipedia/commons/thumb/6/6f/Gandhi_writing_1942.jpg/220px-Gandhi_writing_1942.jpg\n",
      "//upload.wikimedia.org/wikipedia/commons/thumb/4/46/Gandhi_Jinnah_1944.jpg/220px-Gandhi_Jinnah_1944.jpg\n",
      "//upload.wikimedia.org/wikipedia/commons/thumb/b/b3/Gandhi_Suhrawardy_and_Mujib.jpg/220px-Gandhi_Suhrawardy_and_Mujib.jpg\n",
      "//upload.wikimedia.org/wikipedia/commons/thumb/2/29/Mountbattens_with_Gandhi_%28IND_5298%29.jpg/220px-Mountbattens_with_Gandhi_%28IND_5298%29.jpg\n",
      "//upload.wikimedia.org/wikipedia/commons/thumb/a/a8/Mohandas_K._Gandhi%2C_Memorial_assassination_spot%2C_2013.jpg/220px-Mohandas_K._Gandhi%2C_Memorial_assassination_spot%2C_2013.jpg\n",
      "//upload.wikimedia.org/wikipedia/commons/thumb/a/a6/Gandhi_funeral_%28cropped%29.jpg/220px-Gandhi_funeral_%28cropped%29.jpg\n",
      "//upload.wikimedia.org/wikipedia/commons/thumb/3/38/Cremation_at_Rajghat.gif/220px-Cremation_at_Rajghat.gif\n",
      "//upload.wikimedia.org/wikipedia/commons/thumb/4/43/Mahatma_Gandhi_on_Rumours.jpg/220px-Mahatma_Gandhi_on_Rumours.jpg\n",
      "//upload.wikimedia.org/wikipedia/commons/thumb/a/a0/God_is_Truth.jpg/220px-God_is_Truth.jpg\n",
      "//upload.wikimedia.org/wikipedia/commons/thumb/9/99/Salt_March.jpg/220px-Salt_March.jpg\n",
      "//upload.wikimedia.org/wikipedia/commons/thumb/5/50/Gandhi_at_Darwen_with_women.jpg/220px-Gandhi_at_Darwen_with_women.jpg\n",
      "//upload.wikimedia.org/wikipedia/commons/thumb/6/63/Young_India.png/170px-Young_India.png\n",
      "//upload.wikimedia.org/wikipedia/commons/thumb/9/93/Mahatma_Gandhi%2C_4c_%26_8c%2C1961_issues.jpg/330px-Mahatma_Gandhi%2C_4c_%26_8c%2C1961_issues.jpg\n",
      "//upload.wikimedia.org/wikipedia/commons/thumb/4/49/Statue_of_M.K._Gandhi_with_plinth%2C_Roma_Street_Parkland%2C_Brisbane%2C_2024.jpg/220px-Statue_of_M.K._Gandhi_with_plinth%2C_Roma_Street_Parkland%2C_Brisbane%2C_2024.jpg\n",
      "//upload.wikimedia.org/wikipedia/commons/thumb/0/0b/Mahatmagandhi.jpg/220px-Mahatmagandhi.jpg\n",
      "//upload.wikimedia.org/wikipedia/commons/thumb/4/40/Madrid_-_Plaza_Joan_Mir%C3%B3%2C_Monumento_a_Mohandas_K._Gandhi_2.jpg/170px-Madrid_-_Plaza_Joan_Mir%C3%B3%2C_Monumento_a_Mohandas_K._Gandhi_2.jpg\n",
      "//upload.wikimedia.org/wikipedia/commons/thumb/3/3a/Gandhi_Commons.jpg/220px-Gandhi_Commons.jpg\n",
      "//upload.wikimedia.org/wikipedia/commons/thumb/b/ba/Gandhi_Memorial_Kanyakumari.jpg/220px-Gandhi_Memorial_Kanyakumari.jpg\n",
      "//upload.wikimedia.org/wikipedia/commons/thumb/e/e7/Gandhi_family_tree.jpg/440px-Gandhi_family_tree.jpg\n",
      "//upload.wikimedia.org/wikipedia/commons/thumb/2/28/P_religion_world.svg/31px-P_religion_world.svg.png\n",
      "//upload.wikimedia.org/wikipedia/commons/thumb/6/67/Aum_Om_red.svg/27px-Aum_Om_red.svg.png\n",
      "//upload.wikimedia.org/wikipedia/en/thumb/4/41/Flag_of_India.svg/32px-Flag_of_India.svg.png\n",
      "//upload.wikimedia.org/wikipedia/commons/thumb/c/cd/Socrates.png/18px-Socrates.png\n",
      "//upload.wikimedia.org/wikipedia/en/thumb/4/4a/Commons-logo.svg/20px-Commons-logo.svg.png\n",
      "//upload.wikimedia.org/wikipedia/commons/thumb/f/fa/Wikiquote-logo.svg/23px-Wikiquote-logo.svg.png\n",
      "//upload.wikimedia.org/wikipedia/commons/thumb/4/4c/Wikisource-logo.svg/26px-Wikisource-logo.svg.png\n",
      "//upload.wikimedia.org/wikipedia/commons/thumb/f/ff/Wikidata-logo.svg/27px-Wikidata-logo.svg.png\n",
      "//upload.wikimedia.org/wikipedia/commons/thumb/2/21/Speaker_Icon.svg/15px-Speaker_Icon.svg.png\n",
      "//upload.wikimedia.org/wikipedia/commons/thumb/7/77/Indian_National_Congress_Flag.svg/25px-Indian_National_Congress_Flag.svg.png\n",
      "//upload.wikimedia.org/wikipedia/en/thumb/9/96/Symbol_category_class.svg/16px-Symbol_category_class.svg.png\n",
      "//upload.wikimedia.org/wikipedia/en/thumb/8/8a/OOjs_UI_icon_edit-ltr-progressive.svg/10px-OOjs_UI_icon_edit-ltr-progressive.svg.png\n",
      "https://login.wikimedia.org/wiki/Special:CentralAutoLogin/start?useformat=desktop&type=1x1&usesul3=0\n",
      "/static/images/footer/wikimedia-button.svg\n",
      "/w/resources/assets/poweredby_mediawiki.svg\n"
     ]
    }
   ],
   "source": [
    "from bs4 import BeautifulSoup\n",
    "import requests\n",
    "import os \n",
    "from PIL import Image\n",
    "from IPython.display import IFrame\n",
    "\n",
    "url = 'https://en.wikipedia.org/wiki/Mahatma_Gandhi'\n",
    "\n",
    "response = requests.get(url)\n",
    "\n",
    "html_content = response.text\n",
    "\n",
    "soup = BeautifulSoup(html_content, 'html.parser')\n",
    "\n",
    "images = soup.find_all('img')\n",
    "\n",
    "for image in images:\n",
    "    print(image.get('src'))\n"
   ]
  },
  {
   "cell_type": "code",
   "execution_count": 36,
   "metadata": {},
   "outputs": [
    {
     "name": "stdout",
     "output_type": "stream",
     "text": [
      "Status Code 200\n",
      "  slideshow.author       slideshow.date  \\\n",
      "0      Yours Truly  date of publication   \n",
      "\n",
      "                                    slideshow.slides    slideshow.title  \n",
      "0  [{'title': 'Wake up to WonderWidgets!', 'type'...  Sample Slide Show  \n"
     ]
    }
   ],
   "source": [
    "import json\n",
    "import pandas as pd\n",
    "\n",
    "url = 'https://httpbin.org/json'\n",
    "\n",
    "r=requests.get(url)\n",
    "print(\"Status Code\", r.status_code)\n",
    "\n",
    "df = pd.json_normalize(json.loads(r.text))\n",
    "\n",
    "print(df)\n"
   ]
  },
  {
   "cell_type": "code",
   "execution_count": null,
   "metadata": {},
   "outputs": [],
   "source": []
  }
 ],
 "metadata": {
  "kernelspec": {
   "display_name": "Python 3 (ipykernel)",
   "language": "python",
   "name": "python3"
  },
  "language_info": {
   "codemirror_mode": {
    "name": "ipython",
    "version": 3
   },
   "file_extension": ".py",
   "mimetype": "text/x-python",
   "name": "python",
   "nbconvert_exporter": "python",
   "pygments_lexer": "ipython3",
   "version": "3.12.0"
  }
 },
 "nbformat": 4,
 "nbformat_minor": 2
}
