{
 "cells": [
  {
   "cell_type": "markdown",
   "metadata": {},
   "source": [
    "### Useful Functions and Operators"
   ]
  },
  {
   "cell_type": "code",
   "execution_count": 3,
   "metadata": {},
   "outputs": [
    {
     "name": "stdout",
     "output_type": "stream",
     "text": [
      "Single slash for the division, type(6/2) - <class 'float'>\n",
      "Double slash for the division, type(6/2) - <class 'int'>\n"
     ]
    }
   ],
   "source": [
    "# int, as the double slashes stand for integer division \n",
    "\n",
    "print(f\"Single slash for the division, type(6/2) - {type(6/2)}\")\n",
    "\n",
    "print(f\"Double slash for the division, type(6/2) - {type(6//2)}\")"
   ]
  },
  {
   "cell_type": "code",
   "execution_count": 4,
   "metadata": {},
   "outputs": [
    {
     "data": {
      "text/plain": [
       "3"
      ]
     },
     "execution_count": 4,
     "metadata": {},
     "output_type": "execute_result"
    }
   ],
   "source": [
    "int(3.99)"
   ]
  },
  {
   "cell_type": "markdown",
   "metadata": {},
   "source": [
    "### String Operations (Stride)"
   ]
  },
  {
   "cell_type": "code",
   "execution_count": 3,
   "metadata": {},
   "outputs": [
    {
     "name": "stdout",
     "output_type": "stream",
     "text": [
      "HloPto,Imsuyn aasine\n"
     ]
    }
   ],
   "source": [
    "# Get every second variable from the string\n",
    "\n",
    "my_string = 'Hello Python, I\\'m studying data science'\n",
    "\n",
    "print(my_string[::2])"
   ]
  },
  {
   "cell_type": "code",
   "execution_count": 5,
   "metadata": {},
   "outputs": [
    {
     "name": "stdout",
     "output_type": "stream",
     "text": [
      "HloPt\n"
     ]
    }
   ],
   "source": [
    "# Get every second variable from the string upto index 5\n",
    "\n",
    "print(my_string[:10:2])"
   ]
  },
  {
   "cell_type": "code",
   "execution_count": 6,
   "metadata": {},
   "outputs": [
    {
     "name": "stdout",
     "output_type": "stream",
     "text": [
      "Hello Python, \\ I'm studying data science\n"
     ]
    }
   ],
   "source": [
    "# Alternative way to escape characters\n",
    "# By prefixing a string literal with the letter ‘r’, Python treats the string as raw, meaning it interprets backslashes as literal characters rather than escape sequences.\n",
    "print(r\"Hello Python, \\ I'm studying data science\")\n",
    "\n"
   ]
  },
  {
   "cell_type": "code",
   "execution_count": 14,
   "metadata": {},
   "outputs": [
    {
     "name": "stdout",
     "output_type": "stream",
     "text": [
      "27\n",
      "-1\n"
     ]
    }
   ],
   "source": [
    "# find substrings - the argument substring you would like find. the out is the first index of the sequence.\n",
    "print(my_string.find('data'))\n",
    "\n",
    "# if the string is not there, it returns -1\n",
    "print(my_string.find('im not there'))"
   ]
  },
  {
   "cell_type": "markdown",
   "metadata": {},
   "source": [
    "### String Interporlation\n",
    "\n",
    "f-strings are a new way to format strings in Python. They are prefixed with 'f' and use curly braces {} to enclose the variables that will be formatted. "
   ]
  },
  {
   "cell_type": "code",
   "execution_count": 15,
   "metadata": {},
   "outputs": [
    {
     "name": "stdout",
     "output_type": "stream",
     "text": [
      "Welcome Alex\n"
     ]
    }
   ],
   "source": [
    "name = \"Alex\"\n",
    "print(f\"Welcome {name}\")"
   ]
  },
  {
   "cell_type": "markdown",
   "metadata": {},
   "source": [
    "### str.format()\n",
    "\n",
    "It uses curly braces {} as placeholders for variables which are passed as arguments in the format() method. "
   ]
  },
  {
   "cell_type": "code",
   "execution_count": 16,
   "metadata": {},
   "outputs": [
    {
     "name": "stdout",
     "output_type": "stream",
     "text": [
      "Welcome Alex\n"
     ]
    }
   ],
   "source": [
    "name = \"Alex\"\n",
    "print(\"Welcome {}\".format(name))"
   ]
  },
  {
   "cell_type": "markdown",
   "metadata": {},
   "source": [
    "### % Operator\n",
    "It uses the % operator to replace variables in the string. "
   ]
  },
  {
   "cell_type": "code",
   "execution_count": 20,
   "metadata": {},
   "outputs": [
    {
     "name": "stdout",
     "output_type": "stream",
     "text": [
      "Welcome Alex\n"
     ]
    }
   ],
   "source": [
    "name = \"Alex\"\n",
    "print(\"Welcome %s\" % (name))"
   ]
  },
  {
   "cell_type": "markdown",
   "metadata": {},
   "source": [
    "### Negative Indexing\n",
    "\n",
    "Negative index can help us to count the element from the end of the string."
   ]
  },
  {
   "cell_type": "code",
   "execution_count": 22,
   "metadata": {},
   "outputs": [
    {
     "name": "stdout",
     "output_type": "stream",
     "text": [
      "g\n"
     ]
    }
   ],
   "source": [
    "# Print the last element in the string\n",
    "name = \"Martin L King\"\n",
    "print(name[-1])"
   ]
  },
  {
   "cell_type": "code",
   "execution_count": 23,
   "metadata": {},
   "outputs": [
    {
     "name": "stdout",
     "output_type": "stream",
     "text": [
      "M\n"
     ]
    }
   ],
   "source": [
    "# Print the first element in the string\n",
    "\n",
    "print(name[-1 * len(name)])"
   ]
  },
  {
   "cell_type": "markdown",
   "metadata": {},
   "source": [
    "### Slicing\n",
    "\n",
    "When taking the slice, the first number means the index (start at 0), and the second number means the length from the index to the last element you want (start at 1)"
   ]
  },
  {
   "cell_type": "code",
   "execution_count": 24,
   "metadata": {},
   "outputs": [
    {
     "data": {
      "text/plain": [
       "'Mart'"
      ]
     },
     "execution_count": 24,
     "metadata": {},
     "output_type": "execute_result"
    }
   ],
   "source": [
    "# Take the slice on variable name with only index 0 to index 3\n",
    "\n",
    "name[0:4]"
   ]
  },
  {
   "cell_type": "code",
   "execution_count": 25,
   "metadata": {},
   "outputs": [
    {
     "data": {
      "text/plain": [
       "' Kin'"
      ]
     },
     "execution_count": 25,
     "metadata": {},
     "output_type": "execute_result"
    }
   ],
   "source": [
    "# Take the slice on variable name with only index 8 to index 11\n",
    "\n",
    "name[8:12]"
   ]
  },
  {
   "cell_type": "markdown",
   "metadata": {},
   "source": [
    "### Regex"
   ]
  },
  {
   "cell_type": "markdown",
   "metadata": {},
   "source": [
    "# Get every second element. The elments on index 1, 3, 5 ...\n",
    "\n",
    "Python provides a built-in module called <code>re</code>, which allows you to work with regular expressions. \n",
    "First, import the <code>re</code> module"
   ]
  },
  {
   "cell_type": "code",
   "execution_count": 26,
   "metadata": {},
   "outputs": [],
   "source": [
    "import re"
   ]
  },
  {
   "cell_type": "markdown",
   "metadata": {},
   "source": [
    "#### The search() function searches for specified patterns within a string. "
   ]
  },
  {
   "cell_type": "code",
   "execution_count": 30,
   "metadata": {},
   "outputs": [
    {
     "name": "stdout",
     "output_type": "stream",
     "text": [
      "Match found!\n"
     ]
    }
   ],
   "source": [
    "text = \"Martin L King is a true leader.\"\n",
    "\n",
    "# Define the pattern to search for\n",
    "pattern = r\"King\"\n",
    "\n",
    "# Use the search() function to search for the pattern in the string\n",
    "match = re.search(pattern, text)\n",
    "\n",
    "# Check if a match was found\n",
    "if match:\n",
    "    print(\"Match found!\")\n",
    "else:\n",
    "    print(\"Match not found.\")\n"
   ]
  },
  {
   "cell_type": "markdown",
   "metadata": {},
   "source": [
    "#### match.group()\n",
    "Extract Matched Text: match.group() returns the exact substring that matched the pattern."
   ]
  },
  {
   "cell_type": "code",
   "execution_count": 31,
   "metadata": {},
   "outputs": [
    {
     "name": "stdout",
     "output_type": "stream",
     "text": [
      "Zip Code found: 12345\n"
     ]
    }
   ],
   "source": [
    "pattern = r\"\\d\\d\\d\\d\\d\"  # Matches any ten consecutive digits\n",
    "text = \"Zip Code is 12345\"\n",
    "match = re.search(pattern, text)\n",
    "\n",
    "if match:\n",
    "    print(\"Zip Code found:\", match.group())\n",
    "else:\n",
    "    print(\"No match\")"
   ]
  },
  {
   "cell_type": "markdown",
   "metadata": {},
   "source": [
    "#### re.findall()  The <code>findall()</code> function finds all occurrences of a specified pattern within a string.\n"
   ]
  },
  {
   "cell_type": "code",
   "execution_count": 32,
   "metadata": {},
   "outputs": [
    {
     "name": "stdout",
     "output_type": "stream",
     "text": [
      "Matches: [',', ' ', '!']\n"
     ]
    }
   ],
   "source": [
    "pattern = r\"\\W\"  # Matches any non-word character\n",
    "text = \"Hello, world!\"\n",
    "matches = re.findall(pattern, text)\n",
    "\n",
    "print(\"Matches:\", matches)"
   ]
  },
  {
   "cell_type": "markdown",
   "metadata": {},
   "source": [
    "**re.split()**: This function splits a string by the occurrences of a pattern.\n"
   ]
  },
  {
   "cell_type": "code",
   "execution_count": 34,
   "metadata": {},
   "outputs": [
    {
     "name": "stdout",
     "output_type": "stream",
     "text": [
      "['Hello,', 'world!']\n"
     ]
    }
   ],
   "source": [
    "# Use the split function to split the string by the \"\\s\"\n",
    "split_array = re.split(r\"\\s\", text)\n",
    "\n",
    "# The split_array contains all the substrings, split by whitespace characters\n",
    "print(split_array)"
   ]
  },
  {
   "cell_type": "markdown",
   "metadata": {},
   "source": [
    "re.sub(): The <code>sub</code> function of a regular expression in Python is used to replace all occurrences of a pattern in a string with a specified replacement."
   ]
  },
  {
   "cell_type": "code",
   "execution_count": 40,
   "metadata": {},
   "outputs": [
    {
     "name": "stdout",
     "output_type": "stream",
     "text": [
      "Martin L King is leader.\n"
     ]
    }
   ],
   "source": [
    "text = \"Martin L King is a great leader.\"\n",
    "\n",
    "# Define the regular expression pattern to search for\n",
    "pattern = r\"a great Leader\"\n",
    "\n",
    "# Define the replacement string\n",
    "replacement = \"leader\"\n",
    "\n",
    "# Use the sub function to replace the pattern with the replacement string\n",
    "new_string = re.sub(pattern, replacement, text, flags=re.IGNORECASE)\n",
    "\n",
    "# The new_string contains the original string with the pattern replaced by the replacement string\n",
    "print(new_string) "
   ]
  }
 ],
 "metadata": {
  "kernelspec": {
   "display_name": "Python 3",
   "language": "python",
   "name": "python3"
  },
  "language_info": {
   "codemirror_mode": {
    "name": "ipython",
    "version": 3
   },
   "file_extension": ".py",
   "mimetype": "text/x-python",
   "name": "python",
   "nbconvert_exporter": "python",
   "pygments_lexer": "ipython3",
   "version": "3.12.1"
  }
 },
 "nbformat": 4,
 "nbformat_minor": 2
}
