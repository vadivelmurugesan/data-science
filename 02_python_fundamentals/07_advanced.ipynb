{
 "cells": [
  {
   "cell_type": "markdown",
   "metadata": {},
   "source": [
    "## Advanced Python Functions"
   ]
  },
  {
   "cell_type": "markdown",
   "metadata": {},
   "source": [
    "### Groupby method"
   ]
  },
  {
   "cell_type": "code",
   "execution_count": 9,
   "metadata": {},
   "outputs": [
    {
     "name": "stdout",
     "output_type": "stream",
     "text": [
      "\n",
      " Group Key: FB\n",
      "  Company Person  Sales\n",
      "4      FB   Carl    243\n",
      "5      FB  Sarah    350 \n",
      "\n",
      "\n",
      "\n",
      " Group Key: GOOG\n",
      "  Company   Person  Sales\n",
      "0    GOOG      Sam    200\n",
      "1    GOOG  Charlie    120 \n",
      "\n",
      "\n",
      "\n",
      " Group Key: MSFT\n",
      "  Company   Person  Sales\n",
      "2    MSFT      Amy    340\n",
      "3    MSFT  Vanessa    124 \n",
      "\n",
      "\n"
     ]
    }
   ],
   "source": [
    "import pandas as pd\n",
    "\n",
    "# create a simple dataframe with stock, person and sales\n",
    "data = { 'Company': ['GOOG', 'GOOG', 'MSFT', 'MSFT', 'FB', 'FB'],\n",
    "            'Person': ['Sam', 'Charlie', 'Amy', 'Vanessa', 'Carl', 'Sarah'],\n",
    "            'Sales': [200, 120, 340, 124, 243, 350]}\n",
    "\n",
    "company_df = pd.DataFrame(data) \n",
    "\n",
    "# group by company\n",
    "byCompany = company_df.groupby('Company')\n",
    "\n",
    "for key, item in byCompany:\n",
    "    print(\"\\n Group Key: {}\".format(key))\n",
    "    print(byCompany.get_group(key), \"\\n\\n\")\n"
   ]
  },
  {
   "cell_type": "code",
   "execution_count": 10,
   "metadata": {},
   "outputs": [
    {
     "data": {
      "text/plain": [
       "pandas.core.groupby.generic.DataFrameGroupBy"
      ]
     },
     "execution_count": 10,
     "metadata": {},
     "output_type": "execute_result"
    }
   ],
   "source": [
    "type(byCompany) # pandas.core.groupby.generic.DataFrameGroupBy"
   ]
  },
  {
   "cell_type": "code",
   "execution_count": 11,
   "metadata": {},
   "outputs": [
    {
     "name": "stdout",
     "output_type": "stream",
     "text": [
      "             Person  Sales\n",
      "Company                   \n",
      "FB        CarlSarah    593\n",
      "GOOG     SamCharlie    320\n",
      "MSFT     AmyVanessa    464\n"
     ]
    }
   ],
   "source": [
    "grouped = company_df.groupby('Company').sum()\n",
    "print(grouped)"
   ]
  },
  {
   "cell_type": "markdown",
   "metadata": {},
   "source": [
    "### Apply method"
   ]
  },
  {
   "cell_type": "code",
   "execution_count": 6,
   "metadata": {},
   "outputs": [
    {
     "name": "stdout",
     "output_type": "stream",
     "text": [
      "     A      B         C         D\n",
      "0  foo    one -1.970511 -2.685626\n",
      "1  bar    one  1.704706 -0.506112\n",
      "2  foo    two  0.692032  1.162363\n",
      "3  bar  three  0.346966  1.337943\n",
      "4  foo    two -0.632235  1.282138\n",
      "5  bar    two -1.508743 -0.688584\n",
      "6  foo    one -0.355343  1.992399\n",
      "7  foo  three  0.045312  0.412502\n",
      "     A      B         C         D       sum\n",
      "0  foo    one -1.970511 -2.685626 -4.656137\n",
      "1  bar    one  1.704706 -0.506112  1.198594\n",
      "2  foo    two  0.692032  1.162363  1.854395\n",
      "3  bar  three  0.346966  1.337943  1.684909\n",
      "4  foo    two -0.632235  1.282138  0.649903\n",
      "5  bar    two -1.508743 -0.688584 -2.197327\n",
      "6  foo    one -0.355343  1.992399  1.637056\n",
      "7  foo  three  0.045312  0.412502  0.457814\n"
     ]
    }
   ],
   "source": [
    "import numpy as np\n",
    "import pandas as pd\n",
    "\n",
    "df = pd.DataFrame({'A': ['foo', 'bar', 'foo', 'bar', 'foo', 'bar', 'foo', 'foo'],\n",
    "                   'B': ['one', 'one', 'two', 'three', 'two', 'two', 'one', 'three'],\n",
    "                   'C': np.random.randn(8),\n",
    "                   'D': np.random.randn(8)})\n",
    "\n",
    "print(df)\n",
    "\n",
    "# define a funtion\n",
    "def get_sum(row):\n",
    "    return row.sum()\n",
    "\n",
    "# Apply the function\n",
    "df['sum'] = df[['C', 'D']].apply(get_sum, axis=1)\n",
    "print(df)"
   ]
  },
  {
   "cell_type": "code",
   "execution_count": 17,
   "metadata": {},
   "outputs": [
    {
     "name": "stdout",
     "output_type": "stream",
     "text": [
      "Company\n",
      "FB      350\n",
      "GOOG    200\n",
      "MSFT    340\n",
      "dtype: int64\n"
     ]
    }
   ],
   "source": [
    "# Maximum sales of each company using groupby and apply\n",
    "\n",
    "print(company_df.groupby('Company').apply(lambda x: x['Sales'].max(), include_groups=False))"
   ]
  }
 ],
 "metadata": {
  "kernelspec": {
   "display_name": "Python 3",
   "language": "python",
   "name": "python3"
  },
  "language_info": {
   "codemirror_mode": {
    "name": "ipython",
    "version": 3
   },
   "file_extension": ".py",
   "mimetype": "text/x-python",
   "name": "python",
   "nbconvert_exporter": "python",
   "pygments_lexer": "ipython3",
   "version": "3.12.0"
  }
 },
 "nbformat": 4,
 "nbformat_minor": 2
}
