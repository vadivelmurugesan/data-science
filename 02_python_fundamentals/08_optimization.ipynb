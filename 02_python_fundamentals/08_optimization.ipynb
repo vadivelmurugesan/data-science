{
 "cells": [
  {
   "cell_type": "markdown",
   "metadata": {},
   "source": [
    "## Advannced Pandas Optimization"
   ]
  },
  {
   "cell_type": "code",
   "execution_count": 5,
   "metadata": {},
   "outputs": [
    {
     "data": {
      "text/plain": [
       "0    8.3252\n",
       "1    8.3014\n",
       "2    7.2574\n",
       "3    5.6431\n",
       "4    3.8462\n",
       "Name: MedInc, dtype: category\n",
       "Categories (12928, float64): [0.4999, 0.5360, 0.5495, 0.6433, ..., 14.5833, 14.9009, 15.0000, 15.0001]"
      ]
     },
     "execution_count": 5,
     "metadata": {},
     "output_type": "execute_result"
    }
   ],
   "source": [
    "# import california dataset from sklearn\n",
    "from sklearn.datasets import fetch_california_housing\n",
    "import pandas as pd\n",
    " \n",
    "housing_dataset = fetch_california_housing()\n",
    "\n",
    "# Data Set contains three key elements data, feature_names and \n",
    "\n",
    "housing_dataframe = pd.DataFrame(data=housing_dataset.data, columns=housing_dataset.feature_names)\n",
    "\n",
    " \n",
    "housing_dataframe['MedInc'] = housing_dataframe['MedInc'].astype('category')\n",
    "\n",
    "housing_dataframe['MedInc'].head()\n"
   ]
  },
  {
   "cell_type": "code",
   "execution_count": 7,
   "metadata": {},
   "outputs": [
    {
     "data": {
      "text/plain": [
       "Index(['MedInc', 'HouseAge', 'AveRooms', 'AveBedrms', 'Population', 'AveOccup',\n",
       "       'Latitude', 'Longitude'],\n",
       "      dtype='object')"
      ]
     },
     "execution_count": 7,
     "metadata": {},
     "output_type": "execute_result"
    }
   ],
   "source": [
    "housing_dataframe.columns"
   ]
  },
  {
   "cell_type": "code",
   "execution_count": 9,
   "metadata": {},
   "outputs": [
    {
     "name": "stdout",
     "output_type": "stream",
     "text": [
      "0    1.023810\n",
      "1    0.971880\n",
      "2    1.073446\n",
      "3    1.073059\n",
      "4    1.081081\n",
      "Name: AveBedrms, dtype: float32\n",
      "0     322\n",
      "1    2401\n",
      "2     496\n",
      "3     558\n",
      "4     565\n",
      "Name: Population, dtype: int32\n"
     ]
    }
   ],
   "source": [
    "# downcast the data type of 'AvgBedrms' column to 'float'ArithmeticError\n",
    "housing_dataframe['AveBedrms'] = pd.to_numeric(housing_dataframe['AveBedrms'], downcast='float')\n",
    "\n",
    "print(housing_dataframe['AveBedrms'].head())\n",
    "\n",
    "housing_dataframe['Population'] = housing_dataframe['Population'].astype('int32')\n",
    "print(housing_dataframe['Population'].head())\n"
   ]
  },
  {
   "cell_type": "code",
   "execution_count": 12,
   "metadata": {},
   "outputs": [
    {
     "name": "stdout",
     "output_type": "stream",
     "text": [
      "Memory usage of the dataframe: 1.4173622131347656 MB\n",
      "Memory usage of the optimized dataframe: 1.2598915100097656 MB\n",
      "Memory saved: 0.157470703125 MB\n"
     ]
    }
   ],
   "source": [
    "import numpy as np\n",
    "\n",
    "df = pd.DataFrame(data=np.c_[housing_dataset['data'], housing_dataset['target']], columns=housing_dataset['feature_names'] + ['target'])\n",
    "\n",
    "def memory_usage(df):\n",
    "    return df.memory_usage(deep=True).sum() / 1024 ** 2 # convert bytes to MB\n",
    "\n",
    "original_memory = memory_usage(df)\n",
    "\n",
    "# Optimize memory usage in Pandas using downcast parameter\n",
    "df['AveBedrms'] = pd.to_numeric(df['AveBedrms'], downcast='float')\n",
    "df['AveRooms'] = pd.to_numeric(df['AveRooms'], downcast='float')\n",
    "optimized_memory = memory_usage(df)\n",
    "\n",
    "print(f\"Memory usage of the dataframe: {original_memory} MB\")\n",
    "print(f\"Memory usage of the optimized dataframe: {optimized_memory} MB\")\n",
    "print(f\"Memory saved: {original_memory - optimized_memory} MB\")"
   ]
  },
  {
   "cell_type": "code",
   "execution_count": 15,
   "metadata": {},
   "outputs": [
    {
     "name": "stdout",
     "output_type": "stream",
     "text": [
      "Memory usage before: 0.5709571838378906 MB\n",
      "Memory usage after: 0.5709571838378906 MB\n",
      "Memory saved: 0.0 MB\n",
      "Time taken: 0.0066280364990234375 seconds\n",
      "Percentage of memory saved: 0.00%\n"
     ]
    }
   ],
   "source": [
    "import time\n",
    "\n",
    "# Measure the memory usage of the dataframe\n",
    "start_memory = memory_usage(housing_dataframe)\n",
    "\n",
    "# Optimize DataFrame memory usage by downcasting the data types\n",
    "start_time = time.time()\n",
    "\n",
    "housing_dataframe['MedInc'] = pd.to_numeric(housing_dataframe['MedInc'], downcast='float')\n",
    "housing_dataframe['HouseAge'] = pd.to_numeric(housing_dataframe['HouseAge'], downcast='integer')\n",
    "housing_dataframe['AveRooms'] = pd.to_numeric(housing_dataframe['AveRooms'], downcast='float')\n",
    "housing_dataframe['AveBedrms'] = pd.to_numeric(housing_dataframe['AveBedrms'], downcast='float')\n",
    "housing_dataframe['Population'] = pd.to_numeric(housing_dataframe['Population'], downcast='integer')\n",
    "housing_dataframe['AveOccup'] = pd.to_numeric(housing_dataframe['AveOccup'], downcast='float')\n",
    "housing_dataframe['Latitude'] = pd.to_numeric(housing_dataframe['Latitude'], downcast='float')\n",
    "housing_dataframe['Longitude'] = pd.to_numeric(housing_dataframe['Longitude'], downcast='float')\n",
    "\n",
    "end_memory = memory_usage(housing_dataframe)\n",
    "end_time = time.time()\n",
    "\n",
    "print(f\"Memory usage before: {start_memory} MB\")\n",
    "print(f\"Memory usage after: {end_memory} MB\")\n",
    "print(f\"Memory saved: {start_memory - end_memory} MB\")\n",
    "print(f\"Time taken: {end_time - start_time} seconds\")\n",
    "\n",
    "# Calculate percentage of memory saved\n",
    "percentage_memory_saved = ((start_memory - end_memory) / start_memory) * 100\n",
    "print(f\"Percentage of memory saved: {percentage_memory_saved:.2f}%\")"
   ]
  },
  {
   "cell_type": "code",
   "execution_count": 17,
   "metadata": {},
   "outputs": [
    {
     "data": {
      "text/plain": [
       "0    3\n",
       "1    1\n",
       "2    4\n",
       "3    4\n",
       "4    4\n",
       "Name: HouseAge, dtype: category\n",
       "Categories (5, int64): [0 < 1 < 2 < 3 < 4]"
      ]
     },
     "execution_count": 17,
     "metadata": {},
     "output_type": "execute_result"
    }
   ],
   "source": [
    "# House Age to category type using pd.cut() function   =, The 'HouseAge' feature needs to be split into five equal-width bins labeled 0 to 4.\n",
    "housing_dataframe['HouseAge'] = pd.cut(housing_dataframe['HouseAge'], bins=5, labels=[0, 1, 2, 3, 4])\n",
    "\n",
    "housing_dataframe['HouseAge'].head()\n",
    " "
   ]
  }
 ],
 "metadata": {
  "kernelspec": {
   "display_name": "Python 3",
   "language": "python",
   "name": "python3"
  },
  "language_info": {
   "codemirror_mode": {
    "name": "ipython",
    "version": 3
   },
   "file_extension": ".py",
   "mimetype": "text/x-python",
   "name": "python",
   "nbconvert_exporter": "python",
   "pygments_lexer": "ipython3",
   "version": "3.12.0"
  }
 },
 "nbformat": 4,
 "nbformat_minor": 2
}
