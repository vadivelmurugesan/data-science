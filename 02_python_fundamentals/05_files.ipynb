{
 "cells": [
  {
   "cell_type": "markdown",
   "metadata": {},
   "source": [
    "## Reading Files"
   ]
  },
  {
   "cell_type": "code",
   "execution_count": 7,
   "metadata": {},
   "outputs": [
    {
     "name": "stdout",
     "output_type": "stream",
     "text": [
      "is file closed?  False\n",
      "is file closed?  True\n"
     ]
    }
   ],
   "source": [
    "# Read a file \n",
    "# 1st parameter is the path of a file\n",
    "# 2nd parameter is mode - r is for reading, w is for writing, a is for appending\n",
    "zen_file = open(\"zen_of_python.txt\", \"r\")\n",
    "print(\"is file closed? \", zen_file.closed)\n",
    "# Close the file\n",
    "zen_file.close()\n",
    "print(\"is file closed? \", zen_file.closed)"
   ]
  },
  {
   "cell_type": "markdown",
   "metadata": {},
   "source": [
    "### Here is a Better way to read and close the file"
   ]
  },
  {
   "cell_type": "code",
   "execution_count": 10,
   "metadata": {},
   "outputs": [
    {
     "name": "stdout",
     "output_type": "stream",
     "text": [
      "True\n"
     ]
    }
   ],
   "source": [
    "# using open in with will automatically close the file after reading\n",
    "with open(\"zen_of_python.txt\", \"r\") as file1:\n",
    "    pass\n",
    "print(file1.closed)"
   ]
  },
  {
   "cell_type": "markdown",
   "metadata": {},
   "source": [
    "### Read the content in the file"
   ]
  },
  {
   "cell_type": "code",
   "execution_count": 13,
   "metadata": {},
   "outputs": [
    {
     "name": "stdout",
     "output_type": "stream",
     "text": [
      "The Zen of Python, by Tim Peters\n",
      "\n",
      "Beautiful is better than ugly.\n",
      "Explicit is better than implicit.\n",
      "Simple is better than complex.\n",
      "Complex is better than complicated.\n",
      "Flat is better than nested.\n",
      "Sparse is better than dense.\n",
      "Readability counts.\n",
      "Special cases aren't special enough to break the rules.\n",
      "Although practicality beats purity.\n",
      "Errors should never pass silently.\n",
      "Unless explicitly silenced.\n",
      "In the face of ambiguity, refuse the temptation to guess.\n",
      "There should be one-- and preferably only one --obvious way to do it.\n",
      "Although that way may not be obvious at first unless you're Dutch.\n",
      "Now is better than never.\n",
      "Although never is often better than *right* now.\n",
      "If the implementation is hard to explain, it's a bad idea.\n",
      "If the implementation is easy to explain, it may be a good idea.\n",
      "Namespaces are one honking great idea -- let's do more of those!\n",
      "True\n"
     ]
    }
   ],
   "source": [
    "# using open in with will automatically close the file after reading\n",
    "with open(\"zen_of_python.txt\", \"r\") as file1:\n",
    "    file_content = file1.read()\n",
    "    print(file_content)\n",
    "print(file1.closed)"
   ]
  },
  {
   "cell_type": "markdown",
   "metadata": {},
   "source": [
    "### Read line by line"
   ]
  },
  {
   "cell_type": "code",
   "execution_count": 16,
   "metadata": {},
   "outputs": [
    {
     "name": "stdout",
     "output_type": "stream",
     "text": [
      "Reading Line:  The Zen of Python, by Tim Peters\n",
      "\n",
      "Reading Line:  \n",
      "\n",
      "Reading Line:  Beautiful is better than ugly.\n",
      "\n",
      "Reading Line:  Explicit is better than implicit.\n",
      "\n",
      "Reading Line:  Simple is better than complex.\n",
      "\n",
      "Reading Line:  Complex is better than complicated.\n",
      "\n",
      "Reading Line:  Flat is better than nested.\n",
      "\n",
      "Reading Line:  Sparse is better than dense.\n",
      "\n",
      "Reading Line:  Readability counts.\n",
      "\n",
      "Reading Line:  Special cases aren't special enough to break the rules.\n",
      "\n",
      "Reading Line:  Although practicality beats purity.\n",
      "\n",
      "Reading Line:  Errors should never pass silently.\n",
      "\n",
      "Reading Line:  Unless explicitly silenced.\n",
      "\n",
      "Reading Line:  In the face of ambiguity, refuse the temptation to guess.\n",
      "\n",
      "Reading Line:  There should be one-- and preferably only one --obvious way to do it.\n",
      "\n",
      "Reading Line:  Although that way may not be obvious at first unless you're Dutch.\n",
      "\n",
      "Reading Line:  Now is better than never.\n",
      "\n",
      "Reading Line:  Although never is often better than *right* now.\n",
      "\n",
      "Reading Line:  If the implementation is hard to explain, it's a bad idea.\n",
      "\n",
      "Reading Line:  If the implementation is easy to explain, it may be a good idea.\n",
      "\n",
      "Reading Line:  Namespaces are one honking great idea -- let's do more of those!\n",
      "True\n"
     ]
    }
   ],
   "source": [
    "# using open in with will automatically close the file after reading\n",
    "with open(\"zen_of_python.txt\", \"r\") as file1:\n",
    "    for line in file1:\n",
    "        print(\"Reading Line: \", line)\n",
    "print(file1.closed)"
   ]
  },
  {
   "cell_type": "markdown",
   "metadata": {},
   "source": [
    "## Writing Files"
   ]
  },
  {
   "cell_type": "code",
   "execution_count": 18,
   "metadata": {},
   "outputs": [
    {
     "name": "stdout",
     "output_type": "stream",
     "text": [
      "is file closed?  False\n",
      "is file closed?  True\n"
     ]
    }
   ],
   "source": [
    "# Write a file \n",
    "# 1st parameter is the path of a file\n",
    "# 2nd parameter is mode - r is for reading, w is for writing, a is for appending\n",
    "new_file = open(\"write_file_experiment.txt\", \"w\")\n",
    "new_file.write(\"Hello, there!\")\n",
    "print(\"is file closed? \", new_file.closed)\n",
    "# Close the file\n",
    "new_file.close()\n",
    "print(\"is file closed? \", new_file.closed)"
   ]
  },
  {
   "cell_type": "markdown",
   "metadata": {},
   "source": [
    "### Here is a Better way to write and close the file"
   ]
  },
  {
   "cell_type": "code",
   "execution_count": 19,
   "metadata": {},
   "outputs": [
    {
     "name": "stdout",
     "output_type": "stream",
     "text": [
      "<_io.TextIOWrapper name='write_file_experiment.txt' mode='w' encoding='UTF-8'>\n",
      "True\n"
     ]
    }
   ],
   "source": [
    "# using open in with will automatically close the file after reading\n",
    "with open(\"write_file_experiment.txt\", \"w\") as file1:\n",
    "    file1.write(\"Hello, there! I'm better.\")\n",
    "    print(file1)\n",
    "print(file1.closed)"
   ]
  },
  {
   "cell_type": "markdown",
   "metadata": {},
   "source": [
    "## File Modes In Python"
   ]
  },
  {
   "cell_type": "markdown",
   "metadata": {},
   "source": [
    "* 'r'\tRead mode. \n",
    "* 'w'\tWrite mode.\n",
    "* 'a'\tAppend mode.\n",
    "* 'x'\tExclusive creation mode.\n",
    "* 'rb' Read binary mode. \n",
    "* 'wb' Write binary mode. \n",
    "* 'ab' Append binary mode.\n",
    "* 'xb' Exclusive binary creation mode. \n",
    "* 'rt' Read text mode. \n",
    "* 'wt' Write text mode. \n",
    "* 'at' Append text mode. \n",
    "* 'xt' Exclusive text creation mode. \n",
    "* 'r+' Read and write mode. \n",
    "* 'w+' Write and read mode. \n",
    "* 'a+' Append and read mode. \n",
    "* 'x+' Exclusive creation and read/write mode."
   ]
  }
 ],
 "metadata": {
  "kernelspec": {
   "display_name": "Python 3",
   "language": "python",
   "name": "python3"
  },
  "language_info": {
   "codemirror_mode": {
    "name": "ipython",
    "version": 3
   },
   "file_extension": ".py",
   "mimetype": "text/x-python",
   "name": "python",
   "nbconvert_exporter": "python",
   "pygments_lexer": "ipython3",
   "version": "3.12.1"
  }
 },
 "nbformat": 4,
 "nbformat_minor": 2
}
