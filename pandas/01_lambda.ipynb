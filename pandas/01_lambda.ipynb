{
 "cells": [
  {
   "cell_type": "markdown",
   "metadata": {},
   "source": [
    "# Lambda Functions in Python"
   ]
  },
  {
   "cell_type": "code",
   "execution_count": 3,
   "metadata": {},
   "outputs": [],
   "source": [
    "# Lambda function to check if person is an adult\n",
    "is_adult = lambda age: age >= 18"
   ]
  },
  {
   "cell_type": "code",
   "execution_count": 4,
   "metadata": {},
   "outputs": [
    {
     "name": "stdout",
     "output_type": "stream",
     "text": [
      "True\n",
      "False\n"
     ]
    }
   ],
   "source": [
    "# Example usages\n",
    "print(is_adult(21))  # Expected Output: True\n",
    "\n",
    "print(is_adult(17))  # Expected Output: False"
   ]
  },
  {
   "cell_type": "markdown",
   "metadata": {},
   "source": [
    "# Write a function using a lambda that takes a dictionary of students with their ages and returns a list of names of adults (age >= 18)."
   ]
  },
  {
   "cell_type": "code",
   "execution_count": 9,
   "metadata": {},
   "outputs": [
    {
     "name": "stdout",
     "output_type": "stream",
     "text": [
      "['Adam', 'Bob', 'Chris', 'David']\n"
     ]
    }
   ],
   "source": [
    "# a function to check the given age is adult\n",
    "def is_adult(age):\n",
    "    return lambda age: age >= 18\n",
    "\n",
    "# a function to get the list of adult students\n",
    "def get_adult_students(students):\n",
    "    return [name for name, age in students.items() if is_adult(age)]\n",
    "\n",
    "\n",
    "# Example usage\n",
    "adult_students = get_adult_students({\"Adam\" : 21, \"Bob\": 17, \"Chris\": 18, \"David\": 40})\n",
    "print(adult_students) "
   ]
  },
  {
   "cell_type": "code",
   "execution_count": null,
   "metadata": {},
   "outputs": [],
   "source": []
  }
 ],
 "metadata": {
  "kernelspec": {
   "display_name": "Python 3",
   "language": "python",
   "name": "python3"
  },
  "language_info": {
   "codemirror_mode": {
    "name": "ipython",
    "version": 3
   },
   "file_extension": ".py",
   "mimetype": "text/x-python",
   "name": "python",
   "nbconvert_exporter": "python",
   "pygments_lexer": "ipython3",
   "version": "3.12.1"
  }
 },
 "nbformat": 4,
 "nbformat_minor": 2
}
