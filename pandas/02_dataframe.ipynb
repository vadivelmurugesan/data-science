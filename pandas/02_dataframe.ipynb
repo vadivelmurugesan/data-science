{
 "cells": [
  {
   "cell_type": "markdown",
   "metadata": {},
   "source": [
    "# Pandas Data Frames\n",
    "\n",
    "Pandas DataFrame is a two-dimensional labeled data structure capable of holding data of various types—integers, floats, strings, Python objects, and more."
   ]
  },
  {
   "cell_type": "markdown",
   "metadata": {},
   "source": [
    "## Initiate Data Frames"
   ]
  },
  {
   "cell_type": "code",
   "execution_count": 2,
   "metadata": {},
   "outputs": [
    {
     "name": "stdout",
     "output_type": "stream",
     "text": [
      "    Name  Age           Address\n",
      "0  Alice   21    Washington, DC\n",
      "1    Bob   26  Newyork City, NY\n",
      "2  Chris   34      Richmond, VA\n"
     ]
    }
   ],
   "source": [
    "import pandas as pd\n",
    "\n",
    "data_dict = { \"Name\" : [\"Alice\", \"Bob\", \"Chris\"],\n",
    "              \"Age\" : [21, 26, 34],\n",
    "              \"Address\" : [\"Washington, DC\", \"Newyork City, NY\", \"Richmond, VA\"]}\n",
    "\n",
    "data_frame = pd.DataFrame(data_dict)\n",
    "\n",
    "print(data_frame)"
   ]
  },
  {
   "cell_type": "markdown",
   "metadata": {},
   "source": [
    "## Data Frame Functions:"
   ]
  },
  {
   "cell_type": "code",
   "execution_count": 3,
   "metadata": {},
   "outputs": [
    {
     "name": "stdout",
     "output_type": "stream",
     "text": [
      "    Name  Age           Address\n",
      "0  Alice   21    Washington, DC\n",
      "1    Bob   26  Newyork City, NY\n",
      "    Name  Age           Address\n",
      "1    Bob   26  Newyork City, NY\n",
      "2  Chris   34      Richmond, VA\n",
      "(3, 3)\n",
      "Index(['Name', 'Age', 'Address'], dtype='object')\n",
      "Name       object\n",
      "Age         int64\n",
      "Address    object\n",
      "dtype: object\n"
     ]
    }
   ],
   "source": [
    "# First 2 Rows of the DataFrame\n",
    "print(data_frame.head(2))\n",
    "# Last 2 rows of the DataFrame\n",
    "print(data_frame.tail(2))\n",
    "# A tuple representing the number of the dimensions (columns and rows) of the data frame\n",
    "print(data_frame.shape)\n",
    "# Column lables of the Dataframe df\n",
    "print(data_frame.columns)\n",
    "# Data type of each column\n",
    "print(data_frame.dtypes)"
   ]
  },
  {
   "cell_type": "markdown",
   "metadata": {},
   "source": [
    "## λ (Lambda) Function for DataFrame Manipulation"
   ]
  },
  {
   "cell_type": "code",
   "execution_count": 9,
   "metadata": {},
   "outputs": [
    {
     "name": "stdout",
     "output_type": "stream",
     "text": [
      "    Name  Age           Address isAdult\n",
      "0  Alice   21    Washington, DC       Y\n",
      "1    Bob   26  Newyork City, NY       Y\n",
      "2  Chris   34      Richmond, VA       Y\n"
     ]
    }
   ],
   "source": [
    "data_frame[\"isAdult\"] = data_frame[\"Age\"].apply(lambda age: \"Y\" if age >= 17 else \"N\")\n",
    "print(data_frame)"
   ]
  },
  {
   "cell_type": "markdown",
   "metadata": {},
   "source": [
    "## Concatenation of Two Data Frames"
   ]
  },
  {
   "cell_type": "code",
   "execution_count": 13,
   "metadata": {},
   "outputs": [
    {
     "name": "stdout",
     "output_type": "stream",
     "text": [
      "    Name  Age           Address isAdult\n",
      "0  Alice   21    Washington, DC       Y\n",
      "1    Bob   26  Newyork City, NY       Y\n",
      "2  Chris   34      Richmond, VA       Y\n",
      "3  David   14       Chicago, IL       N\n"
     ]
    }
   ],
   "source": [
    "data_frame2 = pd.DataFrame({\"Name\": [\"David\"], \"Age\": [14], \"Address\" : [\"Chicago, IL\"], \"isAdult\": [\"N\"] })\n",
    "\n",
    "data_frame_concatenated = pd.concat([data_frame, data_frame2], ignore_index=True)\n",
    "\n",
    "print(data_frame_concatenated)"
   ]
  },
  {
   "cell_type": "markdown",
   "metadata": {},
   "source": [
    "## Find Elements"
   ]
  },
  {
   "cell_type": "code",
   "execution_count": 14,
   "metadata": {},
   "outputs": [
    {
     "name": "stdout",
     "output_type": "stream",
     "text": [
      "0    Alice\n",
      "1      Bob\n",
      "2    Chris\n",
      "Name: Name, dtype: object\n",
      "    Name  Age\n",
      "0  Alice   21\n",
      "1    Bob   26\n",
      "2  Chris   34\n"
     ]
    }
   ],
   "source": [
    "# Find By a Column Name\n",
    "print(data_frame[\"Name\"])\n",
    "# Find By multiple Columns\n",
    "print(data_frame[[\"Name\", \"Age\"]])"
   ]
  },
  {
   "cell_type": "code",
   "execution_count": 16,
   "metadata": {},
   "outputs": [
    {
     "name": "stdout",
     "output_type": "stream",
     "text": [
      "Richmond, VA\n",
      "    Name  Age\n",
      "0  Alice   21\n",
      "1    Bob   26\n"
     ]
    }
   ],
   "source": [
    "# Find by integer Location (iloc)\n",
    "# Find a value in thrid row and third column\n",
    "print(data_frame.iloc[2, 2])\n",
    "# Find first two rows and columns\n",
    "print(data_frame.iloc[:2, :2])\n",
    "\n"
   ]
  }
 ],
 "metadata": {
  "kernelspec": {
   "display_name": "Python 3",
   "language": "python",
   "name": "python3"
  },
  "language_info": {
   "codemirror_mode": {
    "name": "ipython",
    "version": 3
   },
   "file_extension": ".py",
   "mimetype": "text/x-python",
   "name": "python",
   "nbconvert_exporter": "python",
   "pygments_lexer": "ipython3",
   "version": "3.12.1"
  }
 },
 "nbformat": 4,
 "nbformat_minor": 2
}
