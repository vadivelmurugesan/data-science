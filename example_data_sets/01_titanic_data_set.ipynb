{
 "cells": [
  {
   "cell_type": "markdown",
   "metadata": {},
   "source": [
    "# Titanic Dataset from Seaborn\n",
    "Seaborn is a Python data visualization library based on matplotlib. It provides a high-level interface for drawing attractive and informative statistical graphics.\n",
    "\n",
    "Seaborn helps you explore and understand your data. Its plotting functions operate on dataframes and arrays containing whole datasets and internally perform the necessary semantic mapping and statistical aggregation to produce informative plots. Its dataset-oriented, declarative API lets you focus on what the different elements of your plots mean, rather than on the details of how to draw them."
   ]
  },
  {
   "cell_type": "code",
   "execution_count": 1,
   "metadata": {},
   "outputs": [],
   "source": [
    "# import libraries\n",
    "import pandas as pd\n",
    "import seaborn as sns\n",
    "import numpy as np\n",
    "from scipy import stats as st\n",
    "from matplotlib import pyplot as plt"
   ]
  },
  {
   "cell_type": "code",
   "execution_count": 2,
   "metadata": {},
   "outputs": [
    {
     "name": "stdout",
     "output_type": "stream",
     "text": [
      "Data Type:  <class 'pandas.core.frame.DataFrame'>\n",
      "   survived  pclass     sex   age  sibsp  parch     fare embarked  class  \\\n",
      "0         0       3    male  22.0      1      0   7.2500        S  Third   \n",
      "1         1       1  female  38.0      1      0  71.2833        C  First   \n",
      "2         1       3  female  26.0      0      0   7.9250        S  Third   \n",
      "3         1       1  female  35.0      1      0  53.1000        S  First   \n",
      "4         0       3    male  35.0      0      0   8.0500        S  Third   \n",
      "\n",
      "     who  adult_male deck  embark_town alive  alone  \n",
      "0    man        True  NaN  Southampton    no  False  \n",
      "1  woman       False    C    Cherbourg   yes  False  \n",
      "2  woman       False  NaN  Southampton   yes   True  \n",
      "3  woman       False    C  Southampton   yes  False  \n",
      "4    man        True  NaN  Southampton    no   True  \n"
     ]
    }
   ],
   "source": [
    "# Load the titanic dataset into a Pandas DataFrame\n",
    "titanic_dataset = sns.load_dataset('titanic')\n",
    "\n",
    "# Print Data Type\n",
    "print(\"Data Type: \", type(titanic_dataset))\n",
    "\n",
    "# Print First 5 Rows of the data set\n",
    "print(titanic_dataset.head())\n"
   ]
  },
  {
   "cell_type": "code",
   "execution_count": 3,
   "metadata": {},
   "outputs": [
    {
     "name": "stdout",
     "output_type": "stream",
     "text": [
      "Data Frame After adding a new column\n",
      "   survived  pclass     sex   age  sibsp  parch     fare embarked  class  \\\n",
      "0         0       3    male  22.0      1      0   7.2500        S  Third   \n",
      "1         1       1  female  38.0      1      0  71.2833        C  First   \n",
      "2         1       3  female  26.0      0      0   7.9250        S  Third   \n",
      "3         1       1  female  35.0      1      0  53.1000        S  First   \n",
      "4         0       3    male  35.0      0      0   8.0500        S  Third   \n",
      "\n",
      "     who  adult_male deck  embark_town alive  alone  is_child  \n",
      "0    man        True  NaN  Southampton    no  False     False  \n",
      "1  woman       False    C    Cherbourg   yes  False     False  \n",
      "2  woman       False  NaN  Southampton   yes   True     False  \n",
      "3  woman       False    C  Southampton   yes  False     False  \n",
      "4    man        True  NaN  Southampton    no   True     False  \n"
     ]
    }
   ],
   "source": [
    "#Create a new column called is_child, which is derived using 'age' column\n",
    "titanic_dataset['is_child'] = titanic_dataset[\"age\"].apply(lambda age: True if age < 18 else False)\n",
    "print(\"Data Frame After adding a new column\")\n",
    "print(titanic_dataset.head())"
   ]
  },
  {
   "cell_type": "code",
   "execution_count": 4,
   "metadata": {},
   "outputs": [
    {
     "name": "stdout",
     "output_type": "stream",
     "text": [
      "Concatenated DataFrame:\n",
      "\n",
      "     survived  pclass     sex   age  sibsp  parch    fare embarked  class  \\\n",
      "887       1.0       1  female  19.0      0      0   30.00        S  First   \n",
      "888       0.0       3  female   NaN      1      2   23.45        S  Third   \n",
      "889       1.0       1    male  26.0      0      0   30.00        C  First   \n",
      "890       0.0       3    male  32.0      0      0    7.75        Q  Third   \n",
      "891       NaN       1    male  72.0      1      0  126.00        S  First   \n",
      "\n",
      "       who  adult_male deck  embark_town alive  alone  is_child  surived  \n",
      "887  woman       False    B  Southampton   yes   True     False      NaN  \n",
      "888  woman       False  NaN  Southampton    no  False     False      NaN  \n",
      "889    man        True    C    Cherbourg   yes   True     False      NaN  \n",
      "890    man        True  NaN   Queenstown    no   True     False      NaN  \n",
      "891    man        True  NaN     Richmond    no  False     False      0.0  \n"
     ]
    },
    {
     "name": "stderr",
     "output_type": "stream",
     "text": [
      "/var/folders/9q/q3zcglms18n6vqmb1vjys8hm0000gn/T/ipykernel_16303/3011189391.py:5: FutureWarning: The behavior of DataFrame concatenation with empty or all-NA entries is deprecated. In a future version, this will no longer exclude empty or all-NA columns when determining the result dtypes. To retain the old behavior, exclude the relevant entries before the concat operation.\n",
      "  titanic_concatenated_data_set = pd.concat([titanic_dataset, new_row], ignore_index=True)\n"
     ]
    }
   ],
   "source": [
    "#Concatenate a new row in the data frame\n",
    "new_row = pd.DataFrame({\"surived\":[0], \"pclass\" : [1], \"sex\" : [\"male\"], \"age\" : [72], \"sibsp\": [1], \"parch\" : [0], \"fare\" : [126.00], \"embarked\" : [\"S\"], \"class\" : [\"First\"], \"who\" : [\"man\"],\n",
    "                        \"adult_male\" : [True], \"deck\" : [None], \"embark_town\" : [\"Richmond\"], \"alive\" : [\"no\"], \"alone\" : [False], \"is_child\" : [False]})\n",
    "\n",
    "titanic_concatenated_data_set = pd.concat([titanic_dataset, new_row], ignore_index=True)\n",
    "print(\"Concatenated DataFrame:\\n\")\n",
    "print(titanic_concatenated_data_set.tail())\n"
   ]
  },
  {
   "cell_type": "code",
   "execution_count": 5,
   "metadata": {},
   "outputs": [
    {
     "name": "stdout",
     "output_type": "stream",
     "text": [
      "Concatenated DataFrame:\n",
      "\n",
      "     survived  pclass     sex   age  sibsp  parch    fare embarked  class  \\\n",
      "887       1.0       1  female  19.0      0      0   30.00        S  First   \n",
      "888       0.0       3  female   NaN      1      2   23.45        S  Third   \n",
      "889       1.0       1    male  26.0      0      0   30.00        C  First   \n",
      "890       0.0       3    male  32.0      0      0    7.75        Q  Third   \n",
      "891       NaN       1    male  72.0      1      0  126.00        S  First   \n",
      "\n",
      "       who  adult_male deck  embark_town alive  alone  is_child  surived  \n",
      "887  woman       False    B  Southampton   yes   True     False      NaN  \n",
      "888  woman       False  NaN  Southampton    no  False     False      NaN  \n",
      "889    man        True    C    Cherbourg   yes   True     False      NaN  \n",
      "890    man        True  NaN   Queenstown    no   True     False      NaN  \n",
      "891    man        True  NaN     Richmond    no  False     False      0.0  \n"
     ]
    }
   ],
   "source": [
    "# To fix FutureWarning Error on The behavior of DataFrame concatenation with empty or all-NA entries is deprecated. In a future version, this will no longer exclude empty or all-NA columns when determining the result dtypes. To retain the old behavior, exclude the relevant entries before the concat operation.\n",
    "\n",
    "# Remove empty columns before concatenating\n",
    "\n",
    "new_row_cleaned = new_row.dropna(axis=1, how='all') \n",
    "\n",
    "titanic_concatenated_data_set = pd.concat([titanic_dataset, new_row_cleaned], ignore_index=True)\n",
    "print(\"Concatenated DataFrame:\\n\")\n",
    "print(titanic_concatenated_data_set.tail())"
   ]
  },
  {
   "cell_type": "markdown",
   "metadata": {},
   "source": [
    "## Descriptive Statistics of Titanic Data Set"
   ]
  },
  {
   "cell_type": "code",
   "execution_count": 6,
   "metadata": {},
   "outputs": [
    {
     "name": "stdout",
     "output_type": "stream",
     "text": [
      "Data Type:  <class 'pandas.core.frame.DataFrame'>\n",
      "Mean of Age:  29.69911764705882\n",
      "Median of Age:  28.0\n",
      "Mode of Age:  24.0\n"
     ]
    }
   ],
   "source": [
    "# Calculate Basic Statistics \n",
    "# Central Tendancy - Mean, Median and Mode\n",
    "# Mean - Average of Given Values\n",
    "print(\"Data Type: \", type(titanic_dataset))\n",
    "mean_age = titanic_dataset[\"age\"].mean()\n",
    "print(\"Mean of Age: \", mean_age)\n",
    "# Median - Middle value \n",
    "median_age = titanic_dataset[\"age\"].median()\n",
    "print(\"Median of Age: \", median_age)\n",
    "# Mode - Most Frequency Occuring Value\n",
    "mode_age = titanic_dataset[\"age\"].mode()[0]\n",
    "print(\"Mode of Age: \", mode_age)\n",
    "\n"
   ]
  },
  {
   "cell_type": "markdown",
   "metadata": {},
   "source": [
    "## Measures of Variability: Standard Deviation"
   ]
  },
  {
   "cell_type": "code",
   "execution_count": 7,
   "metadata": {},
   "outputs": [
    {
     "name": "stdout",
     "output_type": "stream",
     "text": [
      "Standard Deviation of Age is 14.516321150817316\n"
     ]
    }
   ],
   "source": [
    "# Measures of Dispersion (Variability)\n",
    "\n",
    "# The most common way to gauge the variability is via Standard Deviation\n",
    "\n",
    "# Standard Deviation - Measures how much the values in the dataset vary around the mean\n",
    "\n",
    "std_deviation_age = np.std(titanic_dataset[\"age\"])\n",
    "print(f\"Standard Deviation of Age is {std_deviation_age}\")"
   ]
  },
  {
   "cell_type": "markdown",
   "metadata": {},
   "source": [
    "### Quartiles and Percentails"
   ]
  },
  {
   "cell_type": "code",
   "execution_count": 8,
   "metadata": {},
   "outputs": [
    {
     "name": "stdout",
     "output_type": "stream",
     "text": [
      "99th Percentail of Age using numpy: 65.87\n",
      "First Percentail of Age using numpy: 20.125\n",
      "Third Percentail of Age using numpy: 38.0\n"
     ]
    }
   ],
   "source": [
    "# Percentails - Using NumPy\n",
    "# dropna function will drop NA values\n",
    "total_percentail_age_np = np.percentile(titanic_dataset[\"age\"].dropna(), 99)\n",
    "print(f\"99th Percentail of Age using numpy: {total_percentail_age_np}\")\n",
    "\n",
    "quartile1_age_np = np.percentile(titanic_dataset[\"age\"].dropna(), 25)\n",
    "print(f\"First Percentail of Age using numpy: {quartile1_age_np}\")\n",
    "\n",
    "quartile3_age_np = np.percentile(titanic_dataset[\"age\"].dropna(), 75)\n",
    "print(f\"Third Percentail of Age using numpy: {quartile3_age_np}\")"
   ]
  },
  {
   "cell_type": "code",
   "execution_count": 9,
   "metadata": {},
   "outputs": [
    {
     "name": "stdout",
     "output_type": "stream",
     "text": [
      "99th Percentail of Age using numpy: 65.87\n",
      "First Percentail of Age using numpy: 20.125\n",
      "Third Percentail of Age using numpy: 38.0\n"
     ]
    }
   ],
   "source": [
    "# Percentails - Using Pandas\n",
    "# dropna function will drop NA values\n",
    "total_percentail_age_np = titanic_dataset[\"age\"].quantile(0.99)\n",
    "print(f\"99th Percentail of Age using numpy: {total_percentail_age_np}\")\n",
    "\n",
    "quartile1_age_np = titanic_dataset[\"age\"].quantile(0.25)\n",
    "print(f\"First Percentail of Age using numpy: {quartile1_age_np}\")\n",
    "\n",
    "quartile3_age_np = titanic_dataset[\"age\"].quantile(0.75)\n",
    "print(f\"Third Percentail of Age using numpy: {quartile3_age_np}\")"
   ]
  },
  {
   "cell_type": "code",
   "execution_count": 10,
   "metadata": {},
   "outputs": [
    {
     "name": "stdout",
     "output_type": "stream",
     "text": [
      "Mean of age and fare age     29.699118\n",
      "fare    32.204208\n",
      "dtype: float64\n",
      "Median of age and fare age     28.0000\n",
      "fare    14.4542\n",
      "dtype: float64\n",
      "Mode of age and fare age     24.00\n",
      "fare     8.05\n",
      "Name: 0, dtype: float64\n"
     ]
    }
   ],
   "source": [
    "# Descriptive Stats of Fares\n",
    "age_fare_sub_dataset = titanic_dataset[['age', 'fare']]\n",
    "\n",
    "# Calcualte mean, median and mode of age and fare columns in the titanic data set\n",
    "print(f'Mean of age and fare', age_fare_sub_dataset.mean())\n",
    "print(f'Median of age and fare', age_fare_sub_dataset.median())\n",
    "print(f'Mode of age and fare', age_fare_sub_dataset.mode().iloc[0])"
   ]
  },
  {
   "cell_type": "markdown",
   "metadata": {},
   "source": [
    "## Data Filtering"
   ]
  },
  {
   "cell_type": "code",
   "execution_count": 11,
   "metadata": {},
   "outputs": [
    {
     "name": "stdout",
     "output_type": "stream",
     "text": [
      "   survived  pclass     sex   age  sibsp  parch     fare embarked   class  \\\n",
      "1         1       1  female  38.0      1      0  71.2833        C   First   \n",
      "2         1       3  female  26.0      0      0   7.9250        S   Third   \n",
      "3         1       1  female  35.0      1      0  53.1000        S   First   \n",
      "8         1       3  female  27.0      0      2  11.1333        S   Third   \n",
      "9         1       2  female  14.0      1      0  30.0708        C  Second   \n",
      "\n",
      "     who  adult_male deck  embark_town alive  alone  is_child  \n",
      "1  woman       False    C    Cherbourg   yes  False     False  \n",
      "2  woman       False  NaN  Southampton   yes   True     False  \n",
      "3  woman       False    C  Southampton   yes  False     False  \n",
      "8  woman       False  NaN  Southampton   yes  False     False  \n",
      "9  child       False  NaN    Cherbourg   yes  False      True  \n"
     ]
    }
   ],
   "source": [
    "# Filter passengers by servived\n",
    "survivors = titanic_dataset [ titanic_dataset['survived'] == True]\n",
    "\n",
    "print(survivors.head())"
   ]
  },
  {
   "cell_type": "markdown",
   "metadata": {},
   "source": [
    "### Multiple Conditions in Data Filtering"
   ]
  },
  {
   "cell_type": "code",
   "execution_count": 12,
   "metadata": {},
   "outputs": [
    {
     "name": "stdout",
     "output_type": "stream",
     "text": [
      "   survived  pclass     sex   age  sibsp  parch     fare embarked   class  \\\n",
      "1         1       1  female  38.0      1      0  71.2833        C   First   \n",
      "2         1       3  female  26.0      0      0   7.9250        S   Third   \n",
      "3         1       1  female  35.0      1      0  53.1000        S   First   \n",
      "8         1       3  female  27.0      0      2  11.1333        S   Third   \n",
      "9         1       2  female  14.0      1      0  30.0708        C  Second   \n",
      "\n",
      "     who  adult_male deck  embark_town alive  alone  is_child  \n",
      "1  woman       False    C    Cherbourg   yes  False     False  \n",
      "2  woman       False  NaN  Southampton   yes   True     False  \n",
      "3  woman       False    C  Southampton   yes  False     False  \n",
      "8  woman       False  NaN  Southampton   yes  False     False  \n",
      "9  child       False  NaN    Cherbourg   yes  False      True  \n"
     ]
    }
   ],
   "source": [
    "female_survivors = titanic_dataset[(titanic_dataset['survived'] == True) & (titanic_dataset['sex'] == 'female')]\n",
    "\n",
    "print(female_survivors.head())"
   ]
  },
  {
   "cell_type": "markdown",
   "metadata": {},
   "source": [
    "### Sorting Data"
   ]
  },
  {
   "cell_type": "code",
   "execution_count": 13,
   "metadata": {},
   "outputs": [
    {
     "name": "stdout",
     "output_type": "stream",
     "text": [
      "     survived  pclass     sex   age  sibsp  parch     fare embarked   class  \\\n",
      "803         1       3    male  0.42      0      1   8.5167        C   Third   \n",
      "755         1       2    male  0.67      1      1  14.5000        S  Second   \n",
      "644         1       3  female  0.75      2      1  19.2583        C   Third   \n",
      "469         1       3  female  0.75      2      1  19.2583        C   Third   \n",
      "831         1       2    male  0.83      1      1  18.7500        S  Second   \n",
      "\n",
      "       who  adult_male deck  embark_town alive  alone  is_child  \n",
      "803  child       False  NaN    Cherbourg   yes  False      True  \n",
      "755  child       False  NaN  Southampton   yes  False      True  \n",
      "644  child       False  NaN    Cherbourg   yes  False      True  \n",
      "469  child       False  NaN    Cherbourg   yes  False      True  \n",
      "831  child       False  NaN  Southampton   yes  False      True  \n"
     ]
    }
   ],
   "source": [
    "# Sorting survivors by age\n",
    "\n",
    "sorted_survivors = survivors.sort_values('age')\n",
    "\n",
    "print(sorted_survivors.head())\n"
   ]
  },
  {
   "cell_type": "code",
   "execution_count": 14,
   "metadata": {},
   "outputs": [
    {
     "name": "stdout",
     "output_type": "stream",
     "text": [
      "     survived  pclass     sex   age  sibsp  parch     fare embarked  class  \\\n",
      "803         1       3    male  0.42      0      1   8.5167        C  Third   \n",
      "469         1       3  female  0.75      2      1  19.2583        C  Third   \n",
      "644         1       3  female  0.75      2      1  19.2583        C  Third   \n",
      "172         1       3  female  1.00      1      1  11.1333        S  Third   \n",
      "381         1       3  female  1.00      0      2  15.7417        C  Third   \n",
      "\n",
      "       who  adult_male deck  embark_town alive  alone  is_child  \n",
      "803  child       False  NaN    Cherbourg   yes  False      True  \n",
      "469  child       False  NaN    Cherbourg   yes  False      True  \n",
      "644  child       False  NaN    Cherbourg   yes  False      True  \n",
      "172  child       False  NaN  Southampton   yes  False      True  \n",
      "381  child       False  NaN    Cherbourg   yes  False      True  \n"
     ]
    }
   ],
   "source": [
    "# Sorting by multiple columns - age and pclass\n",
    "\n",
    "sorted_survivors = survivors.sort_values(['pclass', 'age'], ascending=[False, True]) \n",
    "\n",
    "print(sorted_survivors.head())"
   ]
  },
  {
   "cell_type": "code",
   "execution_count": 15,
   "metadata": {},
   "outputs": [
    {
     "name": "stdout",
     "output_type": "stream",
     "text": [
      "<class 'pandas.core.frame.DataFrame'>\n",
      "RangeIndex: 891 entries, 0 to 890\n",
      "Data columns (total 16 columns):\n",
      " #   Column       Non-Null Count  Dtype   \n",
      "---  ------       --------------  -----   \n",
      " 0   survived     891 non-null    int64   \n",
      " 1   pclass       891 non-null    int64   \n",
      " 2   sex          891 non-null    object  \n",
      " 3   age          714 non-null    float64 \n",
      " 4   sibsp        891 non-null    int64   \n",
      " 5   parch        891 non-null    int64   \n",
      " 6   fare         891 non-null    float64 \n",
      " 7   embarked     889 non-null    object  \n",
      " 8   class        891 non-null    category\n",
      " 9   who          891 non-null    object  \n",
      " 10  adult_male   891 non-null    bool    \n",
      " 11  deck         203 non-null    category\n",
      " 12  embark_town  889 non-null    object  \n",
      " 13  alive        891 non-null    object  \n",
      " 14  alone        891 non-null    bool    \n",
      " 15  is_child     891 non-null    bool    \n",
      "dtypes: bool(3), category(2), float64(2), int64(4), object(5)\n",
      "memory usage: 81.5+ KB\n",
      "None\n",
      "sex\n",
      "male      577\n",
      "female    314\n",
      "Name: count, dtype: int64\n"
     ]
    }
   ],
   "source": [
    "# Provide a concise summary of the DataFrame\n",
    "print(titanic_dataset.info())\n",
    "\n",
    "# Count the number of males and females in the 'sex' column\n",
    "print(titanic_dataset['sex'].value_counts())"
   ]
  },
  {
   "cell_type": "markdown",
   "metadata": {},
   "source": [
    "#### Function calculates basic statistics of all continuous variables\n",
    "\n",
    "Types of variables that can take on an infinite number of values within a specific range. It provides the count, mean, standard deviation (std), min, max, quartiles in its output"
   ]
  },
  {
   "cell_type": "code",
   "execution_count": 16,
   "metadata": {},
   "outputs": [
    {
     "name": "stdout",
     "output_type": "stream",
     "text": [
      "         survived      pclass         age       sibsp       parch        fare\n",
      "count  891.000000  891.000000  714.000000  891.000000  891.000000  891.000000\n",
      "mean     0.383838    2.308642   29.699118    0.523008    0.381594   32.204208\n",
      "std      0.486592    0.836071   14.526497    1.102743    0.806057   49.693429\n",
      "min      0.000000    1.000000    0.420000    0.000000    0.000000    0.000000\n",
      "25%      0.000000    2.000000   20.125000    0.000000    0.000000    7.910400\n",
      "50%      0.000000    3.000000   28.000000    0.000000    0.000000   14.454200\n",
      "75%      1.000000    3.000000   38.000000    1.000000    0.000000   31.000000\n",
      "max      1.000000    3.000000   80.000000    8.000000    6.000000  512.329200\n"
     ]
    }
   ],
   "source": [
    "# Generate Descriptive Statistics that summarize a dataset's distribution's central tendency, dispersion, and shape, excluding NaN values\n",
    "print(titanic_dataset.describe())"
   ]
  },
  {
   "cell_type": "code",
   "execution_count": 17,
   "metadata": {},
   "outputs": [
    {
     "name": "stdout",
     "output_type": "stream",
     "text": [
      "          survived      pclass   sex         age       sibsp       parch  \\\n",
      "count   891.000000  891.000000   891  714.000000  891.000000  891.000000   \n",
      "unique         NaN         NaN     2         NaN         NaN         NaN   \n",
      "top            NaN         NaN  male         NaN         NaN         NaN   \n",
      "freq           NaN         NaN   577         NaN         NaN         NaN   \n",
      "mean      0.383838    2.308642   NaN   29.699118    0.523008    0.381594   \n",
      "std       0.486592    0.836071   NaN   14.526497    1.102743    0.806057   \n",
      "min       0.000000    1.000000   NaN    0.420000    0.000000    0.000000   \n",
      "25%       0.000000    2.000000   NaN   20.125000    0.000000    0.000000   \n",
      "50%       0.000000    3.000000   NaN   28.000000    0.000000    0.000000   \n",
      "75%       1.000000    3.000000   NaN   38.000000    1.000000    0.000000   \n",
      "max       1.000000    3.000000   NaN   80.000000    8.000000    6.000000   \n",
      "\n",
      "              fare embarked  class  who adult_male deck  embark_town alive  \\\n",
      "count   891.000000      889    891  891        891  203          889   891   \n",
      "unique         NaN        3      3    3          2    7            3     2   \n",
      "top            NaN        S  Third  man       True    C  Southampton    no   \n",
      "freq           NaN      644    491  537        537   59          644   549   \n",
      "mean     32.204208      NaN    NaN  NaN        NaN  NaN          NaN   NaN   \n",
      "std      49.693429      NaN    NaN  NaN        NaN  NaN          NaN   NaN   \n",
      "min       0.000000      NaN    NaN  NaN        NaN  NaN          NaN   NaN   \n",
      "25%       7.910400      NaN    NaN  NaN        NaN  NaN          NaN   NaN   \n",
      "50%      14.454200      NaN    NaN  NaN        NaN  NaN          NaN   NaN   \n",
      "75%      31.000000      NaN    NaN  NaN        NaN  NaN          NaN   NaN   \n",
      "max     512.329200      NaN    NaN  NaN        NaN  NaN          NaN   NaN   \n",
      "\n",
      "       alone is_child  \n",
      "count    891      891  \n",
      "unique     2        2  \n",
      "top     True    False  \n",
      "freq     537      778  \n",
      "mean     NaN      NaN  \n",
      "std      NaN      NaN  \n",
      "min      NaN      NaN  \n",
      "25%      NaN      NaN  \n",
      "50%      NaN      NaN  \n",
      "75%      NaN      NaN  \n",
      "max      NaN      NaN  \n"
     ]
    }
   ],
   "source": [
    "# Notice how all the categorical columns like 'sex' or 'class' are missing in the output. By default describe() only includes columns with numerical data\n",
    "\n",
    "print(titanic_dataset.describe(include='all'))"
   ]
  },
  {
   "cell_type": "markdown",
   "metadata": {},
   "source": [
    "In the above,\n",
    "\n",
    "unique - the number of distinct objects in the column\n",
    "top - most frequest object\n",
    "freq - How many times the top object appears in the column"
   ]
  },
  {
   "cell_type": "markdown",
   "metadata": {},
   "source": [
    "### Variablity [Dispersion]\n",
    "\n",
    "It is extent to which data points defer from the center. "
   ]
  },
  {
   "cell_type": "markdown",
   "metadata": {},
   "source": [
    "#### Range\n",
    "\n",
    "* Range is the difference between the min and max values in the dataset.\n",
    "* It is sensitive to the outliers; extriemly high or low value can skew the range."
   ]
  },
  {
   "cell_type": "code",
   "execution_count": 18,
   "metadata": {},
   "outputs": [
    {
     "name": "stdout",
     "output_type": "stream",
     "text": [
      "Range of the Age is 79.58\n"
     ]
    }
   ],
   "source": [
    "# Calculate the range for the column age\n",
    "\n",
    "age_range = titanic_dataset['age'].max() - titanic_dataset['age'].min()\n",
    "\n",
    "print(f\"Range of the Age is {age_range}\")"
   ]
  },
  {
   "cell_type": "markdown",
   "metadata": {},
   "source": [
    "#### Interquartile Range (IQR)\n",
    "\n",
    "The IQR measures statistical dispresion, how far the data points are. It's range within the middle 50% of the data falls. It is a better measure of dispresion than the range because outliers don't affect it."
   ]
  },
  {
   "cell_type": "code",
   "execution_count": 19,
   "metadata": {},
   "outputs": [
    {
     "name": "stdout",
     "output_type": "stream",
     "text": [
      "First Percentail of Age using numpy: 20.125\n",
      "Third Percentail of Age using numpy: 38.0\n",
      "IQR is 17.875\n"
     ]
    }
   ],
   "source": [
    "# calculate the IQR\n",
    "quartile1_age_np = titanic_dataset[\"age\"].quantile(0.25)\n",
    "print(f\"First Percentail of Age using numpy: {quartile1_age_np}\")\n",
    "\n",
    "quartile3_age_np = titanic_dataset[\"age\"].quantile(0.75)\n",
    "print(f\"Third Percentail of Age using numpy: {quartile3_age_np}\")\n",
    "\n",
    "iqr = quartile3_age_np - quartile1_age_np\n",
    "print(f\"IQR is {iqr}\")"
   ]
  },
  {
   "cell_type": "code",
   "execution_count": 20,
   "metadata": {},
   "outputs": [
    {
     "name": "stdout",
     "output_type": "stream",
     "text": [
      "Fare Range: 512.3292\n",
      "Fare IQR: 23.0896\n",
      "Median Fare: 14.4542\n"
     ]
    }
   ],
   "source": [
    "# Calculate for Fare Column\n",
    "\n",
    "# Calculate the numerical data range for 'fare'\n",
    "fare_range = titanic_dataset['fare'].max() - titanic_dataset['fare'].min()\n",
    "print('Fare Range:', fare_range)\n",
    "\n",
    "# Calculate the IQR for 'fare'\n",
    "Q1 = titanic_dataset['fare'].quantile(0.25)\n",
    "Q3 = titanic_dataset['fare'].quantile(0.75)\n",
    "IQR = Q3 - Q1\n",
    "print('Fare IQR:', IQR)\n",
    "\n",
    "median_fare = titanic_dataset['fare'].median()\n",
    "print('Median Fare:', median_fare)"
   ]
  },
  {
   "cell_type": "markdown",
   "metadata": {},
   "source": [
    "### Data Visualization with Matplotlib"
   ]
  },
  {
   "cell_type": "code",
   "execution_count": 21,
   "metadata": {},
   "outputs": [
    {
     "data": {
      "image/png": "[encoded data removed]",
      "text/plain": [
       "<Figure size 640x480 with 1 Axes>"
      ]
     },
     "metadata": {},
     "output_type": "display_data"
    }
   ],
   "source": [
    "# Passenger Class Distribution\n",
    "\n",
    "class_data = titanic_dataset['pclass'].value_counts()\n",
    "\n",
    "class_data.plot(kind = 'bar', color = \"aqua\", alpha = 0.7, grid = True)\n",
    "plt.xlabel('Passenger Class')\n",
    "plt.ylabel('Frequency')\n",
    "plt.title('Passender Class Distribution')\n",
    "plt.show()"
   ]
  },
  {
   "cell_type": "markdown",
   "metadata": {},
   "source": [
    "### Handling Missing Data"
   ]
  },
  {
   "cell_type": "code",
   "execution_count": 28,
   "metadata": {},
   "outputs": [
    {
     "data": {
      "text/plain": [
       "survived         0\n",
       "pclass           0\n",
       "sex              0\n",
       "age            177\n",
       "sibsp            0\n",
       "parch            0\n",
       "fare             0\n",
       "embarked         2\n",
       "class            0\n",
       "who              0\n",
       "adult_male       0\n",
       "deck           688\n",
       "embark_town      2\n",
       "alive            0\n",
       "alone            0\n",
       "dtype: int64"
      ]
     },
     "execution_count": 28,
     "metadata": {},
     "output_type": "execute_result"
    }
   ],
   "source": [
    "# Detect missing data\n",
    "\n",
    "missing_values = titanic_dataset.isnull()\n",
    "missing_values.head(10)\n",
    "\n",
    "# Count missing values in each column\n",
    "\n",
    "missing_values_count = missing_values.sum()\n",
    "missing_values_count"
   ]
  },
  {
   "cell_type": "code",
   "execution_count": 29,
   "metadata": {},
   "outputs": [
    {
     "data": {
      "text/plain": [
       "survived       0\n",
       "pclass         0\n",
       "sex            0\n",
       "age            0\n",
       "sibsp          0\n",
       "parch          0\n",
       "fare           0\n",
       "embarked       0\n",
       "class          0\n",
       "who            0\n",
       "adult_male     0\n",
       "deck           0\n",
       "embark_town    0\n",
       "alive          0\n",
       "alone          0\n",
       "dtype: int64"
      ]
     },
     "execution_count": 29,
     "metadata": {},
     "output_type": "execute_result"
    }
   ],
   "source": [
    "# Drop Rows with Missing Values\n",
    "\n",
    "titanic_dataset_copy = titanic_dataset.copy()\n",
    "\n",
    "titanic_dataset_copy.dropna(inplace= True)\n",
    "\n",
    "# Now recheck the missing values in every column\n",
    "titanic_dataset_copy.isnull().sum()"
   ]
  },
  {
   "cell_type": "markdown",
   "metadata": {},
   "source": [
    "### Visualize Missing Data using Seaborn"
   ]
  },
  {
   "cell_type": "code",
   "execution_count": 31,
   "metadata": {},
   "outputs": [
    {
     "data": {
      "image/png": "[encoded data removed]",
      "text/plain": [
       "<Figure size 1000x600 with 2 Axes>"
      ]
     },
     "metadata": {},
     "output_type": "display_data"
    }
   ],
   "source": [
    "plt.figure(figsize=(10, 6))\n",
    "\n",
    "sns.heatmap(data=titanic_dataset.isnull(), cmap='viridis' )\n",
    "\n",
    "plt.show()"
   ]
  },
  {
   "cell_type": "markdown",
   "metadata": {},
   "source": [
    "### Handle Missing Values - Imputation"
   ]
  },
  {
   "cell_type": "code",
   "execution_count": 36,
   "metadata": {},
   "outputs": [
    {
     "name": "stdout",
     "output_type": "stream",
     "text": [
      "Missing values in age column before imputation 177\n",
      "Missing values in age column after imputation 0\n"
     ]
    }
   ],
   "source": [
    "# Check the missing values in each column before imputation\n",
    "print(f\"Missing values in age column before imputation {titanic_dataset['age'].isnull().sum()}\")\n",
    "\n",
    "# Impute age using the mean values\n",
    "\n",
    "titanic_dataset['age'] = titanic_dataset['age'].fillna(titanic_dataset['age'].mean())\n",
    "\n",
    "# Check the missing values in each column after imputation\n",
    "print(f\"Missing values in age column after imputation {titanic_dataset['age'].isnull().sum()}\")\n"
   ]
  },
  {
   "cell_type": "markdown",
   "metadata": {},
   "source": [
    "### Handling categorial values"
   ]
  },
  {
   "cell_type": "code",
   "execution_count": 37,
   "metadata": {},
   "outputs": [
    {
     "name": "stdout",
     "output_type": "stream",
     "text": [
      "['male' 'female']\n"
     ]
    }
   ],
   "source": [
    "print(titanic_dataset['sex'].unique())"
   ]
  },
  {
   "cell_type": "code",
   "execution_count": 38,
   "metadata": {},
   "outputs": [
    {
     "name": "stdout",
     "output_type": "stream",
     "text": [
      "['Southampton' 'Cherbourg' 'Queenstown' nan]\n"
     ]
    }
   ],
   "source": [
    "print(titanic_dataset['embark_town'].unique())"
   ]
  },
  {
   "cell_type": "markdown",
   "metadata": {},
   "source": [
    "### Label Encoding with Pandas"
   ]
  },
  {
   "cell_type": "code",
   "execution_count": 42,
   "metadata": {},
   "outputs": [
    {
     "data": {
      "text/html": [
       "<div>\n",
       "<style scoped>\n",
       "    .dataframe tbody tr th:only-of-type {\n",
       "        vertical-align: middle;\n",
       "    }\n",
       "\n",
       "    .dataframe tbody tr th {\n",
       "        vertical-align: top;\n",
       "    }\n",
       "\n",
       "    .dataframe thead th {\n",
       "        text-align: right;\n",
       "    }\n",
       "</style>\n",
       "<table border=\"1\" class=\"dataframe\">\n",
       "  <thead>\n",
       "    <tr style=\"text-align: right;\">\n",
       "      <th></th>\n",
       "      <th>sex</th>\n",
       "      <th>sex_encoded</th>\n",
       "    </tr>\n",
       "  </thead>\n",
       "  <tbody>\n",
       "    <tr>\n",
       "      <th>0</th>\n",
       "      <td>male</td>\n",
       "      <td>0</td>\n",
       "    </tr>\n",
       "    <tr>\n",
       "      <th>1</th>\n",
       "      <td>female</td>\n",
       "      <td>1</td>\n",
       "    </tr>\n",
       "    <tr>\n",
       "      <th>2</th>\n",
       "      <td>female</td>\n",
       "      <td>1</td>\n",
       "    </tr>\n",
       "    <tr>\n",
       "      <th>3</th>\n",
       "      <td>female</td>\n",
       "      <td>1</td>\n",
       "    </tr>\n",
       "    <tr>\n",
       "      <th>4</th>\n",
       "      <td>male</td>\n",
       "      <td>0</td>\n",
       "    </tr>\n",
       "    <tr>\n",
       "      <th>5</th>\n",
       "      <td>male</td>\n",
       "      <td>0</td>\n",
       "    </tr>\n",
       "    <tr>\n",
       "      <th>6</th>\n",
       "      <td>male</td>\n",
       "      <td>0</td>\n",
       "    </tr>\n",
       "    <tr>\n",
       "      <th>7</th>\n",
       "      <td>male</td>\n",
       "      <td>0</td>\n",
       "    </tr>\n",
       "    <tr>\n",
       "      <th>8</th>\n",
       "      <td>female</td>\n",
       "      <td>1</td>\n",
       "    </tr>\n",
       "    <tr>\n",
       "      <th>9</th>\n",
       "      <td>female</td>\n",
       "      <td>1</td>\n",
       "    </tr>\n",
       "  </tbody>\n",
       "</table>\n",
       "</div>"
      ],
      "text/plain": [
       "      sex  sex_encoded\n",
       "0    male            0\n",
       "1  female            1\n",
       "2  female            1\n",
       "3  female            1\n",
       "4    male            0\n",
       "5    male            0\n",
       "6    male            0\n",
       "7    male            0\n",
       "8  female            1\n",
       "9  female            1"
      ]
     },
     "execution_count": 42,
     "metadata": {},
     "output_type": "execute_result"
    }
   ],
   "source": [
    "# Label Enconding for Sex\n",
    "titanic_dataset['sex_encoded'] = pd.factorize(titanic_dataset['sex'])[0]\n",
    "titanic_dataset[['sex', 'sex_encoded']].head(10)"
   ]
  },
  {
   "cell_type": "markdown",
   "metadata": {},
   "source": [
    "### One-hot Encoding with Pandas"
   ]
  },
  {
   "cell_type": "code",
   "execution_count": 43,
   "metadata": {},
   "outputs": [
    {
     "data": {
      "text/html": [
       "<div>\n",
       "<style scoped>\n",
       "    .dataframe tbody tr th:only-of-type {\n",
       "        vertical-align: middle;\n",
       "    }\n",
       "\n",
       "    .dataframe tbody tr th {\n",
       "        vertical-align: top;\n",
       "    }\n",
       "\n",
       "    .dataframe thead th {\n",
       "        text-align: right;\n",
       "    }\n",
       "</style>\n",
       "<table border=\"1\" class=\"dataframe\">\n",
       "  <thead>\n",
       "    <tr style=\"text-align: right;\">\n",
       "      <th></th>\n",
       "      <th>survived</th>\n",
       "      <th>pclass</th>\n",
       "      <th>sex</th>\n",
       "      <th>age</th>\n",
       "      <th>sibsp</th>\n",
       "      <th>parch</th>\n",
       "      <th>fare</th>\n",
       "      <th>embarked</th>\n",
       "      <th>class</th>\n",
       "      <th>who</th>\n",
       "      <th>adult_male</th>\n",
       "      <th>deck</th>\n",
       "      <th>embark_town</th>\n",
       "      <th>alive</th>\n",
       "      <th>alone</th>\n",
       "      <th>sex_encoded</th>\n",
       "      <th>town_Cherbourg</th>\n",
       "      <th>town_Queenstown</th>\n",
       "      <th>town_Southampton</th>\n",
       "    </tr>\n",
       "  </thead>\n",
       "  <tbody>\n",
       "    <tr>\n",
       "      <th>0</th>\n",
       "      <td>0</td>\n",
       "      <td>3</td>\n",
       "      <td>male</td>\n",
       "      <td>22.0</td>\n",
       "      <td>1</td>\n",
       "      <td>0</td>\n",
       "      <td>7.2500</td>\n",
       "      <td>S</td>\n",
       "      <td>Third</td>\n",
       "      <td>man</td>\n",
       "      <td>True</td>\n",
       "      <td>NaN</td>\n",
       "      <td>Southampton</td>\n",
       "      <td>no</td>\n",
       "      <td>False</td>\n",
       "      <td>0</td>\n",
       "      <td>False</td>\n",
       "      <td>False</td>\n",
       "      <td>True</td>\n",
       "    </tr>\n",
       "    <tr>\n",
       "      <th>1</th>\n",
       "      <td>1</td>\n",
       "      <td>1</td>\n",
       "      <td>female</td>\n",
       "      <td>38.0</td>\n",
       "      <td>1</td>\n",
       "      <td>0</td>\n",
       "      <td>71.2833</td>\n",
       "      <td>C</td>\n",
       "      <td>First</td>\n",
       "      <td>woman</td>\n",
       "      <td>False</td>\n",
       "      <td>C</td>\n",
       "      <td>Cherbourg</td>\n",
       "      <td>yes</td>\n",
       "      <td>False</td>\n",
       "      <td>1</td>\n",
       "      <td>True</td>\n",
       "      <td>False</td>\n",
       "      <td>False</td>\n",
       "    </tr>\n",
       "    <tr>\n",
       "      <th>2</th>\n",
       "      <td>1</td>\n",
       "      <td>3</td>\n",
       "      <td>female</td>\n",
       "      <td>26.0</td>\n",
       "      <td>0</td>\n",
       "      <td>0</td>\n",
       "      <td>7.9250</td>\n",
       "      <td>S</td>\n",
       "      <td>Third</td>\n",
       "      <td>woman</td>\n",
       "      <td>False</td>\n",
       "      <td>NaN</td>\n",
       "      <td>Southampton</td>\n",
       "      <td>yes</td>\n",
       "      <td>True</td>\n",
       "      <td>1</td>\n",
       "      <td>False</td>\n",
       "      <td>False</td>\n",
       "      <td>True</td>\n",
       "    </tr>\n",
       "    <tr>\n",
       "      <th>3</th>\n",
       "      <td>1</td>\n",
       "      <td>1</td>\n",
       "      <td>female</td>\n",
       "      <td>35.0</td>\n",
       "      <td>1</td>\n",
       "      <td>0</td>\n",
       "      <td>53.1000</td>\n",
       "      <td>S</td>\n",
       "      <td>First</td>\n",
       "      <td>woman</td>\n",
       "      <td>False</td>\n",
       "      <td>C</td>\n",
       "      <td>Southampton</td>\n",
       "      <td>yes</td>\n",
       "      <td>False</td>\n",
       "      <td>1</td>\n",
       "      <td>False</td>\n",
       "      <td>False</td>\n",
       "      <td>True</td>\n",
       "    </tr>\n",
       "    <tr>\n",
       "      <th>4</th>\n",
       "      <td>0</td>\n",
       "      <td>3</td>\n",
       "      <td>male</td>\n",
       "      <td>35.0</td>\n",
       "      <td>0</td>\n",
       "      <td>0</td>\n",
       "      <td>8.0500</td>\n",
       "      <td>S</td>\n",
       "      <td>Third</td>\n",
       "      <td>man</td>\n",
       "      <td>True</td>\n",
       "      <td>NaN</td>\n",
       "      <td>Southampton</td>\n",
       "      <td>no</td>\n",
       "      <td>True</td>\n",
       "      <td>0</td>\n",
       "      <td>False</td>\n",
       "      <td>False</td>\n",
       "      <td>True</td>\n",
       "    </tr>\n",
       "  </tbody>\n",
       "</table>\n",
       "</div>"
      ],
      "text/plain": [
       "   survived  pclass     sex   age  sibsp  parch     fare embarked  class  \\\n",
       "0         0       3    male  22.0      1      0   7.2500        S  Third   \n",
       "1         1       1  female  38.0      1      0  71.2833        C  First   \n",
       "2         1       3  female  26.0      0      0   7.9250        S  Third   \n",
       "3         1       1  female  35.0      1      0  53.1000        S  First   \n",
       "4         0       3    male  35.0      0      0   8.0500        S  Third   \n",
       "\n",
       "     who  adult_male deck  embark_town alive  alone  sex_encoded  \\\n",
       "0    man        True  NaN  Southampton    no  False            0   \n",
       "1  woman       False    C    Cherbourg   yes  False            1   \n",
       "2  woman       False  NaN  Southampton   yes   True            1   \n",
       "3  woman       False    C  Southampton   yes  False            1   \n",
       "4    man        True  NaN  Southampton    no   True            0   \n",
       "\n",
       "   town_Cherbourg  town_Queenstown  town_Southampton  \n",
       "0           False            False              True  \n",
       "1            True            False             False  \n",
       "2           False            False              True  \n",
       "3           False            False              True  \n",
       "4           False            False              True  "
      ]
     },
     "execution_count": 43,
     "metadata": {},
     "output_type": "execute_result"
    }
   ],
   "source": [
    "encoded_df = pd.get_dummies(titanic_dataset['embark_town'], prefix='town')\n",
    "titanic_dataset = pd.concat([titanic_dataset, encoded_df], axis= 1)\n",
    "titanic_dataset.head()"
   ]
  },
  {
   "cell_type": "markdown",
   "metadata": {},
   "source": [
    "### Data Scaling"
   ]
  },
  {
   "cell_type": "markdown",
   "metadata": {},
   "source": [
    "#### Standard Scaling: Z-Score"
   ]
  },
  {
   "cell_type": "markdown",
   "metadata": {},
   "source": [
    "#### Z-Score Formula\n",
    "\n",
    "The Z-Score formula is used to standardize a data point by determining how many standard deviations it is from the mean. The formula is:\n",
    "\n",
    "$$\n",
    "Z = \\frac{X - \\mu}{\\sigma}\n",
    "$$\n",
    "\n",
    "Where:\n",
    "- \\( Z \\) is the Z-Score\n",
    "- \\( X \\) is the value of the data point\n",
    "- \\( \\mu \\) is the mean of the dataset\n",
    "- \\( \\sigma \\) is the standard deviation of the dataset"
   ]
  },
  {
   "cell_type": "code",
   "execution_count": 51,
   "metadata": {},
   "outputs": [
    {
     "data": {
      "text/html": [
       "<div>\n",
       "<style scoped>\n",
       "    .dataframe tbody tr th:only-of-type {\n",
       "        vertical-align: middle;\n",
       "    }\n",
       "\n",
       "    .dataframe tbody tr th {\n",
       "        vertical-align: top;\n",
       "    }\n",
       "\n",
       "    .dataframe thead th {\n",
       "        text-align: right;\n",
       "    }\n",
       "</style>\n",
       "<table border=\"1\" class=\"dataframe\">\n",
       "  <thead>\n",
       "    <tr style=\"text-align: right;\">\n",
       "      <th></th>\n",
       "      <th>age</th>\n",
       "      <th>age_transformed_to_std_scaler</th>\n",
       "    </tr>\n",
       "  </thead>\n",
       "  <tbody>\n",
       "    <tr>\n",
       "      <th>1</th>\n",
       "      <td>38.0</td>\n",
       "      <td>0.152082</td>\n",
       "    </tr>\n",
       "    <tr>\n",
       "      <th>3</th>\n",
       "      <td>35.0</td>\n",
       "      <td>-0.039875</td>\n",
       "    </tr>\n",
       "    <tr>\n",
       "      <th>6</th>\n",
       "      <td>54.0</td>\n",
       "      <td>1.175852</td>\n",
       "    </tr>\n",
       "    <tr>\n",
       "      <th>10</th>\n",
       "      <td>4.0</td>\n",
       "      <td>-2.023430</td>\n",
       "    </tr>\n",
       "    <tr>\n",
       "      <th>11</th>\n",
       "      <td>58.0</td>\n",
       "      <td>1.431795</td>\n",
       "    </tr>\n",
       "  </tbody>\n",
       "</table>\n",
       "</div>"
      ],
      "text/plain": [
       "     age  age_transformed_to_std_scaler\n",
       "1   38.0                       0.152082\n",
       "3   35.0                      -0.039875\n",
       "6   54.0                       1.175852\n",
       "10   4.0                      -2.023430\n",
       "11  58.0                       1.431795"
      ]
     },
     "execution_count": 51,
     "metadata": {},
     "output_type": "execute_result"
    }
   ],
   "source": [
    "import numpy as np\n",
    "import seaborn as sns\n",
    "from sklearn.preprocessing import StandardScaler\n",
    "\n",
    "titanic_dataset = sns.load_dataset('titanic').dropna()\n",
    "\n",
    "# initialize the standard scaler\n",
    "std_scaler = StandardScaler()\n",
    "\n",
    "# Fit and transform the age column\n",
    "titanic_dataset['age_transformed_to_std_scaler'] = std_scaler.fit_transform(np.array(titanic_dataset['age']).reshape(-1, 1))\n",
    "\n",
    "# Print the transformed column\n",
    "titanic_dataset[['age','age_transformed_to_std_scaler']].head()\n",
    "\n"
   ]
  },
  {
   "cell_type": "markdown",
   "metadata": {},
   "source": [
    "#### Min-Max Scaling\n",
    "\n",
    "Min-Max scaling transforms features by scaling them to a given range, usually between 0 and 1. The formula for Min-Max scaling is:\n",
    "\n",
    "$$\n",
    "X' = \\frac{X - X_{min}}{X_{max} - X_{min}}\n",
    "$$\n",
    "\n",
    "Where:\n",
    "- \\(X\\) is the original value\n",
    "- \\(X_{min}\\) is the minimum value in the dataset\n",
    "- \\(X_{max}\\) is the maximum value in the dataset\n",
    "- \\(X'\\) is the scaled value\n"
   ]
  },
  {
   "cell_type": "code",
   "execution_count": 52,
   "metadata": {},
   "outputs": [
    {
     "data": {
      "text/html": [
       "<div>\n",
       "<style scoped>\n",
       "    .dataframe tbody tr th:only-of-type {\n",
       "        vertical-align: middle;\n",
       "    }\n",
       "\n",
       "    .dataframe tbody tr th {\n",
       "        vertical-align: top;\n",
       "    }\n",
       "\n",
       "    .dataframe thead th {\n",
       "        text-align: right;\n",
       "    }\n",
       "</style>\n",
       "<table border=\"1\" class=\"dataframe\">\n",
       "  <thead>\n",
       "    <tr style=\"text-align: right;\">\n",
       "      <th></th>\n",
       "      <th>age</th>\n",
       "      <th>age_min_max_scaler</th>\n",
       "    </tr>\n",
       "  </thead>\n",
       "  <tbody>\n",
       "    <tr>\n",
       "      <th>1</th>\n",
       "      <td>38.0</td>\n",
       "      <td>0.468892</td>\n",
       "    </tr>\n",
       "    <tr>\n",
       "      <th>3</th>\n",
       "      <td>35.0</td>\n",
       "      <td>0.430956</td>\n",
       "    </tr>\n",
       "    <tr>\n",
       "      <th>6</th>\n",
       "      <td>54.0</td>\n",
       "      <td>0.671219</td>\n",
       "    </tr>\n",
       "    <tr>\n",
       "      <th>10</th>\n",
       "      <td>4.0</td>\n",
       "      <td>0.038948</td>\n",
       "    </tr>\n",
       "    <tr>\n",
       "      <th>11</th>\n",
       "      <td>58.0</td>\n",
       "      <td>0.721801</td>\n",
       "    </tr>\n",
       "  </tbody>\n",
       "</table>\n",
       "</div>"
      ],
      "text/plain": [
       "     age  age_min_max_scaler\n",
       "1   38.0            0.468892\n",
       "3   35.0            0.430956\n",
       "6   54.0            0.671219\n",
       "10   4.0            0.038948\n",
       "11  58.0            0.721801"
      ]
     },
     "execution_count": 52,
     "metadata": {},
     "output_type": "execute_result"
    }
   ],
   "source": [
    "import numpy as np\n",
    "import seaborn as sns\n",
    "from sklearn.preprocessing import MinMaxScaler\n",
    "\n",
    "titanic_dataset = sns.load_dataset('titanic').dropna()\n",
    "\n",
    "# initialize the min max scaler\n",
    "min_max_scaler = MinMaxScaler()\n",
    "\n",
    "# Fit and transform the age column\n",
    "titanic_dataset['age_min_max_scaler'] = min_max_scaler.fit_transform(np.array(titanic_dataset['age']).reshape(-1, 1))\n",
    "\n",
    "# Print the transformed column\n",
    "titanic_dataset[['age','age_min_max_scaler']].head()\n",
    "\n"
   ]
  },
  {
   "cell_type": "markdown",
   "metadata": {},
   "source": [
    "#### Robust Scaling\n",
    "\n",
    "Robust scaling is a method used to scale features using statistics that are robust to outliers. This method uses the median and the interquartile range (IQR) for scaling. The formula for robust scaling is:\n",
    "\n",
    "$$\n",
    "X' = \\frac{X - \\text{median}(X)}{\\text{IQR}(X)}\n",
    "$$\n",
    "\n",
    "Where:\n",
    "- \\(X\\) is the original value\n",
    "- \\(\\text{median}(X)\\) is the median of the dataset\n",
    "- \\(\\text{IQR}(X)\\) is the interquartile range of the dataset\n",
    "- \\(X'\\) is the scaled value"
   ]
  },
  {
   "cell_type": "code",
   "execution_count": 53,
   "metadata": {},
   "outputs": [
    {
     "data": {
      "text/html": [
       "<div>\n",
       "<style scoped>\n",
       "    .dataframe tbody tr th:only-of-type {\n",
       "        vertical-align: middle;\n",
       "    }\n",
       "\n",
       "    .dataframe tbody tr th {\n",
       "        vertical-align: top;\n",
       "    }\n",
       "\n",
       "    .dataframe thead th {\n",
       "        text-align: right;\n",
       "    }\n",
       "</style>\n",
       "<table border=\"1\" class=\"dataframe\">\n",
       "  <thead>\n",
       "    <tr style=\"text-align: right;\">\n",
       "      <th></th>\n",
       "      <th>age</th>\n",
       "      <th>age_robust_scaler</th>\n",
       "    </tr>\n",
       "  </thead>\n",
       "  <tbody>\n",
       "    <tr>\n",
       "      <th>1</th>\n",
       "      <td>38.0</td>\n",
       "      <td>0.084211</td>\n",
       "    </tr>\n",
       "    <tr>\n",
       "      <th>3</th>\n",
       "      <td>35.0</td>\n",
       "      <td>-0.042105</td>\n",
       "    </tr>\n",
       "    <tr>\n",
       "      <th>6</th>\n",
       "      <td>54.0</td>\n",
       "      <td>0.757895</td>\n",
       "    </tr>\n",
       "    <tr>\n",
       "      <th>10</th>\n",
       "      <td>4.0</td>\n",
       "      <td>-1.347368</td>\n",
       "    </tr>\n",
       "    <tr>\n",
       "      <th>11</th>\n",
       "      <td>58.0</td>\n",
       "      <td>0.926316</td>\n",
       "    </tr>\n",
       "  </tbody>\n",
       "</table>\n",
       "</div>"
      ],
      "text/plain": [
       "     age  age_robust_scaler\n",
       "1   38.0           0.084211\n",
       "3   35.0          -0.042105\n",
       "6   54.0           0.757895\n",
       "10   4.0          -1.347368\n",
       "11  58.0           0.926316"
      ]
     },
     "execution_count": 53,
     "metadata": {},
     "output_type": "execute_result"
    }
   ],
   "source": [
    "import numpy as np\n",
    "import seaborn as sns\n",
    "from sklearn.preprocessing import RobustScaler\n",
    "\n",
    "titanic_dataset = sns.load_dataset('titanic').dropna()\n",
    "\n",
    "# initialize the robust scaler\n",
    "robust_scaler = RobustScaler()\n",
    "\n",
    "# Fit and transform the age column\n",
    "titanic_dataset['age_robust_scaler'] = robust_scaler.fit_transform(np.array(titanic_dataset['age']).reshape(-1, 1))\n",
    "\n",
    "# Print the transformed column\n",
    "titanic_dataset[['age','age_robust_scaler']].head()\n",
    "\n"
   ]
  },
  {
   "cell_type": "markdown",
   "metadata": {},
   "source": [
    "### Outlier Detection"
   ]
  },
  {
   "cell_type": "markdown",
   "metadata": {},
   "source": [
    "Outliers are anomalous or unusal values that significantly deviate from other observations. They can adversely impact the performance of our machine-learning models by introducing bias or skewness. Detecting outliers helps us maintain our dataset's integrity by ensuring all data falls within a reasonable range of values."
   ]
  },
  {
   "cell_type": "code",
   "execution_count": 56,
   "metadata": {},
   "outputs": [
    {
     "name": "stdout",
     "output_type": "stream",
     "text": [
      "outliers      survived  pclass   sex   age  sibsp  parch    fare embarked  class  who  \\\n",
      "630         1       1  male  80.0      0      0  30.000        S  First  man   \n",
      "851         0       3  male  74.0      0      0   7.775        S  Third  man   \n",
      "\n",
      "     adult_male deck  embark_town alive  alone  age_zscore  \n",
      "630        True    A  Southampton   yes   True    3.462699  \n",
      "851        True  NaN  Southampton    no   True    3.049660  \n"
     ]
    }
   ],
   "source": [
    "import numpy as np\n",
    "import pandas as pd\n",
    "import seaborn as sns\n",
    "\n",
    "titanic_dataset = sns.load_dataset('titanic')\n",
    "\n",
    "# Calclulate Z-score - distance between the value and mean, divide by std deviation\n",
    "\n",
    "titanic_dataset['age_zscore'] = np.abs((titanic_dataset['age'] - titanic_dataset['age'].mean())/titanic_dataset['age'].std())\n",
    "\n",
    "outliers_zscore = titanic_dataset[(titanic_dataset['age_zscore'] > 3)]\n",
    "\n",
    "print(f\"outliers {outliers_zscore}\")\n"
   ]
  },
  {
   "cell_type": "code",
   "execution_count": 59,
   "metadata": {},
   "outputs": [
    {
     "name": "stdout",
     "output_type": "stream",
     "text": [
      "     survived  pclass   sex   age  sibsp  parch     fare embarked   class  \\\n",
      "33          0       2  male  66.0      0      0  10.5000        S  Second   \n",
      "54          0       1  male  65.0      0      1  61.9792        C   First   \n",
      "96          0       1  male  71.0      0      0  34.6542        C   First   \n",
      "116         0       3  male  70.5      0      0   7.7500        Q   Third   \n",
      "280         0       3  male  65.0      0      0   7.7500        Q   Third   \n",
      "456         0       1  male  65.0      0      0  26.5500        S   First   \n",
      "493         0       1  male  71.0      0      0  49.5042        C   First   \n",
      "630         1       1  male  80.0      0      0  30.0000        S   First   \n",
      "672         0       2  male  70.0      0      0  10.5000        S  Second   \n",
      "745         0       1  male  70.0      1      1  71.0000        S   First   \n",
      "851         0       3  male  74.0      0      0   7.7750        S   Third   \n",
      "\n",
      "     who  adult_male deck  embark_town alive  alone  age_zscore  \n",
      "33   man        True  NaN  Southampton    no   True    2.498943  \n",
      "54   man        True    B    Cherbourg    no  False    2.430103  \n",
      "96   man        True    A    Cherbourg    no   True    2.843141  \n",
      "116  man        True  NaN   Queenstown    no   True    2.808721  \n",
      "280  man        True  NaN   Queenstown    no   True    2.430103  \n",
      "456  man        True    E  Southampton    no   True    2.430103  \n",
      "493  man        True  NaN    Cherbourg    no   True    2.843141  \n",
      "630  man        True    A  Southampton   yes   True    3.462699  \n",
      "672  man        True  NaN  Southampton    no   True    2.774301  \n",
      "745  man        True    B  Southampton    no  False    2.774301  \n",
      "851  man        True  NaN  Southampton    no   True    3.049660  \n"
     ]
    }
   ],
   "source": [
    "# IQR Method to find outlier detection, similar to box / whisker plots\n",
    "\n",
    "Q1 = titanic_dataset['age'].quantile(0.25)\n",
    "Q3 = titanic_dataset['age'].quantile(0.75)\n",
    "\n",
    "IQR = Q3 - Q1\n",
    "\n",
    "lower_bound = Q1 - 1.5 * IQR\n",
    "upper_bound = Q3 + 1.5 * IQR\n",
    "\n",
    "outliers_iqr = titanic_dataset[(titanic_dataset['age'] < lower_bound) | (titanic_dataset['age'] > upper_bound)]\n",
    "print(outliers_iqr)\n",
    "\n"
   ]
  },
  {
   "cell_type": "markdown",
   "metadata": {},
   "source": [
    "### Drop the outliers"
   ]
  },
  {
   "cell_type": "code",
   "execution_count": 60,
   "metadata": {},
   "outputs": [],
   "source": [
    "# Using Z-Score method\n",
    "\n",
    "titanic_dataset =  titanic_dataset[titanic_dataset['age_zscore'] <= 3]\n",
    "\n",
    "# Using IQR method\n",
    "titanic_dataset = titanic_dataset[(titanic_dataset['age'] >= lower_bound) | (titanic_dataset['age'] <= upper_bound)]\n"
   ]
  },
  {
   "cell_type": "markdown",
   "metadata": {},
   "source": [
    "### Replacing the outliers with mean and median value"
   ]
  },
  {
   "cell_type": "code",
   "execution_count": 61,
   "metadata": {},
   "outputs": [],
   "source": [
    "# Using mean\n",
    "\n",
    "titanic_dataset.loc[titanic_dataset['age_zscore'] > 3, 'age'] = titanic_dataset['age'].mean()\n",
    "\n",
    "# Using median\n",
    "titanic_dataset.loc[(titanic_dataset['age'] < lower_bound) | (titanic_dataset['age'] > upper_bound), 'age' ] = titanic_dataset['age'].median()"
   ]
  }
 ],
 "metadata": {
  "kernelspec": {
   "display_name": "Python 3",
   "language": "python",
   "name": "python3"
  },
  "language_info": {
   "codemirror_mode": {
    "name": "ipython",
    "version": 3
   },
   "file_extension": ".py",
   "mimetype": "text/x-python",
   "name": "python",
   "nbconvert_exporter": "python",
   "pygments_lexer": "ipython3",
   "version": "3.12.0"
  }
 },
 "nbformat": 4,
 "nbformat_minor": 2
}
