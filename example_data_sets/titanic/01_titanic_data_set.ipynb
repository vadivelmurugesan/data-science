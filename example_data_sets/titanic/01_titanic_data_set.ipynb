{
 "cells": [
  {
   "cell_type": "markdown",
   "metadata": {},
   "source": [
    "# Titanic Dataset from Seaborn\n",
    "Seaborn is a Python data visualization library based on matplotlib. It provides a high-level interface for drawing attractive and informative statistical graphics.\n",
    "\n",
    "Seaborn helps you explore and understand your data. Its plotting functions operate on dataframes and arrays containing whole datasets and internally perform the necessary semantic mapping and statistical aggregation to produce informative plots. Its dataset-oriented, declarative API lets you focus on what the different elements of your plots mean, rather than on the details of how to draw them."
   ]
  },
  {
   "cell_type": "code",
   "execution_count": 2,
   "metadata": {},
   "outputs": [],
   "source": [
    "# import libraries\n",
    "import pandas as pd\n",
    "import seaborn as sns\n",
    "import numpy as np\n",
    "from scipy import stats as st\n",
    "from matplotlib import pyplot as plt"
   ]
  },
  {
   "cell_type": "code",
   "execution_count": 2,
   "metadata": {},
   "outputs": [
    {
     "name": "stdout",
     "output_type": "stream",
     "text": [
      "Data Type:  <class 'pandas.core.frame.DataFrame'>\n",
      "   survived  pclass     sex   age  sibsp  parch     fare embarked  class  \\\n",
      "0         0       3    male  22.0      1      0   7.2500        S  Third   \n",
      "1         1       1  female  38.0      1      0  71.2833        C  First   \n",
      "2         1       3  female  26.0      0      0   7.9250        S  Third   \n",
      "3         1       1  female  35.0      1      0  53.1000        S  First   \n",
      "4         0       3    male  35.0      0      0   8.0500        S  Third   \n",
      "\n",
      "     who  adult_male deck  embark_town alive  alone  \n",
      "0    man        True  NaN  Southampton    no  False  \n",
      "1  woman       False    C    Cherbourg   yes  False  \n",
      "2  woman       False  NaN  Southampton   yes   True  \n",
      "3  woman       False    C  Southampton   yes  False  \n",
      "4    man        True  NaN  Southampton    no   True  \n"
     ]
    }
   ],
   "source": [
    "# Load the titanic dataset into a Pandas DataFrame\n",
    "titanic_dataset = sns.load_dataset('titanic')\n",
    "\n",
    "# Print Data Type\n",
    "print(\"Data Type: \", type(titanic_dataset))\n",
    "\n",
    "# Print First 5 Rows of the data set\n",
    "print(titanic_dataset.head())\n"
   ]
  },
  {
   "cell_type": "code",
   "execution_count": 3,
   "metadata": {},
   "outputs": [
    {
     "name": "stdout",
     "output_type": "stream",
     "text": [
      "Data Frame After adding a new column\n",
      "   survived  pclass     sex   age  sibsp  parch     fare embarked  class  \\\n",
      "0         0       3    male  22.0      1      0   7.2500        S  Third   \n",
      "1         1       1  female  38.0      1      0  71.2833        C  First   \n",
      "2         1       3  female  26.0      0      0   7.9250        S  Third   \n",
      "3         1       1  female  35.0      1      0  53.1000        S  First   \n",
      "4         0       3    male  35.0      0      0   8.0500        S  Third   \n",
      "\n",
      "     who  adult_male deck  embark_town alive  alone  is_child  \n",
      "0    man        True  NaN  Southampton    no  False     False  \n",
      "1  woman       False    C    Cherbourg   yes  False     False  \n",
      "2  woman       False  NaN  Southampton   yes   True     False  \n",
      "3  woman       False    C  Southampton   yes  False     False  \n",
      "4    man        True  NaN  Southampton    no   True     False  \n"
     ]
    }
   ],
   "source": [
    "#Create a new column called is_child, which is derived using 'age' column\n",
    "titanic_dataset['is_child'] = titanic_dataset[\"age\"].apply(lambda age: True if age < 18 else False)\n",
    "print(\"Data Frame After adding a new column\")\n",
    "print(titanic_dataset.head())"
   ]
  },
  {
   "cell_type": "code",
   "execution_count": 4,
   "metadata": {},
   "outputs": [
    {
     "name": "stdout",
     "output_type": "stream",
     "text": [
      "Concatenated DataFrame:\n",
      "\n",
      "     survived  pclass     sex   age  sibsp  parch    fare embarked  class  \\\n",
      "887       1.0       1  female  19.0      0      0   30.00        S  First   \n",
      "888       0.0       3  female   NaN      1      2   23.45        S  Third   \n",
      "889       1.0       1    male  26.0      0      0   30.00        C  First   \n",
      "890       0.0       3    male  32.0      0      0    7.75        Q  Third   \n",
      "891       NaN       1    male  72.0      1      0  126.00        S  First   \n",
      "\n",
      "       who  adult_male deck  embark_town alive  alone  is_child  surived  \n",
      "887  woman       False    B  Southampton   yes   True     False      NaN  \n",
      "888  woman       False  NaN  Southampton    no  False     False      NaN  \n",
      "889    man        True    C    Cherbourg   yes   True     False      NaN  \n",
      "890    man        True  NaN   Queenstown    no   True     False      NaN  \n",
      "891    man        True  NaN     Richmond    no  False     False      0.0  \n"
     ]
    },
    {
     "name": "stderr",
     "output_type": "stream",
     "text": [
      "/tmp/ipykernel_29975/3011189391.py:5: FutureWarning: The behavior of DataFrame concatenation with empty or all-NA entries is deprecated. In a future version, this will no longer exclude empty or all-NA columns when determining the result dtypes. To retain the old behavior, exclude the relevant entries before the concat operation.\n",
      "  titanic_concatenated_data_set = pd.concat([titanic_dataset, new_row], ignore_index=True)\n"
     ]
    }
   ],
   "source": [
    "#Concatenate a new row in the data frame\n",
    "new_row = pd.DataFrame({\"surived\":[0], \"pclass\" : [1], \"sex\" : [\"male\"], \"age\" : [72], \"sibsp\": [1], \"parch\" : [0], \"fare\" : [126.00], \"embarked\" : [\"S\"], \"class\" : [\"First\"], \"who\" : [\"man\"],\n",
    "                        \"adult_male\" : [True], \"deck\" : [None], \"embark_town\" : [\"Richmond\"], \"alive\" : [\"no\"], \"alone\" : [False], \"is_child\" : [False]})\n",
    "\n",
    "titanic_concatenated_data_set = pd.concat([titanic_dataset, new_row], ignore_index=True)\n",
    "print(\"Concatenated DataFrame:\\n\")\n",
    "print(titanic_concatenated_data_set.tail())\n"
   ]
  },
  {
   "cell_type": "code",
   "execution_count": 5,
   "metadata": {},
   "outputs": [
    {
     "name": "stdout",
     "output_type": "stream",
     "text": [
      "Concatenated DataFrame:\n",
      "\n",
      "     survived  pclass     sex   age  sibsp  parch    fare embarked  class  \\\n",
      "887       1.0       1  female  19.0      0      0   30.00        S  First   \n",
      "888       0.0       3  female   NaN      1      2   23.45        S  Third   \n",
      "889       1.0       1    male  26.0      0      0   30.00        C  First   \n",
      "890       0.0       3    male  32.0      0      0    7.75        Q  Third   \n",
      "891       NaN       1    male  72.0      1      0  126.00        S  First   \n",
      "\n",
      "       who  adult_male deck  embark_town alive  alone  is_child  surived  \n",
      "887  woman       False    B  Southampton   yes   True     False      NaN  \n",
      "888  woman       False  NaN  Southampton    no  False     False      NaN  \n",
      "889    man        True    C    Cherbourg   yes   True     False      NaN  \n",
      "890    man        True  NaN   Queenstown    no   True     False      NaN  \n",
      "891    man        True  NaN     Richmond    no  False     False      0.0  \n"
     ]
    }
   ],
   "source": [
    "# To fix FutureWarning Error on The behavior of DataFrame concatenation with empty or all-NA entries is deprecated. In a future version, this will no longer exclude empty or all-NA columns when determining the result dtypes. To retain the old behavior, exclude the relevant entries before the concat operation.\n",
    "\n",
    "# Remove empty columns before concatenating\n",
    "\n",
    "new_row_cleaned = new_row.dropna(axis=1, how='all') \n",
    "\n",
    "titanic_concatenated_data_set = pd.concat([titanic_dataset, new_row_cleaned], ignore_index=True)\n",
    "print(\"Concatenated DataFrame:\\n\")\n",
    "print(titanic_concatenated_data_set.tail())"
   ]
  },
  {
   "cell_type": "markdown",
   "metadata": {},
   "source": [
    "## Descriptive Statistics of Titanic Data Set"
   ]
  },
  {
   "cell_type": "code",
   "execution_count": 6,
   "metadata": {},
   "outputs": [
    {
     "name": "stdout",
     "output_type": "stream",
     "text": [
      "Data Type:  <class 'pandas.core.frame.DataFrame'>\n",
      "Mean of Age:  29.69911764705882\n",
      "Median of Age:  28.0\n",
      "Mode of Age:  24.0\n"
     ]
    }
   ],
   "source": [
    "# Calculate Basic Statistics \n",
    "# Central Tendancy - Mean, Median and Mode\n",
    "# Mean - Average of Given Values\n",
    "print(\"Data Type: \", type(titanic_dataset))\n",
    "mean_age = titanic_dataset[\"age\"].mean()\n",
    "print(\"Mean of Age: \", mean_age)\n",
    "# Median - Middle value \n",
    "median_age = titanic_dataset[\"age\"].median()\n",
    "print(\"Median of Age: \", median_age)\n",
    "# Mode - Most Frequency Occuring Value\n",
    "mode_age = titanic_dataset[\"age\"].mode()[0]\n",
    "print(\"Mode of Age: \", mode_age)\n",
    "\n"
   ]
  },
  {
   "cell_type": "markdown",
   "metadata": {},
   "source": [
    "## Measures of Variability: Standard Deviation"
   ]
  },
  {
   "cell_type": "code",
   "execution_count": 7,
   "metadata": {},
   "outputs": [
    {
     "name": "stdout",
     "output_type": "stream",
     "text": [
      "Standard Deviation of Age is 14.516321150817316\n"
     ]
    }
   ],
   "source": [
    "# Measures of Dispersion (Variability)\n",
    "\n",
    "# The most common way to gauge the variability is via Standard Deviation\n",
    "\n",
    "# Standard Deviation - Measures how much the values in the dataset vary around the mean\n",
    "\n",
    "std_deviation_age = np.std(titanic_dataset[\"age\"])\n",
    "print(f\"Standard Deviation of Age is {std_deviation_age}\")"
   ]
  },
  {
   "cell_type": "markdown",
   "metadata": {},
   "source": [
    "### Quartiles and Percentails"
   ]
  },
  {
   "cell_type": "code",
   "execution_count": 8,
   "metadata": {},
   "outputs": [
    {
     "name": "stdout",
     "output_type": "stream",
     "text": [
      "99th Percentail of Age using numpy: 65.87\n",
      "First Percentail of Age using numpy: 20.125\n",
      "Third Percentail of Age using numpy: 38.0\n"
     ]
    }
   ],
   "source": [
    "# Percentails - Using NumPy\n",
    "# dropna function will drop NA values\n",
    "total_percentail_age_np = np.percentile(titanic_dataset[\"age\"].dropna(), 99)\n",
    "print(f\"99th Percentail of Age using numpy: {total_percentail_age_np}\")\n",
    "\n",
    "quartile1_age_np = np.percentile(titanic_dataset[\"age\"].dropna(), 25)\n",
    "print(f\"First Percentail of Age using numpy: {quartile1_age_np}\")\n",
    "\n",
    "quartile3_age_np = np.percentile(titanic_dataset[\"age\"].dropna(), 75)\n",
    "print(f\"Third Percentail of Age using numpy: {quartile3_age_np}\")"
   ]
  },
  {
   "cell_type": "code",
   "execution_count": 9,
   "metadata": {},
   "outputs": [
    {
     "name": "stdout",
     "output_type": "stream",
     "text": [
      "99th Percentail of Age using numpy: 65.87\n",
      "First Percentail of Age using numpy: 20.125\n",
      "Third Percentail of Age using numpy: 38.0\n"
     ]
    }
   ],
   "source": [
    "# Percentails - Using Pandas\n",
    "# dropna function will drop NA values\n",
    "total_percentail_age_np = titanic_dataset[\"age\"].quantile(0.99)\n",
    "print(f\"99th Percentail of Age using numpy: {total_percentail_age_np}\")\n",
    "\n",
    "quartile1_age_np = titanic_dataset[\"age\"].quantile(0.25)\n",
    "print(f\"First Percentail of Age using numpy: {quartile1_age_np}\")\n",
    "\n",
    "quartile3_age_np = titanic_dataset[\"age\"].quantile(0.75)\n",
    "print(f\"Third Percentail of Age using numpy: {quartile3_age_np}\")"
   ]
  },
  {
   "cell_type": "code",
   "execution_count": 10,
   "metadata": {},
   "outputs": [
    {
     "name": "stdout",
     "output_type": "stream",
     "text": [
      "Mean of age and fare age     29.699118\n",
      "fare    32.204208\n",
      "dtype: float64\n",
      "Median of age and fare age     28.0000\n",
      "fare    14.4542\n",
      "dtype: float64\n",
      "Mode of age and fare age     24.00\n",
      "fare     8.05\n",
      "Name: 0, dtype: float64\n"
     ]
    }
   ],
   "source": [
    "# Descriptive Stats of Fares\n",
    "age_fare_sub_dataset = titanic_dataset[['age', 'fare']]\n",
    "\n",
    "# Calcualte mean, median and mode of age and fare columns in the titanic data set\n",
    "print(f'Mean of age and fare', age_fare_sub_dataset.mean())\n",
    "print(f'Median of age and fare', age_fare_sub_dataset.median())\n",
    "print(f'Mode of age and fare', age_fare_sub_dataset.mode().iloc[0])"
   ]
  },
  {
   "cell_type": "markdown",
   "metadata": {},
   "source": [
    "## Data Filtering"
   ]
  },
  {
   "cell_type": "code",
   "execution_count": 11,
   "metadata": {},
   "outputs": [
    {
     "name": "stdout",
     "output_type": "stream",
     "text": [
      "   survived  pclass     sex   age  sibsp  parch     fare embarked   class  \\\n",
      "1         1       1  female  38.0      1      0  71.2833        C   First   \n",
      "2         1       3  female  26.0      0      0   7.9250        S   Third   \n",
      "3         1       1  female  35.0      1      0  53.1000        S   First   \n",
      "8         1       3  female  27.0      0      2  11.1333        S   Third   \n",
      "9         1       2  female  14.0      1      0  30.0708        C  Second   \n",
      "\n",
      "     who  adult_male deck  embark_town alive  alone  is_child  \n",
      "1  woman       False    C    Cherbourg   yes  False     False  \n",
      "2  woman       False  NaN  Southampton   yes   True     False  \n",
      "3  woman       False    C  Southampton   yes  False     False  \n",
      "8  woman       False  NaN  Southampton   yes  False     False  \n",
      "9  child       False  NaN    Cherbourg   yes  False      True  \n"
     ]
    }
   ],
   "source": [
    "# Filter passengers by servived\n",
    "survivors = titanic_dataset [ titanic_dataset['survived'] == True]\n",
    "\n",
    "print(survivors.head())"
   ]
  },
  {
   "cell_type": "markdown",
   "metadata": {},
   "source": [
    "### Multiple Conditions in Data Filtering"
   ]
  },
  {
   "cell_type": "code",
   "execution_count": 12,
   "metadata": {},
   "outputs": [
    {
     "name": "stdout",
     "output_type": "stream",
     "text": [
      "   survived  pclass     sex   age  sibsp  parch     fare embarked   class  \\\n",
      "1         1       1  female  38.0      1      0  71.2833        C   First   \n",
      "2         1       3  female  26.0      0      0   7.9250        S   Third   \n",
      "3         1       1  female  35.0      1      0  53.1000        S   First   \n",
      "8         1       3  female  27.0      0      2  11.1333        S   Third   \n",
      "9         1       2  female  14.0      1      0  30.0708        C  Second   \n",
      "\n",
      "     who  adult_male deck  embark_town alive  alone  is_child  \n",
      "1  woman       False    C    Cherbourg   yes  False     False  \n",
      "2  woman       False  NaN  Southampton   yes   True     False  \n",
      "3  woman       False    C  Southampton   yes  False     False  \n",
      "8  woman       False  NaN  Southampton   yes  False     False  \n",
      "9  child       False  NaN    Cherbourg   yes  False      True  \n"
     ]
    }
   ],
   "source": [
    "female_survivors = titanic_dataset[(titanic_dataset['survived'] == True) & (titanic_dataset['sex'] == 'female')]\n",
    "\n",
    "print(female_survivors.head())"
   ]
  },
  {
   "cell_type": "markdown",
   "metadata": {},
   "source": [
    "### Sorting Data"
   ]
  },
  {
   "cell_type": "code",
   "execution_count": 13,
   "metadata": {},
   "outputs": [
    {
     "name": "stdout",
     "output_type": "stream",
     "text": [
      "     survived  pclass     sex   age  sibsp  parch     fare embarked   class  \\\n",
      "803         1       3    male  0.42      0      1   8.5167        C   Third   \n",
      "755         1       2    male  0.67      1      1  14.5000        S  Second   \n",
      "469         1       3  female  0.75      2      1  19.2583        C   Third   \n",
      "644         1       3  female  0.75      2      1  19.2583        C   Third   \n",
      "78          1       2    male  0.83      0      2  29.0000        S  Second   \n",
      "\n",
      "       who  adult_male deck  embark_town alive  alone  is_child  \n",
      "803  child       False  NaN    Cherbourg   yes  False      True  \n",
      "755  child       False  NaN  Southampton   yes  False      True  \n",
      "469  child       False  NaN    Cherbourg   yes  False      True  \n",
      "644  child       False  NaN    Cherbourg   yes  False      True  \n",
      "78   child       False  NaN  Southampton   yes  False      True  \n"
     ]
    }
   ],
   "source": [
    "# Sorting survivors by age\n",
    "\n",
    "sorted_survivors = survivors.sort_values('age')\n",
    "\n",
    "print(sorted_survivors.head())\n"
   ]
  },
  {
   "cell_type": "code",
   "execution_count": 14,
   "metadata": {},
   "outputs": [
    {
     "name": "stdout",
     "output_type": "stream",
     "text": [
      "     survived  pclass     sex   age  sibsp  parch     fare embarked  class  \\\n",
      "803         1       3    male  0.42      0      1   8.5167        C  Third   \n",
      "469         1       3  female  0.75      2      1  19.2583        C  Third   \n",
      "644         1       3  female  0.75      2      1  19.2583        C  Third   \n",
      "172         1       3  female  1.00      1      1  11.1333        S  Third   \n",
      "381         1       3  female  1.00      0      2  15.7417        C  Third   \n",
      "\n",
      "       who  adult_male deck  embark_town alive  alone  is_child  \n",
      "803  child       False  NaN    Cherbourg   yes  False      True  \n",
      "469  child       False  NaN    Cherbourg   yes  False      True  \n",
      "644  child       False  NaN    Cherbourg   yes  False      True  \n",
      "172  child       False  NaN  Southampton   yes  False      True  \n",
      "381  child       False  NaN    Cherbourg   yes  False      True  \n"
     ]
    }
   ],
   "source": [
    "# Sorting by multiple columns - age and pclass\n",
    "\n",
    "sorted_survivors = survivors.sort_values(['pclass', 'age'], ascending=[False, True]) \n",
    "\n",
    "print(sorted_survivors.head())"
   ]
  },
  {
   "cell_type": "code",
   "execution_count": 15,
   "metadata": {},
   "outputs": [
    {
     "name": "stdout",
     "output_type": "stream",
     "text": [
      "<class 'pandas.core.frame.DataFrame'>\n",
      "RangeIndex: 891 entries, 0 to 890\n",
      "Data columns (total 16 columns):\n",
      " #   Column       Non-Null Count  Dtype   \n",
      "---  ------       --------------  -----   \n",
      " 0   survived     891 non-null    int64   \n",
      " 1   pclass       891 non-null    int64   \n",
      " 2   sex          891 non-null    object  \n",
      " 3   age          714 non-null    float64 \n",
      " 4   sibsp        891 non-null    int64   \n",
      " 5   parch        891 non-null    int64   \n",
      " 6   fare         891 non-null    float64 \n",
      " 7   embarked     889 non-null    object  \n",
      " 8   class        891 non-null    category\n",
      " 9   who          891 non-null    object  \n",
      " 10  adult_male   891 non-null    bool    \n",
      " 11  deck         203 non-null    category\n",
      " 12  embark_town  889 non-null    object  \n",
      " 13  alive        891 non-null    object  \n",
      " 14  alone        891 non-null    bool    \n",
      " 15  is_child     891 non-null    bool    \n",
      "dtypes: bool(3), category(2), float64(2), int64(4), object(5)\n",
      "memory usage: 81.5+ KB\n",
      "None\n",
      "sex\n",
      "male      577\n",
      "female    314\n",
      "Name: count, dtype: int64\n"
     ]
    }
   ],
   "source": [
    "# Provide a concise summary of the DataFrame\n",
    "print(titanic_dataset.info())\n",
    "\n",
    "# Count the number of males and females in the 'sex' column\n",
    "print(titanic_dataset['sex'].value_counts())"
   ]
  },
  {
   "cell_type": "markdown",
   "metadata": {},
   "source": [
    "#### Function calculates basic statistics of all continuous variables\n",
    "\n",
    "Types of variables that can take on an infinite number of values within a specific range. It provides the count, mean, standard deviation (std), min, max, quartiles in its output"
   ]
  },
  {
   "cell_type": "code",
   "execution_count": 16,
   "metadata": {},
   "outputs": [
    {
     "name": "stdout",
     "output_type": "stream",
     "text": [
      "         survived      pclass         age       sibsp       parch        fare\n",
      "count  891.000000  891.000000  714.000000  891.000000  891.000000  891.000000\n",
      "mean     0.383838    2.308642   29.699118    0.523008    0.381594   32.204208\n",
      "std      0.486592    0.836071   14.526497    1.102743    0.806057   49.693429\n",
      "min      0.000000    1.000000    0.420000    0.000000    0.000000    0.000000\n",
      "25%      0.000000    2.000000   20.125000    0.000000    0.000000    7.910400\n",
      "50%      0.000000    3.000000   28.000000    0.000000    0.000000   14.454200\n",
      "75%      1.000000    3.000000   38.000000    1.000000    0.000000   31.000000\n",
      "max      1.000000    3.000000   80.000000    8.000000    6.000000  512.329200\n"
     ]
    }
   ],
   "source": [
    "# Generate Descriptive Statistics that summarize a dataset's distribution's central tendency, dispersion, and shape, excluding NaN values\n",
    "print(titanic_dataset.describe())"
   ]
  },
  {
   "cell_type": "code",
   "execution_count": 17,
   "metadata": {},
   "outputs": [
    {
     "name": "stdout",
     "output_type": "stream",
     "text": [
      "          survived      pclass   sex         age       sibsp       parch  \\\n",
      "count   891.000000  891.000000   891  714.000000  891.000000  891.000000   \n",
      "unique         NaN         NaN     2         NaN         NaN         NaN   \n",
      "top            NaN         NaN  male         NaN         NaN         NaN   \n",
      "freq           NaN         NaN   577         NaN         NaN         NaN   \n",
      "mean      0.383838    2.308642   NaN   29.699118    0.523008    0.381594   \n",
      "std       0.486592    0.836071   NaN   14.526497    1.102743    0.806057   \n",
      "min       0.000000    1.000000   NaN    0.420000    0.000000    0.000000   \n",
      "25%       0.000000    2.000000   NaN   20.125000    0.000000    0.000000   \n",
      "50%       0.000000    3.000000   NaN   28.000000    0.000000    0.000000   \n",
      "75%       1.000000    3.000000   NaN   38.000000    1.000000    0.000000   \n",
      "max       1.000000    3.000000   NaN   80.000000    8.000000    6.000000   \n",
      "\n",
      "              fare embarked  class  who adult_male deck  embark_town alive  \\\n",
      "count   891.000000      889    891  891        891  203          889   891   \n",
      "unique         NaN        3      3    3          2    7            3     2   \n",
      "top            NaN        S  Third  man       True    C  Southampton    no   \n",
      "freq           NaN      644    491  537        537   59          644   549   \n",
      "mean     32.204208      NaN    NaN  NaN        NaN  NaN          NaN   NaN   \n",
      "std      49.693429      NaN    NaN  NaN        NaN  NaN          NaN   NaN   \n",
      "min       0.000000      NaN    NaN  NaN        NaN  NaN          NaN   NaN   \n",
      "25%       7.910400      NaN    NaN  NaN        NaN  NaN          NaN   NaN   \n",
      "50%      14.454200      NaN    NaN  NaN        NaN  NaN          NaN   NaN   \n",
      "75%      31.000000      NaN    NaN  NaN        NaN  NaN          NaN   NaN   \n",
      "max     512.329200      NaN    NaN  NaN        NaN  NaN          NaN   NaN   \n",
      "\n",
      "       alone is_child  \n",
      "count    891      891  \n",
      "unique     2        2  \n",
      "top     True    False  \n",
      "freq     537      778  \n",
      "mean     NaN      NaN  \n",
      "std      NaN      NaN  \n",
      "min      NaN      NaN  \n",
      "25%      NaN      NaN  \n",
      "50%      NaN      NaN  \n",
      "75%      NaN      NaN  \n",
      "max      NaN      NaN  \n"
     ]
    }
   ],
   "source": [
    "# Notice how all the categorical columns like 'sex' or 'class' are missing in the output. By default describe() only includes columns with numerical data\n",
    "\n",
    "print(titanic_dataset.describe(include='all'))"
   ]
  },
  {
   "cell_type": "markdown",
   "metadata": {},
   "source": [
    "In the above,\n",
    "\n",
    "unique - the number of distinct objects in the column\n",
    "top - most frequest object\n",
    "freq - How many times the top object appears in the column"
   ]
  },
  {
   "cell_type": "markdown",
   "metadata": {},
   "source": [
    "### Variablity [Dispersion]\n",
    "\n",
    "It is extent to which data points defer from the center. "
   ]
  },
  {
   "cell_type": "markdown",
   "metadata": {},
   "source": [
    "#### Range\n",
    "\n",
    "* Range is the difference between the min and max values in the dataset.\n",
    "* It is sensitive to the outliers; extriemly high or low value can skew the range."
   ]
  },
  {
   "cell_type": "code",
   "execution_count": 18,
   "metadata": {},
   "outputs": [
    {
     "name": "stdout",
     "output_type": "stream",
     "text": [
      "Range of the Age is 79.58\n"
     ]
    }
   ],
   "source": [
    "# Calculate the range for the column age\n",
    "\n",
    "age_range = titanic_dataset['age'].max() - titanic_dataset['age'].min()\n",
    "\n",
    "print(f\"Range of the Age is {age_range}\")"
   ]
  },
  {
   "cell_type": "markdown",
   "metadata": {},
   "source": [
    "#### Interquartile Range (IQR)\n",
    "\n",
    "The IQR measures statistical dispresion, how far the data points are. It's range within the middle 50% of the data falls. It is a better measure of dispresion than the range because outliers don't affect it."
   ]
  },
  {
   "cell_type": "code",
   "execution_count": 19,
   "metadata": {},
   "outputs": [
    {
     "name": "stdout",
     "output_type": "stream",
     "text": [
      "First Percentail of Age using numpy: 20.125\n",
      "Third Percentail of Age using numpy: 38.0\n",
      "IQR is 17.875\n"
     ]
    }
   ],
   "source": [
    "# calculate the IQR\n",
    "quartile1_age_np = titanic_dataset[\"age\"].quantile(0.25)\n",
    "print(f\"First Percentail of Age using numpy: {quartile1_age_np}\")\n",
    "\n",
    "quartile3_age_np = titanic_dataset[\"age\"].quantile(0.75)\n",
    "print(f\"Third Percentail of Age using numpy: {quartile3_age_np}\")\n",
    "\n",
    "iqr = quartile3_age_np - quartile1_age_np\n",
    "print(f\"IQR is {iqr}\")"
   ]
  },
  {
   "cell_type": "code",
   "execution_count": 20,
   "metadata": {},
   "outputs": [
    {
     "name": "stdout",
     "output_type": "stream",
     "text": [
      "Fare Range: 512.3292\n",
      "Fare IQR: 23.0896\n",
      "Median Fare: 14.4542\n"
     ]
    }
   ],
   "source": [
    "# Calculate for Fare Column\n",
    "\n",
    "# Calculate the numerical data range for 'fare'\n",
    "fare_range = titanic_dataset['fare'].max() - titanic_dataset['fare'].min()\n",
    "print('Fare Range:', fare_range)\n",
    "\n",
    "# Calculate the IQR for 'fare'\n",
    "Q1 = titanic_dataset['fare'].quantile(0.25)\n",
    "Q3 = titanic_dataset['fare'].quantile(0.75)\n",
    "IQR = Q3 - Q1\n",
    "print('Fare IQR:', IQR)\n",
    "\n",
    "median_fare = titanic_dataset['fare'].median()\n",
    "print('Median Fare:', median_fare)"
   ]
  },
  {
   "cell_type": "markdown",
   "metadata": {},
   "source": [
    "### Data Visualization with Matplotlib"
   ]
  },
  {
   "cell_type": "code",
   "execution_count": 27,
   "metadata": {},
   "outputs": [
    {
     "data": {
      "image/png": "[encoded data removed]",
      "text/plain": [
       "<Figure size 640x480 with 1 Axes>"
      ]
     },
     "metadata": {},
     "output_type": "display_data"
    }
   ],
   "source": [
    "# Passenger Class Distribution\n",
    "\n",
    "class_data = titanic_dataset['pclass'].value_counts()\n",
    "\n",
    "class_data.plot(kind = 'bar', color = \"aqua\", alpha = 0.7, grid = True)\n",
    "plt.xlabel('Passenger Class')\n",
    "plt.ylabel('Frequency')\n",
    "plt.title('Passender Class Distribution')\n",
    "plt.show()"
   ]
  },
  {
   "cell_type": "markdown",
   "metadata": {},
   "source": []
  }
 ],
 "metadata": {
  "kernelspec": {
   "display_name": "Python 3 (ipykernel)",
   "language": "python",
   "name": "python3"
  },
  "language_info": {
   "codemirror_mode": {
    "name": "ipython",
    "version": 3
   },
   "file_extension": ".py",
   "mimetype": "text/x-python",
   "name": "python",
   "nbconvert_exporter": "python",
   "pygments_lexer": "ipython3",
   "version": "3.12.0"
  }
 },
 "nbformat": 4,
 "nbformat_minor": 2
}
