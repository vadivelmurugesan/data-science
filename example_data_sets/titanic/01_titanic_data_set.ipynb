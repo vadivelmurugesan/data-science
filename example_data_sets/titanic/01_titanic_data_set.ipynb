{
 "cells": [
  {
   "cell_type": "markdown",
   "metadata": {},
   "source": [
    "# Titanic Dataset from Seaborn\n",
    "Seaborn is a Python data visualization library based on matplotlib. It provides a high-level interface for drawing attractive and informative statistical graphics.\n",
    "\n",
    "Seaborn helps you explore and understand your data. Its plotting functions operate on dataframes and arrays containing whole datasets and internally perform the necessary semantic mapping and statistical aggregation to produce informative plots. Its dataset-oriented, declarative API lets you focus on what the different elements of your plots mean, rather than on the details of how to draw them."
   ]
  },
  {
   "cell_type": "code",
   "execution_count": 1,
   "metadata": {},
   "outputs": [],
   "source": [
    "# import libraries\n",
    "import pandas as pd\n",
    "import seaborn as sns\n",
    "import numpy as np\n",
    "from scipy import stats as st"
   ]
  },
  {
   "cell_type": "code",
   "execution_count": 2,
   "metadata": {},
   "outputs": [
    {
     "name": "stdout",
     "output_type": "stream",
     "text": [
      "Data Type:  <class 'pandas.core.frame.DataFrame'>\n",
      "   survived  pclass     sex   age  sibsp  parch     fare embarked  class  \\\n",
      "0         0       3    male  22.0      1      0   7.2500        S  Third   \n",
      "1         1       1  female  38.0      1      0  71.2833        C  First   \n",
      "2         1       3  female  26.0      0      0   7.9250        S  Third   \n",
      "3         1       1  female  35.0      1      0  53.1000        S  First   \n",
      "4         0       3    male  35.0      0      0   8.0500        S  Third   \n",
      "\n",
      "     who  adult_male deck  embark_town alive  alone  \n",
      "0    man        True  NaN  Southampton    no  False  \n",
      "1  woman       False    C    Cherbourg   yes  False  \n",
      "2  woman       False  NaN  Southampton   yes   True  \n",
      "3  woman       False    C  Southampton   yes  False  \n",
      "4    man        True  NaN  Southampton    no   True  \n"
     ]
    }
   ],
   "source": [
    "# Load the titanic dataset into a Pandas DataFrame\n",
    "titanic_dataset = sns.load_dataset('titanic')\n",
    "\n",
    "# Print Data Type\n",
    "print(\"Data Type: \", type(titanic_dataset))\n",
    "\n",
    "# Print First 5 Rows of the data set\n",
    "print(titanic_dataset.head())\n"
   ]
  },
  {
   "cell_type": "code",
   "execution_count": 3,
   "metadata": {},
   "outputs": [
    {
     "name": "stdout",
     "output_type": "stream",
     "text": [
      "Data Frame After adding a new column\n",
      "   survived  pclass     sex   age  sibsp  parch     fare embarked  class  \\\n",
      "0         0       3    male  22.0      1      0   7.2500        S  Third   \n",
      "1         1       1  female  38.0      1      0  71.2833        C  First   \n",
      "2         1       3  female  26.0      0      0   7.9250        S  Third   \n",
      "3         1       1  female  35.0      1      0  53.1000        S  First   \n",
      "4         0       3    male  35.0      0      0   8.0500        S  Third   \n",
      "\n",
      "     who  adult_male deck  embark_town alive  alone  is_child  \n",
      "0    man        True  NaN  Southampton    no  False     False  \n",
      "1  woman       False    C    Cherbourg   yes  False     False  \n",
      "2  woman       False  NaN  Southampton   yes   True     False  \n",
      "3  woman       False    C  Southampton   yes  False     False  \n",
      "4    man        True  NaN  Southampton    no   True     False  \n"
     ]
    }
   ],
   "source": [
    "#Create a new column called is_child, which is derived using 'age' column\n",
    "titanic_dataset['is_child'] = titanic_dataset[\"age\"].apply(lambda age: True if age < 18 else False)\n",
    "print(\"Data Frame After adding a new column\")\n",
    "print(titanic_dataset.head())"
   ]
  },
  {
   "cell_type": "code",
   "execution_count": 4,
   "metadata": {},
   "outputs": [
    {
     "name": "stdout",
     "output_type": "stream",
     "text": [
      "Concatenated DataFrame:\n",
      "\n",
      "     survived  pclass     sex   age  sibsp  parch    fare embarked  class  \\\n",
      "887       1.0       1  female  19.0      0      0   30.00        S  First   \n",
      "888       0.0       3  female   NaN      1      2   23.45        S  Third   \n",
      "889       1.0       1    male  26.0      0      0   30.00        C  First   \n",
      "890       0.0       3    male  32.0      0      0    7.75        Q  Third   \n",
      "891       NaN       1    male  72.0      1      0  126.00        S  First   \n",
      "\n",
      "       who  adult_male deck  embark_town alive  alone  is_child  surived  \n",
      "887  woman       False    B  Southampton   yes   True     False      NaN  \n",
      "888  woman       False  NaN  Southampton    no  False     False      NaN  \n",
      "889    man        True    C    Cherbourg   yes   True     False      NaN  \n",
      "890    man        True  NaN   Queenstown    no   True     False      NaN  \n",
      "891    man        True  NaN     Richmond    no  False     False      0.0  \n"
     ]
    },
    {
     "name": "stderr",
     "output_type": "stream",
     "text": [
      "/tmp/ipykernel_1947/3011189391.py:5: FutureWarning: The behavior of DataFrame concatenation with empty or all-NA entries is deprecated. In a future version, this will no longer exclude empty or all-NA columns when determining the result dtypes. To retain the old behavior, exclude the relevant entries before the concat operation.\n",
      "  titanic_concatenated_data_set = pd.concat([titanic_dataset, new_row], ignore_index=True)\n"
     ]
    }
   ],
   "source": [
    "#Concatenate a new row in the data frame\n",
    "new_row = pd.DataFrame({\"surived\":[0], \"pclass\" : [1], \"sex\" : [\"male\"], \"age\" : [72], \"sibsp\": [1], \"parch\" : [0], \"fare\" : [126.00], \"embarked\" : [\"S\"], \"class\" : [\"First\"], \"who\" : [\"man\"],\n",
    "                        \"adult_male\" : [True], \"deck\" : [None], \"embark_town\" : [\"Richmond\"], \"alive\" : [\"no\"], \"alone\" : [False], \"is_child\" : [False]})\n",
    "\n",
    "titanic_concatenated_data_set = pd.concat([titanic_dataset, new_row], ignore_index=True)\n",
    "print(\"Concatenated DataFrame:\\n\")\n",
    "print(titanic_concatenated_data_set.tail())\n"
   ]
  },
  {
   "cell_type": "code",
   "execution_count": 5,
   "metadata": {},
   "outputs": [
    {
     "name": "stdout",
     "output_type": "stream",
     "text": [
      "Concatenated DataFrame:\n",
      "\n",
      "     survived  pclass     sex   age  sibsp  parch    fare embarked  class  \\\n",
      "887       1.0       1  female  19.0      0      0   30.00        S  First   \n",
      "888       0.0       3  female   NaN      1      2   23.45        S  Third   \n",
      "889       1.0       1    male  26.0      0      0   30.00        C  First   \n",
      "890       0.0       3    male  32.0      0      0    7.75        Q  Third   \n",
      "891       NaN       1    male  72.0      1      0  126.00        S  First   \n",
      "\n",
      "       who  adult_male deck  embark_town alive  alone  is_child  surived  \n",
      "887  woman       False    B  Southampton   yes   True     False      NaN  \n",
      "888  woman       False  NaN  Southampton    no  False     False      NaN  \n",
      "889    man        True    C    Cherbourg   yes   True     False      NaN  \n",
      "890    man        True  NaN   Queenstown    no   True     False      NaN  \n",
      "891    man        True  NaN     Richmond    no  False     False      0.0  \n"
     ]
    }
   ],
   "source": [
    "# To fix FutureWarning Error on The behavior of DataFrame concatenation with empty or all-NA entries is deprecated. In a future version, this will no longer exclude empty or all-NA columns when determining the result dtypes. To retain the old behavior, exclude the relevant entries before the concat operation.\n",
    "\n",
    "# Remove empty columns before concatenating\n",
    "\n",
    "new_row_cleaned = new_row.dropna(axis=1, how='all') \n",
    "\n",
    "titanic_concatenated_data_set = pd.concat([titanic_dataset, new_row_cleaned], ignore_index=True)\n",
    "print(\"Concatenated DataFrame:\\n\")\n",
    "print(titanic_concatenated_data_set.tail())"
   ]
  },
  {
   "cell_type": "markdown",
   "metadata": {},
   "source": [
    "## Descriptive Statistics of Titanic Data Set"
   ]
  },
  {
   "cell_type": "code",
   "execution_count": null,
   "metadata": {},
   "outputs": [
    {
     "name": "stdout",
     "output_type": "stream",
     "text": [
      "Data Type:  <class 'pandas.core.frame.DataFrame'>\n",
      "Mean of Age:  29.69911764705882\n",
      "Median of Age:  28.0\n",
      "Mode of Age:  24.0\n"
     ]
    }
   ],
   "source": [
    "# Calculate Basic Statistics \n",
    "# Central Tendancy - Mean, Median and Mode\n",
    "# Mean - Average of Given Values\n",
    "print(\"Data Type: \", type(titanic_dataset))\n",
    "mean_age = titanic_dataset[\"age\"].mean()\n",
    "print(\"Mean of Age: \", mean_age)\n",
    "# Median - Middle value \n",
    "median_age = titanic_dataset[\"age\"].median()\n",
    "print(\"Median of Age: \", median_age)\n",
    "# Mode - Most Frequency Occuring Value\n",
    "mode_age = titanic_dataset[\"age\"].mode()[0]\n",
    "print(\"Mode of Age: \", mode_age)\n",
    "\n"
   ]
  },
  {
   "cell_type": "markdown",
   "metadata": {},
   "source": [
    "## Measures of Variability: Standard Deviation"
   ]
  },
  {
   "cell_type": "code",
   "execution_count": 7,
   "metadata": {},
   "outputs": [
    {
     "name": "stdout",
     "output_type": "stream",
     "text": [
      "Standard Deviation of Age is 14.516321150817316\n"
     ]
    }
   ],
   "source": [
    "# Measures of Dispersion (Variability)\n",
    "\n",
    "# The most common way to gauge the variability is via Standard Deviation\n",
    "\n",
    "# Standard Deviation - Measures how much the values in the dataset vary around the mean\n",
    "\n",
    "std_deviation_age = np.std(titanic_dataset[\"age\"])\n",
    "print(f\"Standard Deviation of Age is {std_deviation_age}\")"
   ]
  },
  {
   "cell_type": "markdown",
   "metadata": {},
   "source": [
    "### Quartiles and Percentails"
   ]
  },
  {
   "cell_type": "code",
   "execution_count": 13,
   "metadata": {},
   "outputs": [
    {
     "name": "stdout",
     "output_type": "stream",
     "text": [
      "99th Percentail of Age using numpy: 65.87\n",
      "First Percentail of Age using numpy: 20.125\n",
      "Third Percentail of Age using numpy: 38.0\n"
     ]
    }
   ],
   "source": [
    "# Percentails - Using NumPy\n",
    "# dropna function will drop NA values\n",
    "total_percentail_age_np = np.percentile(titanic_dataset[\"age\"].dropna(), 99)\n",
    "print(f\"99th Percentail of Age using numpy: {total_percentail_age_np}\")\n",
    "\n",
    "quartile1_age_np = np.percentile(titanic_dataset[\"age\"].dropna(), 25)\n",
    "print(f\"First Percentail of Age using numpy: {quartile1_age_np}\")\n",
    "\n",
    "quartile3_age_np = np.percentile(titanic_dataset[\"age\"].dropna(), 75)\n",
    "print(f\"Third Percentail of Age using numpy: {quartile3_age_np}\")"
   ]
  },
  {
   "cell_type": "code",
   "execution_count": 14,
   "metadata": {},
   "outputs": [
    {
     "name": "stdout",
     "output_type": "stream",
     "text": [
      "99th Percentail of Age using numpy: 65.87\n",
      "First Percentail of Age using numpy: 20.125\n",
      "Third Percentail of Age using numpy: 38.0\n"
     ]
    }
   ],
   "source": [
    "# Percentails - Using Pandas\n",
    "# dropna function will drop NA values\n",
    "total_percentail_age_np = titanic_dataset[\"age\"].quantile(0.99)\n",
    "print(f\"99th Percentail of Age using numpy: {total_percentail_age_np}\")\n",
    "\n",
    "quartile1_age_np = titanic_dataset[\"age\"].quantile(0.25)\n",
    "print(f\"First Percentail of Age using numpy: {quartile1_age_np}\")\n",
    "\n",
    "quartile3_age_np = titanic_dataset[\"age\"].quantile(0.75)\n",
    "print(f\"Third Percentail of Age using numpy: {quartile3_age_np}\")"
   ]
  },
  {
   "cell_type": "code",
   "execution_count": 18,
   "metadata": {},
   "outputs": [
    {
     "name": "stdout",
     "output_type": "stream",
     "text": [
      "Mean of age and fare age     29.699118\n",
      "fare    32.204208\n",
      "dtype: float64\n",
      "Median of age and fare age     28.0000\n",
      "fare    14.4542\n",
      "dtype: float64\n",
      "Mode of age and fare age     24.00\n",
      "fare     8.05\n",
      "Name: 0, dtype: float64\n"
     ]
    }
   ],
   "source": [
    "# Descriptive Stats of Fares\n",
    "age_fare_sub_dataset = titanic_dataset[['age', 'fare']]\n",
    "\n",
    "# Calcualte mean, median and mode of age and fare columns in the titanic data set\n",
    "print(f'Mean of age and fare', age_fare_sub_dataset.mean())\n",
    "print(f'Median of age and fare', age_fare_sub_dataset.median())\n",
    "print(f'Mode of age and fare', age_fare_sub_dataset.mode().iloc[0])"
   ]
  },
  {
   "cell_type": "code",
   "execution_count": null,
   "metadata": {},
   "outputs": [],
   "source": []
  }
 ],
 "metadata": {
  "kernelspec": {
   "display_name": "Python 3",
   "language": "python",
   "name": "python3"
  },
  "language_info": {
   "codemirror_mode": {
    "name": "ipython",
    "version": 3
   },
   "file_extension": ".py",
   "mimetype": "text/x-python",
   "name": "python",
   "nbconvert_exporter": "python",
   "pygments_lexer": "ipython3",
   "version": "3.12.1"
  }
 },
 "nbformat": 4,
 "nbformat_minor": 2
}
