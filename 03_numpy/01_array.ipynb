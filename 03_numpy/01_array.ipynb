{
 "cells": [
  {
   "cell_type": "markdown",
   "metadata": {},
   "source": [
    "# Creating a Numpy Array"
   ]
  },
  {
   "cell_type": "code",
   "execution_count": 2,
   "metadata": {},
   "outputs": [],
   "source": [
    "# Import Package\n",
    "\n",
    "import numpy as np"
   ]
  },
  {
   "cell_type": "markdown",
   "metadata": {},
   "source": [
    "## One Dimentional NumPy Array Creation"
   ]
  },
  {
   "cell_type": "code",
   "execution_count": 3,
   "metadata": {},
   "outputs": [
    {
     "name": "stdout",
     "output_type": "stream",
     "text": [
      "[1 2 3 4 5]\n"
     ]
    }
   ],
   "source": [
    "# Regular Python list to one dimentional NumPy Array\n",
    "\n",
    "# Create a Python list\n",
    "py_list = [1, 2, 3, 4, 5]\n",
    "\n",
    "# Convert list to a Numpy array\n",
    "np_array = np.array(py_list)\n",
    "\n",
    "print(np_array) # Output: [1 2 3 4 5]"
   ]
  },
  {
   "cell_type": "markdown",
   "metadata": {},
   "source": [
    "## Two Dimentional NumPy Array Creation"
   ]
  },
  {
   "cell_type": "code",
   "execution_count": 4,
   "metadata": {},
   "outputs": [
    {
     "name": "stdout",
     "output_type": "stream",
     "text": [
      "[[1 2 3]\n",
      " [4 5 6]\n",
      " [7 8 9]]\n"
     ]
    }
   ],
   "source": [
    "# Create a 2D Python list\n",
    "py_2dim_list = [[1, 2, 3], [4, 5, 6], [7, 8, 9]]\n",
    "\n",
    "# Convert list to a Numpy array\n",
    "np_2dim_array = np.array(py_2dim_list)\n",
    "\n",
    "print(np_2dim_array)"
   ]
  },
  {
   "cell_type": "markdown",
   "metadata": {},
   "source": [
    "## Attributes of NumPy Array"
   ]
  },
  {
   "cell_type": "code",
   "execution_count": 5,
   "metadata": {},
   "outputs": [
    {
     "name": "stdout",
     "output_type": "stream",
     "text": [
      "Dimensions:  2\n",
      "Shape:  (3, 3)\n",
      "Size:  9\n",
      "Data Type:  int64\n"
     ]
    }
   ],
   "source": [
    "# ndim - The number of dimensions of the array.\n",
    "print(\"Dimensions: \", np_2dim_array.ndim) # Dimensions:  2\n",
    "\n",
    "# The size of each dimension\n",
    "print(\"Shape: \", np_2dim_array.shape)     # Shape:  (3, 3)\n",
    "\n",
    "# The total number of elements in the array.\n",
    "print(\"Size: \", np_2dim_array.size)       # Size: 9 because ( 3 x 3 )\n",
    "\n",
    "# The data type of the elements in the array.\n",
    "print(\"Data Type: \", np_2dim_array.dtype) # Data Type:  int64"
   ]
  },
  {
   "cell_type": "markdown",
   "metadata": {},
   "source": [
    "## Array Manipulations"
   ]
  },
  {
   "cell_type": "code",
   "execution_count": 22,
   "metadata": {},
   "outputs": [
    {
     "name": "stdout",
     "output_type": "stream",
     "text": [
      "Indexed Value:  6\n",
      "Sliced Value:  [2 3]\n",
      "Reshaped Array:\n",
      " [[1]\n",
      " [2]\n",
      " [3]\n",
      " [4]\n",
      " [5]]\n"
     ]
    }
   ],
   "source": [
    "# Indexing: specific positions (indexing) \n",
    "print(\"Indexed Value: \", np_2dim_array[1, 2]) # Indexed Value:  6\n",
    "\n",
    "# Slicing: slices of the array\n",
    "print(\"Sliced Value: \", np_2dim_array[0,1:3]) # Sliced Value:  [2 3]\n",
    "\n",
    "# Reshape: Change the shape of the 1D array to 2D array (the reshape size should match the original size)\n",
    "reshaped_array = np_array.reshape(5, 1)\n",
    "print(\"Reshaped Array:\\n\", reshaped_array)"
   ]
  },
  {
   "cell_type": "markdown",
   "metadata": {},
   "source": [
    "## Array Operations"
   ]
  },
  {
   "cell_type": "code",
   "execution_count": 24,
   "metadata": {},
   "outputs": [
    {
     "name": "stdout",
     "output_type": "stream",
     "text": [
      "[3 5 7]\n",
      "[-3 -3 -3]\n",
      "[ 0  4 10]\n",
      "[0.   0.25 0.4 ]\n"
     ]
    }
   ],
   "source": [
    "numpy_array1 = np.array([0, 1, 2])\n",
    "numpy_array2 = np.array([3, 4, 5])\n",
    "\n",
    "# Add Two NumPy Arrays\n",
    "print(numpy_array1 + numpy_array2) # Output:  [0 + 3, 1 + 4, 2 + 5] = [3, 5, 7]\n",
    "\n",
    "# Subract NumPy Arrays\n",
    "print(numpy_array1 - numpy_array2) # Output: [0 - 3, 1 - 4, 2 - 5] = [-3, -5, -7]\n",
    "\n",
    "# Multiply NumPy Arrays\n",
    "print(numpy_array1 * numpy_array2) # Output: [0 * 3, 1 * 4, 2 * 5] = [0, 4, 10]\n",
    "\n",
    "# Divide NumPy Arrays\n",
    "print(numpy_array1 / numpy_array2) # Output: [0 / 3, 1 / 4, 2 / 5] = [0, 0.25, 0.4]"
   ]
  }
 ],
 "metadata": {
  "kernelspec": {
   "display_name": "Python 3",
   "language": "python",
   "name": "python3"
  },
  "language_info": {
   "codemirror_mode": {
    "name": "ipython",
    "version": 3
   },
   "file_extension": ".py",
   "mimetype": "text/x-python",
   "name": "python",
   "nbconvert_exporter": "python",
   "pygments_lexer": "ipython3",
   "version": "3.12.1"
  }
 },
 "nbformat": 4,
 "nbformat_minor": 2
}
