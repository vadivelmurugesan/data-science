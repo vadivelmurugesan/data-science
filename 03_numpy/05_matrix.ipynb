{
 "cells": [
  {
   "cell_type": "markdown",
   "metadata": {},
   "source": [
    "## Matrix Operations"
   ]
  },
  {
   "cell_type": "markdown",
   "metadata": {},
   "source": [
    "Matrix is a two-dimensional array that contains numbers. "
   ]
  },
  {
   "cell_type": "code",
   "execution_count": 3,
   "metadata": {},
   "outputs": [
    {
     "data": {
      "text/plain": [
       "array([[1, 2, 3],\n",
       "       [4, 5, 6],\n",
       "       [7, 8, 9]])"
      ]
     },
     "execution_count": 3,
     "metadata": {},
     "output_type": "execute_result"
    }
   ],
   "source": [
    "import numpy as np\n",
    "\n",
    "matrix_A = np.array([[1, 2, 3], [4, 5, 6], [7, 8, 9]])\n",
    "\n",
    "matrix_A"
   ]
  },
  {
   "cell_type": "markdown",
   "metadata": {},
   "source": [
    "### Matrix operations - Addition"
   ]
  },
  {
   "cell_type": "code",
   "execution_count": 4,
   "metadata": {},
   "outputs": [
    {
     "data": {
      "text/plain": [
       "array([[ 3,  5,  7],\n",
       "       [ 7,  9, 11],\n",
       "       [11, 13, 15]])"
      ]
     },
     "execution_count": 4,
     "metadata": {},
     "output_type": "execute_result"
    }
   ],
   "source": [
    "matrix_B = np.array([[2, 3, 4], [3, 4, 5], [4, 5, 6]])\n",
    "\n",
    "add_A_B = matrix_A + matrix_B\n",
    "\n",
    "add_A_B"
   ]
  },
  {
   "cell_type": "markdown",
   "metadata": {},
   "source": [
    "### Matrix Operations - Subraction"
   ]
  },
  {
   "cell_type": "code",
   "execution_count": 5,
   "metadata": {},
   "outputs": [
    {
     "data": {
      "text/plain": [
       "array([[-1, -1, -1],\n",
       "       [ 1,  1,  1],\n",
       "       [ 3,  3,  3]])"
      ]
     },
     "execution_count": 5,
     "metadata": {},
     "output_type": "execute_result"
    }
   ],
   "source": [
    "subtract_A_B = matrix_A - matrix_B\n",
    "\n",
    "subtract_A_B"
   ]
  },
  {
   "cell_type": "markdown",
   "metadata": {},
   "source": [
    "### Matrix Operations - Multiplication"
   ]
  },
  {
   "cell_type": "code",
   "execution_count": 6,
   "metadata": {},
   "outputs": [
    {
     "data": {
      "text/plain": [
       "array([[ 2,  6, 12],\n",
       "       [12, 20, 30],\n",
       "       [28, 40, 54]])"
      ]
     },
     "execution_count": 6,
     "metadata": {},
     "output_type": "execute_result"
    }
   ],
   "source": [
    "multiply_A_B = matrix_A * matrix_B\n",
    "\n",
    "multiply_A_B"
   ]
  },
  {
   "cell_type": "markdown",
   "metadata": {},
   "source": [
    "### Matrix Operations - Division\n",
    "\n",
    "Matrix Inverse helps to perform division. The inverse of matrix A multiplies with A yields the identity matrix. The identity matrix in the world of matrices is equivalent to the number 1, and any matrix multiplied by the identity matrix returns the original matrix."
   ]
  },
  {
   "cell_type": "code",
   "execution_count": 7,
   "metadata": {},
   "outputs": [
    {
     "data": {
      "text/plain": [
       "array([[ 2.5       , -3.25      ,  1.25      ],\n",
       "       [-4.        ,  4.75      , -1.75      ],\n",
       "       [ 1.66666667, -1.83333333,  0.66666667]])"
      ]
     },
     "execution_count": 7,
     "metadata": {},
     "output_type": "execute_result"
    }
   ],
   "source": [
    "# Finding the inverse of matrix (multiply_A_B)\n",
    "\n",
    "divide_A_B = np.linalg.inv(multiply_A_B)\n",
    "\n",
    "divide_A_B"
   ]
  },
  {
   "cell_type": "code",
   "execution_count": 9,
   "metadata": {},
   "outputs": [
    {
     "data": {
      "text/plain": [
       "array([[-6.38888889e-01, -1.66666667e-01,  3.05555556e-01],\n",
       "       [-5.55555556e-02,  3.36727575e-17,  5.55555556e-02],\n",
       "       [ 5.27777778e-01,  1.66666667e-01, -1.94444444e-01]])"
      ]
     },
     "execution_count": 9,
     "metadata": {},
     "output_type": "execute_result"
    }
   ],
   "source": [
    "# Finding the pseduo-inverse of matrix of A\n",
    "\n",
    "pseduo_inverse_A = np.linalg.pinv(matrix_A)\n",
    "\n",
    "pseduo_inverse_A"
   ]
  },
  {
   "cell_type": "markdown",
   "metadata": {},
   "source": [
    "### Matrix Operations - Transpose\n",
    "\n",
    "The transpose of a matrix is an operator that flips a matrix over its diagonal, i.e., it switches the row and column indices of the matrix by producing another matrix denoted as \\(A^T\\).\n",
    " \n",
    "In numpy, you can get the transpose of a matrix using the `.T` attribute."
   ]
  },
  {
   "cell_type": "code",
   "execution_count": 10,
   "metadata": {},
   "outputs": [
    {
     "data": {
      "text/plain": [
       "array([[1, 4, 7],\n",
       "       [2, 5, 8],\n",
       "       [3, 6, 9]])"
      ]
     },
     "execution_count": 10,
     "metadata": {},
     "output_type": "execute_result"
    }
   ],
   "source": [
    "transpose_val = np.transpose(matrix_A)\n",
    "\n",
    "transpose_val"
   ]
  },
  {
   "cell_type": "code",
   "execution_count": 11,
   "metadata": {},
   "outputs": [
    {
     "data": {
      "text/plain": [
       "array([[1, 2, 3],\n",
       "       [4, 5, 6],\n",
       "       [7, 8, 9]])"
      ]
     },
     "execution_count": 11,
     "metadata": {},
     "output_type": "execute_result"
    }
   ],
   "source": [
    "transpose_val.T"
   ]
  },
  {
   "cell_type": "code",
   "execution_count": 13,
   "metadata": {},
   "outputs": [
    {
     "name": "stdout",
     "output_type": "stream",
     "text": [
      "[[123 234]\n",
      " [456 567]\n",
      " [789 890]]\n"
     ]
    }
   ],
   "source": [
    "feature_1 = np.array([[123], [456], [789]])\n",
    "feature_2 = np.array([[234], [567], [890]])\n",
    "\n",
    "# Combine the two features into one matrix horizontally. \n",
    "\n",
    "data_features = np.hstack((feature_1, feature_2))\n",
    "print(data_features)\n"
   ]
  },
  {
   "cell_type": "code",
   "execution_count": 15,
   "metadata": {},
   "outputs": [
    {
     "data": {
      "text/plain": [
       "array([[0.0866728 , 0.16488971],\n",
       "       [0.32132354, 0.39954046],\n",
       "       [0.55597429, 0.62714464]])"
      ]
     },
     "execution_count": 15,
     "metadata": {},
     "output_type": "execute_result"
    }
   ],
   "source": [
    "# normalize data - put all the values into 0 to 1 range.\n",
    "\n",
    "normalized_data_features = data_features / np.linalg.norm(data_features)\n",
    "\n",
    "normalized_data_features"
   ]
  },
  {
   "cell_type": "code",
   "execution_count": 16,
   "metadata": {},
   "outputs": [
    {
     "data": {
      "text/plain": [
       "array([[0.        , 0.14471969],\n",
       "       [0.43415906, 0.57887875],\n",
       "       [0.86831812, 1.        ]])"
      ]
     },
     "execution_count": 16,
     "metadata": {},
     "output_type": "execute_result"
    }
   ],
   "source": [
    "# Min Max Normalization\n",
    "\n",
    "normalized_data_features = (data_features - np.min(data_features)) / (np.max(data_features) - np.min(data_features))\n",
    "\n",
    "normalized_data_features"
   ]
  },
  {
   "cell_type": "code",
   "execution_count": 17,
   "metadata": {},
   "outputs": [
    {
     "name": "stdout",
     "output_type": "stream",
     "text": [
      "[189.6 522.6 849.6]\n"
     ]
    }
   ],
   "source": [
    "# Simulate the weights of features\n",
    "weights = np.array([0.4, 0.6])\n",
    "\n",
    "# Calculate the weighted sum of features\n",
    "weighted_sum_features = np.dot(data_features, weights)\n",
    "print(weighted_sum_features)"
   ]
  }
 ],
 "metadata": {
  "kernelspec": {
   "display_name": "Python 3",
   "language": "python",
   "name": "python3"
  },
  "language_info": {
   "codemirror_mode": {
    "name": "ipython",
    "version": 3
   },
   "file_extension": ".py",
   "mimetype": "text/x-python",
   "name": "python",
   "nbconvert_exporter": "python",
   "pygments_lexer": "ipython3",
   "version": "3.12.0"
  }
 },
 "nbformat": 4,
 "nbformat_minor": 2
}
