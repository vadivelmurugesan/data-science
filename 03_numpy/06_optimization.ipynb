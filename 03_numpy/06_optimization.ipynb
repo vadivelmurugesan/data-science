{
 "cells": [
  {
   "cell_type": "markdown",
   "metadata": {},
   "source": [
    "## Advanced NumPy Optimization"
   ]
  },
  {
   "cell_type": "code",
   "execution_count": 1,
   "metadata": {},
   "outputs": [
    {
     "name": "stdout",
     "output_type": "stream",
     "text": [
      "Use built-in sum function 499734.11985964864\n",
      "Time taken:  0.08043098449707031\n",
      "Use numpy's sum function 499734.1198596338\n",
      "Time taken:  0.0006358623504638672\n"
     ]
    }
   ],
   "source": [
    "import numpy as np\n",
    "import time\n",
    "\n",
    "large_array = np.random.random(10**6)\n",
    "\n",
    "# Traditional way of summing elements in an array\n",
    "start = time.time()\n",
    "print(\"Use built-in sum function\", sum(large_array))\n",
    "print(\"Time taken: \", time.time() - start)\n",
    "\n",
    "# Using numpy's sum function\n",
    "start = time.time()\n",
    "print(\"Use numpy's sum function\", np.sum(large_array))\n",
    "print(\"Time taken: \", time.time() - start)\n"
   ]
  },
  {
   "cell_type": "markdown",
   "metadata": {},
   "source": [
    "### Another Example"
   ]
  },
  {
   "cell_type": "code",
   "execution_count": 2,
   "metadata": {},
   "outputs": [
    {
     "name": "stdout",
     "output_type": "stream",
     "text": [
      "Python Sum - 24983.65396896353, Time taken: 0 days 00:00:00.005149\n",
      "Numpy Sum - 24983.653968963645, Time taken: 0 days 00:00:00.000391\n"
     ]
    }
   ],
   "source": [
    "import numpy as np\n",
    "import pandas as pd\n",
    "import time\n",
    "\n",
    "large_array = np.random.random(50000)\n",
    "\n",
    "# Compute sum using built-in sum function\n",
    "python_start_time = pd.Timestamp.now()\n",
    "python_sum = sum(large_array)\n",
    "python_end_time = pd.Timestamp.now()\n",
    "print(f\"Python Sum - {python_sum}, Time taken: {python_end_time - python_start_time}\")\n",
    "\n",
    "# Compute sum using numpy's sum function\n",
    "numpy_start_time = pd.Timestamp.now()\n",
    "numpy_sum = np.sum(large_array)\n",
    "numpy_end_time = pd.Timestamp.now()\n",
    "print(f\"Numpy Sum - {numpy_sum}, Time taken: {numpy_end_time - numpy_start_time}\")\n"
   ]
  }
 ],
 "metadata": {
  "kernelspec": {
   "display_name": "Python 3",
   "language": "python",
   "name": "python3"
  },
  "language_info": {
   "codemirror_mode": {
    "name": "ipython",
    "version": 3
   },
   "file_extension": ".py",
   "mimetype": "text/x-python",
   "name": "python",
   "nbconvert_exporter": "python",
   "pygments_lexer": "ipython3",
   "version": "3.12.0"
  }
 },
 "nbformat": 4,
 "nbformat_minor": 2
}
